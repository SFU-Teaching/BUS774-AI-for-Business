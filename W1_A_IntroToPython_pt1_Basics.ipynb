{
 "cells": [
  {
   "cell_type": "markdown",
   "metadata": {
    "id": "A7srZ8TkBMj7"
   },
   "source": [
    "# Introduction to Programming in Python\n",
    "### C Kaligotla | BUS 774 ST: AI for Business\n",
    "### 27 Jan 2025"
   ]
  },
  {
   "cell_type": "markdown",
   "metadata": {
    "id": "-u3WiLe9AIBe"
   },
   "source": [
    "##### Some golden rules when dealing with code:\n",
    "\n",
    "1. Don’t Panic\n",
    "It’s okay to struggle. Cussing is okay and normal though…\n",
    "2. If something doesn’t work, try again.\n",
    "If it works the first time, be suspicious\n",
    "3. RTFM\n",
    "Use the help functions in suite\n",
    "4. Look things up - Google it!, Look up Stack Overflow\n",
    "Most of coding, including analytics code involves looking up stuff\n",
    "5. Ask for help\n",
    "Your classmates, your friends, Stack overflow, or me!"
   ]
  },
  {
   "cell_type": "markdown",
   "metadata": {
    "id": "Pw4WHCKxAIBf"
   },
   "source": [
    "Python is a high-level, general-purpose programming language.\n",
    "\n",
    "Python is an interpreted language\n",
    "\n",
    "The interpreter provides an interactive environment to play with the language\n",
    "\n",
    "![image-3.png](attachment:image-3.png)"
   ]
  },
  {
   "cell_type": "markdown",
   "metadata": {
    "id": "k-kcTcUhAIBf"
   },
   "source": []
  },
  {
   "cell_type": "markdown",
   "metadata": {
    "id": "xXRiX-JZBMj_"
   },
   "source": [
    "#### **Chapter 1. Basic Intro**"
   ]
  },
  {
   "cell_type": "markdown",
   "metadata": {
    "id": "N5xBoUuIBMj_"
   },
   "source": [
    "This workshop is designed as an introduction to Python specifically for Data Analysis used in BUS 774 G200.\n",
    "If you are new to Python and programming, and you want a more general introduction to Python programming - I'd recommend additional Tutorials. I will provide some options at the end of the course.\n",
    "\n",
    "Things to keep in mind:\n",
    "\n",
    "1. Python is the programming language\n",
    "\n",
    "2. Jupyter notebooks is the environment for writing and executing Python interactively (one or a few lines at a time)\n",
    "\n",
    "3. Anaconda is one of the distribution packages that provides Python, some standard Python libraries, Juptyter, and a bunch of other stuff.\n",
    "\n",
    "4. Google Colab (https://colab.google/) a hosted Jupyter Notebook service that requires no setup to use."
   ]
  },
  {
   "cell_type": "markdown",
   "metadata": {
    "id": "L9dOKSgqBMkA"
   },
   "source": [
    "The Jupyter notebook interface is very simple: it is a web page with interactive cells in which you type short snippets of Python. You then hit \"Shift-Enter\" to run the code and the results are shown immediately below.\n",
    "    Note: Python will only display the output (if any) of the last line in a cell.\n",
    "\n",
    "You can also enter plain text into cells (called “markdown”) to document what you are doing or any notes you wish to take.\n",
    "\n",
    "You can also use comments in your code by using'#'. Note that Python will not run anything after the '#' sign. See example below.\n",
    "\n",
    "Careful with indenting in Python\n",
    "    Python considers indents as a chaining command\n",
    "    It's fine to do it with text or your notes, but not with code!"
   ]
  },
  {
   "cell_type": "markdown",
   "metadata": {
    "id": "771klYPZBMkA"
   },
   "source": [
    "First Things First.\n",
    "\n",
    "1. Install Anaconda on your computer.\n",
    "2. Then open Anaconda and ensure Jupyter Notebook is installed.\n",
    "3. Click on Jupyter Notebook and navigate to the location of the notebook you want to open, or where you want to save your notebook.\n",
    "\n",
    "A note on Jupyter Notebooks:\n",
    "1. To enter a new line of code or text, simply choose the \"+\" button from the menu.\n",
    "    -> The default is a code entry cell -- you will see an \"In []\" symbol to the left of the cell.\n",
    "    -> To enter text simply choose the dropdown list on the right of the menu options and choose \"Markdown\"."
   ]
  },
  {
   "cell_type": "code",
   "execution_count": 1,
   "metadata": {
    "colab": {
     "base_uri": "https://localhost:8080/"
    },
    "id": "0wA06HSKBMkB",
    "outputId": "9ef5734b-a64e-4dac-8443-ee335056be3a",
    "scrolled": true
   },
   "outputs": [
    {
     "name": "stdout",
     "output_type": "stream",
     "text": [
      "The Zen of Python, by Tim Peters\n",
      "\n",
      "Beautiful is better than ugly.\n",
      "Explicit is better than implicit.\n",
      "Simple is better than complex.\n",
      "Complex is better than complicated.\n",
      "Flat is better than nested.\n",
      "Sparse is better than dense.\n",
      "Readability counts.\n",
      "Special cases aren't special enough to break the rules.\n",
      "Although practicality beats purity.\n",
      "Errors should never pass silently.\n",
      "Unless explicitly silenced.\n",
      "In the face of ambiguity, refuse the temptation to guess.\n",
      "There should be one-- and preferably only one --obvious way to do it.\n",
      "Although that way may not be obvious at first unless you're Dutch.\n",
      "Now is better than never.\n",
      "Although never is often better than *right* now.\n",
      "If the implementation is hard to explain, it's a bad idea.\n",
      "If the implementation is easy to explain, it may be a good idea.\n",
      "Namespaces are one honking great idea -- let's do more of those!\n"
     ]
    }
   ],
   "source": [
    "# Pyhton's Hidden Mission statement\n",
    "import this"
   ]
  },
  {
   "cell_type": "code",
   "execution_count": 2,
   "metadata": {
    "colab": {
     "base_uri": "https://localhost:8080/"
    },
    "id": "tpSqYP95AIBh",
    "outputId": "8f499ee4-bd99-4528-b6e4-a86b8a3468b2"
   },
   "outputs": [
    {
     "data": {
      "text/plain": [
       "40"
      ]
     },
     "execution_count": 2,
     "metadata": {},
     "output_type": "execute_result"
    }
   ],
   "source": [
    "5*8"
   ]
  },
  {
   "cell_type": "code",
   "execution_count": 3,
   "metadata": {
    "colab": {
     "base_uri": "https://localhost:8080/"
    },
    "id": "15YM8sGtBMkB",
    "outputId": "b0144121-f5bf-4827-8155-60ecf5ad48d9"
   },
   "outputs": [
    {
     "name": "stdout",
     "output_type": "stream",
     "text": [
      "Hello World\n"
     ]
    }
   ],
   "source": [
    "# a typical first line of any programming language\n",
    "print(\"Hello World\")\n",
    "# you should see an output below when you press \"Shift+Enter\""
   ]
  },
  {
   "cell_type": "code",
   "execution_count": 4,
   "metadata": {
    "colab": {
     "base_uri": "https://localhost:8080/"
    },
    "id": "tWK0-vaRBMkC",
    "outputId": "0c50e5dd-18d0-4695-f596-9e5ee2454de8"
   },
   "outputs": [
    {
     "name": "stdout",
     "output_type": "stream",
     "text": [
      "DONT PANIC\n"
     ]
    }
   ],
   "source": [
    "print('DONT PANIC') #hello"
   ]
  },
  {
   "cell_type": "markdown",
   "metadata": {
    "id": "GZCgThXaBMkC"
   },
   "source": [
    "#### **Chapter 2. Variables, Data Types, and Data Structures**"
   ]
  },
  {
   "cell_type": "markdown",
   "metadata": {
    "id": "e6S2lfN-BMkD"
   },
   "source": [
    "##### 2.1 Variables\n",
    "Variables are basic building blocks of any program.\n",
    "    They are units (of a certain class or type) that are assigned to individual values\n",
    "'=' is the assignment parameter\n",
    "    'a=5' => the value 5 is assigned to variable name 'a'\n",
    "    \n",
    "Few rules of about Variable names:\n",
    "    1. Cannot start with a number, but a number can follow a letter\n",
    "    2. Cannot have special characters except an underscore\n",
    "    3. Typically start variable names with lower case letters\n",
    "        3b. Upper case names typically used for Classes which are different"
   ]
  },
  {
   "cell_type": "code",
   "execution_count": 5,
   "metadata": {
    "colab": {
     "base_uri": "https://localhost:8080/"
    },
    "id": "rhTcb9l3BMkD",
    "outputId": "c6c1f6b1-d433-4b3c-cd61-6f96a33f6530"
   },
   "outputs": [
    {
     "name": "stdout",
     "output_type": "stream",
     "text": [
      "5\n",
      "7\n",
      "The value is x= 5\n"
     ]
    }
   ],
   "source": [
    "#2.1 define a variable\n",
    "x  = 5 # value 5 assigned to variable name x\n",
    "x1 = 7\n",
    "# now let's see what's assigned to this variable\n",
    "\n",
    "#  you can either say print, or you can simply just use the variable name - try it!\n",
    "    # only difference is print's output is shown separately than the output of the last line\n",
    "\n",
    "print(x)\n",
    "print(x1)\n",
    "#x\n",
    "#x1\n",
    "# Now Rerun this cell without the print commands and instead simply call x and x1\n",
    "    #-> remember - jsut remove the # sign to make a comment into a code.\n",
    "    # if you don't use print, the ouput of the cell is the last command\n",
    "    # if you use print, you see all print commands executed!\n",
    "\n",
    "\n",
    "# To type some text in your print command, the basic structure is\n",
    "print('The value is x=',x)\n",
    "    # everything within '..' is considered text,\n",
    "    # the comma and the variable name tells what you want to print after that line\n",
    "\n",
    "# now type out the same for x1!\n",
    "#print()"
   ]
  },
  {
   "cell_type": "code",
   "execution_count": 6,
   "metadata": {
    "colab": {
     "base_uri": "https://localhost:8080/",
     "height": 108
    },
    "id": "FWIYwANUBMkD",
    "outputId": "ab5d18cb-a51f-45ec-91a4-6f9b71fce939"
   },
   "outputs": [
    {
     "ename": "SyntaxError",
     "evalue": "invalid decimal literal (<ipython-input-6-c84b8b2bc708>, line 2)",
     "output_type": "error",
     "traceback": [
      "\u001b[0;36m  File \u001b[0;32m\"<ipython-input-6-c84b8b2bc708>\"\u001b[0;36m, line \u001b[0;32m2\u001b[0m\n\u001b[0;31m    1x = 5\u001b[0m\n\u001b[0m    ^\u001b[0m\n\u001b[0;31mSyntaxError\u001b[0m\u001b[0;31m:\u001b[0m invalid decimal literal\n"
     ]
    }
   ],
   "source": [
    "# getting comfortable with looking up errors\n",
    "1x = 5\n",
    "# remember you cannot start a variable name with a number!\n",
    "# the error is telling you the syntax is invalid\n",
    "# a lot of programming is looking things up - so please get used to seeing errors without panicking"
   ]
  },
  {
   "cell_type": "markdown",
   "metadata": {
    "id": "kKQZ-V-rBMkE"
   },
   "source": [
    "##### 2.2 Basic Variable Data Types\n",
    "\n",
    "A sampling of some basic variable types\n",
    "To see what type of variable, simply use type() command pointing it at the value or variable name\n",
    "\n",
    "1. Numbers (including floats, integers,and complex numbers)\n",
    "    e.g.,\n",
    "    num1 = 52\n",
    "    num2 = 5.2\n",
    "        Floats just means the decimal points float around\n",
    "    num3 = 5\n",
    "        Integers don't have decimal points\n",
    "    num4 = 5j\n",
    "        Complex numbers 'i' (sqrt of -1) is denoted as j in python!"
   ]
  },
  {
   "cell_type": "code",
   "execution_count": 14,
   "metadata": {
    "id": "ROz4lMGUBMkE"
   },
   "outputs": [],
   "source": [
    "num1 = 52\n",
    "num2 = 5.2\n",
    "num3 = 5.0\n",
    "num4 = 5j"
   ]
  },
  {
   "cell_type": "code",
   "execution_count": 15,
   "metadata": {
    "colab": {
     "base_uri": "https://localhost:8080/"
    },
    "id": "3HPe-trJBMkE",
    "outputId": "ee30fb8f-7366-4daf-9249-6938cac56984"
   },
   "outputs": [
    {
     "name": "stdout",
     "output_type": "stream",
     "text": [
      "num 1= 52 is type <class 'int'>\n",
      "num 2= 5.2 is type <class 'float'>\n",
      "num 3= 5.0 is type <class 'float'>\n",
      "num 4= 5j is type <class 'complex'>\n"
     ]
    }
   ],
   "source": [
    "# To see what type of variable, simply use type() command pointing it at the value or variable name\n",
    "print('num 1=',num1, 'is type', type(num1)) # you can use multiple ('<text>',<var/value>) structure in print commands\n",
    "print('num 2=',num2, 'is type', type(num2))\n",
    "print('num 3=',num3, 'is type', type(num3))\n",
    "print('num 4=',num4, 'is type', type(num4))\n",
    "# variables are stored as \"class\" types - i.e., a structure common to all variables in that class"
   ]
  },
  {
   "cell_type": "markdown",
   "metadata": {
    "id": "3MoEVqJtBMkE"
   },
   "source": [
    "2. Strings - characters declared as single or double quotes\n",
    "\n",
    "    let's try the following examples:\n",
    "    s1 = \"String 1\"\n",
    "    s2 = \"String 2\"\n",
    "    \n",
    "    Now saw you want to join the strings (Concontenate)\n",
    "            You can simple add  them together"
   ]
  },
  {
   "cell_type": "code",
   "execution_count": 16,
   "metadata": {
    "colab": {
     "base_uri": "https://localhost:8080/",
     "height": 35
    },
    "id": "d0TFGA6FBMkF",
    "outputId": "d0d12db0-625b-4bc6-925c-2ac43b2172ec"
   },
   "outputs": [
    {
     "data": {
      "application/vnd.google.colaboratory.intrinsic+json": {
       "type": "string"
      },
      "text/plain": [
       "'String 1String 2'"
      ]
     },
     "execution_count": 16,
     "metadata": {},
     "output_type": "execute_result"
    }
   ],
   "source": [
    "s1= \"String 1\"\n",
    "s2= 'String 2'\n",
    "s1 + s2 # just joins the 2 strings!"
   ]
  },
  {
   "cell_type": "code",
   "execution_count": 17,
   "metadata": {
    "colab": {
     "base_uri": "https://localhost:8080/"
    },
    "id": "Opvh2m66BMkF",
    "outputId": "51757527-028c-4011-d407-a126b692cd19"
   },
   "outputs": [
    {
     "name": "stdout",
     "output_type": "stream",
     "text": [
      "String 1 String 2\n"
     ]
    }
   ],
   "source": [
    "# say you want add a spacce\n",
    "print(s1 + ' '+ s2) #(you can simply add a space within + and write a chain of additions)"
   ]
  },
  {
   "cell_type": "code",
   "execution_count": 18,
   "metadata": {
    "colab": {
     "base_uri": "https://localhost:8080/",
     "height": 35
    },
    "id": "6YTTHzFuBMkF",
    "outputId": "51b6df71-7950-4dcf-a861-f1c78f44eef6"
   },
   "outputs": [
    {
     "data": {
      "application/vnd.google.colaboratory.intrinsic+json": {
       "type": "string"
      },
      "text/plain": [
       "'11'"
      ]
     },
     "execution_count": 18,
     "metadata": {},
     "output_type": "execute_result"
    }
   ],
   "source": [
    "# now try this:\n",
    "s1 = '1'\n",
    "s2 = '1'\n",
    "# we declare both these as strings or charcters\n",
    "#If you add them, say\n",
    "#s1 + s2 -  What is the answeR?\n",
    "s1 + s2 # recall you are adding as strings"
   ]
  },
  {
   "cell_type": "code",
   "execution_count": 19,
   "metadata": {
    "colab": {
     "base_uri": "https://localhost:8080/",
     "height": 161
    },
    "id": "PkfMypprBMkF",
    "outputId": "a3d31443-0ce1-4f6c-95bd-b75b27dcf061",
    "scrolled": true
   },
   "outputs": [
    {
     "ename": "TypeError",
     "evalue": "can only concatenate str (not \"int\") to str",
     "output_type": "error",
     "traceback": [
      "\u001b[0;31m---------------------------------------------------------------------------\u001b[0m",
      "\u001b[0;31mTypeError\u001b[0m                                 Traceback (most recent call last)",
      "\u001b[0;32m<ipython-input-19-74a033c5d908>\u001b[0m in \u001b[0;36m<cell line: 0>\u001b[0;34m()\u001b[0m\n\u001b[1;32m      1\u001b[0m \u001b[0;31m# now try this\u001b[0m\u001b[0;34m\u001b[0m\u001b[0;34m\u001b[0m\u001b[0m\n\u001b[0;32m----> 2\u001b[0;31m \u001b[0;34m'1'\u001b[0m \u001b[0;34m+\u001b[0m \u001b[0;36m1\u001b[0m\u001b[0;34m\u001b[0m\u001b[0;34m\u001b[0m\u001b[0m\n\u001b[0m",
      "\u001b[0;31mTypeError\u001b[0m: can only concatenate str (not \"int\") to str"
     ]
    }
   ],
   "source": [
    "# now try this\n",
    "'1' + 1"
   ]
  },
  {
   "cell_type": "markdown",
   "metadata": {
    "id": "sRqYtQ9ZBMkF"
   },
   "source": [
    "You cannopt add an int to a character string!\n",
    "Get comfy reading errors!"
   ]
  },
  {
   "cell_type": "markdown",
   "metadata": {
    "id": "4KnAWcAVBMkF"
   },
   "source": [
    "3. Booleans\n",
    "    - simply True or False\n",
    "    - Used for logic operations or statements"
   ]
  },
  {
   "cell_type": "code",
   "execution_count": 20,
   "metadata": {
    "id": "HCIq8JLGBMkG"
   },
   "outputs": [],
   "source": [
    "x=True\n",
    "y=False"
   ]
  },
  {
   "cell_type": "code",
   "execution_count": 21,
   "metadata": {
    "colab": {
     "base_uri": "https://localhost:8080/"
    },
    "id": "1OqPGptgBMkG",
    "outputId": "c49aa661-83df-4da2-ce20-9ffcefebbc5d"
   },
   "outputs": [
    {
     "data": {
      "text/plain": [
       "False"
      ]
     },
     "execution_count": 21,
     "metadata": {},
     "output_type": "execute_result"
    }
   ],
   "source": [
    "x==y"
   ]
  },
  {
   "cell_type": "code",
   "execution_count": 22,
   "metadata": {
    "colab": {
     "base_uri": "https://localhost:8080/"
    },
    "id": "tWg3PSKsBMkG",
    "outputId": "50235544-f8d9-4960-8439-249fe1a4d449"
   },
   "outputs": [
    {
     "data": {
      "text/plain": [
       "True"
      ]
     },
     "execution_count": 22,
     "metadata": {},
     "output_type": "execute_result"
    }
   ],
   "source": [
    "x!=y # != is Not Equal to"
   ]
  },
  {
   "cell_type": "code",
   "execution_count": 23,
   "metadata": {
    "id": "CE2siOdCBMkG"
   },
   "outputs": [],
   "source": [
    "#what is this program doing?\n",
    "n1 = 5\n",
    "n2 = 5\n",
    "ans = (n1==n2)\n",
    "# What will the output be?"
   ]
  },
  {
   "cell_type": "code",
   "execution_count": 24,
   "metadata": {
    "colab": {
     "base_uri": "https://localhost:8080/"
    },
    "id": "BtKCq7DFBMkH",
    "outputId": "8b06d33d-11fe-40b1-e78f-bb8e6d9dee94"
   },
   "outputs": [
    {
     "name": "stdout",
     "output_type": "stream",
     "text": [
      "True\n"
     ]
    },
    {
     "data": {
      "text/plain": [
       "bool"
      ]
     },
     "execution_count": 24,
     "metadata": {},
     "output_type": "execute_result"
    }
   ],
   "source": [
    "print(ans)\n",
    "# let's check the type of ans\n",
    "type(ans)\n",
    "# bool is boolean"
   ]
  },
  {
   "cell_type": "markdown",
   "metadata": {
    "id": "aJT8yNUABMkH"
   },
   "source": [
    "##### 2.3 Data Structures\n",
    "\n",
    "While variables are assigned a single value,\n",
    "    there are other data structures in Python that can take multiple values or an array of values\n",
    "\n",
    "Some common Data Structures in Python:\n",
    "\n",
    "    1. Lists\n",
    "        List of numbers\n",
    "        List of strings\n",
    "        List of Lists\n",
    "        \n",
    "    2. Sets\n",
    "        All elements of sets have to be unique!\n",
    "        Set of Sets!\n",
    "        \n",
    "    3. Tuples\n",
    "    \n",
    "    4. Dictionaries\n",
    "\n",
    "Some useful command for data structures:\n",
    "    len() -> gives the length of the list, i.e., # of elements\n"
   ]
  },
  {
   "cell_type": "markdown",
   "metadata": {
    "id": "XTDwPZsmBMkH"
   },
   "source": [
    "###### 2.3.1 LISTS\n",
    "think about lists as an array of values, of any data type\n",
    "we define lists using '= [ , ]' structure, i.e., square brackets where each element separated by a comma\n",
    "let's start with a list of numbers\n"
   ]
  },
  {
   "cell_type": "code",
   "execution_count": 25,
   "metadata": {
    "colab": {
     "base_uri": "https://localhost:8080/"
    },
    "id": "iLqod6O_BMkH",
    "outputId": "f0ede0a5-2a30-48d5-94f9-a140bdf30369"
   },
   "outputs": [
    {
     "name": "stdout",
     "output_type": "stream",
     "text": [
      "length: 4\n",
      "[1, 2, 3, 4]\n",
      "<class 'list'>\n"
     ]
    }
   ],
   "source": [
    "my_list_1=[1,2,3,4]\n",
    "# the commas tell Python to store the unique value in a separate index (think cells in excel)\n",
    "# ORDER MATTERS - the first element has index 0, the second has index 1, and so on...\n",
    "\n",
    "print('length:',len(my_list_1))\n",
    "print(my_list_1)\n",
    "print(type(my_list_1))"
   ]
  },
  {
   "cell_type": "code",
   "execution_count": 26,
   "metadata": {
    "colab": {
     "base_uri": "https://localhost:8080/"
    },
    "id": "gBigmEJiBMkH",
    "outputId": "59885398-6328-4334-b4ce-749e8779251a"
   },
   "outputs": [
    {
     "name": "stdout",
     "output_type": "stream",
     "text": [
      "length: 3\n",
      "['i', 'want', 'beer']\n"
     ]
    }
   ],
   "source": [
    "# now let's make a list of characters or strings\n",
    "my_list_2 = ['i','want','beer']\n",
    "print('length:',len(my_list_2))\n",
    "print(my_list_2)"
   ]
  },
  {
   "cell_type": "code",
   "execution_count": 27,
   "metadata": {
    "colab": {
     "base_uri": "https://localhost:8080/"
    },
    "id": "b-M_hibeBMkH",
    "outputId": "c66fe3ec-fdbf-40d6-f530-1387d2f05511"
   },
   "outputs": [
    {
     "name": "stdout",
     "output_type": "stream",
     "text": [
      "[['i', 'want', 'beer'], [1, 2, 3, 4]]\n",
      "length: 2\n"
     ]
    },
    {
     "data": {
      "text/plain": [
       "[1, 2, 3, 4]"
      ]
     },
     "execution_count": 27,
     "metadata": {},
     "output_type": "execute_result"
    }
   ],
   "source": [
    "# now let's make a list of lists\n",
    "my_list_3 = [my_list_2,my_list_1]\n",
    "print(my_list_3)\n",
    "print('length:',len(my_list_3))\n",
    "# let's print the second element of my_list_3\n",
    "my_list_3[1] # remember - python starts indexing with 0!"
   ]
  },
  {
   "cell_type": "markdown",
   "metadata": {
    "id": "gNSse7tFBMkH"
   },
   "source": [
    "##### 2.3.2 Sets\n",
    "sets have unique elements\n",
    "sets defined by using '= { , }' structure where commas do same thing as in lists\n",
    "order not as important as elements are unique"
   ]
  },
  {
   "cell_type": "code",
   "execution_count": 28,
   "metadata": {
    "colab": {
     "base_uri": "https://localhost:8080/"
    },
    "id": "S6Yfv1GsBMkH",
    "outputId": "40fd8f83-db29-4150-a359-ed1a436b3e8d"
   },
   "outputs": [
    {
     "name": "stdout",
     "output_type": "stream",
     "text": [
      "<class 'set'>\n",
      "{1, 2, 3, 4}\n",
      "length: 4\n"
     ]
    }
   ],
   "source": [
    "my_set1 = {1,2,3,4}\n",
    "print(type(my_set1))\n",
    "print(my_set1)\n",
    "print('length:',len(my_set1))"
   ]
  },
  {
   "cell_type": "code",
   "execution_count": 7,
   "metadata": {
    "colab": {
     "base_uri": "https://localhost:8080/"
    },
    "id": "LVLu_Z1hBMkH",
    "outputId": "04815470-582c-4c54-eb20-0a1d8a8d8a0e"
   },
   "outputs": [
    {
     "name": "stdout",
     "output_type": "stream",
     "text": [
      "<class 'set'>\n",
      "{1, 2, 3}\n",
      "length: 3\n"
     ]
    }
   ],
   "source": [
    "my_set2 = {1,1,2,2,3,3}\n",
    "    # even though this set has 6 values, there are only 3 unique values\n",
    "print(type(my_set2))\n",
    "print(my_set2)\n",
    "print('length:',len(my_set2))"
   ]
  },
  {
   "cell_type": "code",
   "execution_count": 8,
   "metadata": {
    "colab": {
     "base_uri": "https://localhost:8080/"
    },
    "id": "p7h55_i8BMkH",
    "outputId": "65080735-504c-48cb-a78d-b8271222f549"
   },
   "outputs": [
    {
     "data": {
      "text/plain": [
       "False"
      ]
     },
     "execution_count": 8,
     "metadata": {},
     "output_type": "execute_result"
    }
   ],
   "source": [
    "# Ordering Matters for Lists\n",
    "\n",
    "[1,2] == [2,1] # list\n"
   ]
  },
  {
   "cell_type": "code",
   "execution_count": 9,
   "metadata": {
    "colab": {
     "base_uri": "https://localhost:8080/"
    },
    "id": "IylMV9bjBMkH",
    "outputId": "7cc2c3ca-ad6c-4e44-ca6d-e48aa9cb5abb"
   },
   "outputs": [
    {
     "data": {
      "text/plain": [
       "True"
      ]
     },
     "execution_count": 9,
     "metadata": {},
     "output_type": "execute_result"
    }
   ],
   "source": [
    "# order does not matter for sets\n",
    "{1,2}=={2,1}"
   ]
  },
  {
   "cell_type": "code",
   "execution_count": 10,
   "metadata": {
    "id": "FFf1p2S7AIBo"
   },
   "outputs": [],
   "source": [
    "set1= {1,1,2,3,3,3,3,3,3}\n",
    "set2= {3,2,1}"
   ]
  },
  {
   "cell_type": "code",
   "execution_count": 11,
   "metadata": {
    "colab": {
     "base_uri": "https://localhost:8080/"
    },
    "id": "920HFXe3BMkI",
    "outputId": "55f5e152-fd06-4640-8e71-3e595f1233f4"
   },
   "outputs": [
    {
     "name": "stdout",
     "output_type": "stream",
     "text": [
      "output is True\n"
     ]
    }
   ],
   "source": [
    "# order does not matter for sets\n",
    "print('output is',set1==set2)\n",
    "# useful for storing unique values in your data!"
   ]
  },
  {
   "cell_type": "markdown",
   "metadata": {
    "id": "KG6m320-BMkI"
   },
   "source": [
    "###### 2.3.3. Tuples\n",
    "-similar to lists - same length calculation, i.e., NOT unique values\n",
    "-order matters\n",
    "-Tuples cannot be appended, i.e., you cannot add on a value to a tuple once defined\n",
    "    => tuples once set, can only be rewritten completely - you cannot add individual values\n",
    "-useful to store (x,y) values\n",
    "-much more efficient with memory\n",
    "    \n",
    "-Tuples defined by using '= ( , )' structure where commas do same thing as in lists"
   ]
  },
  {
   "cell_type": "code",
   "execution_count": 12,
   "metadata": {
    "colab": {
     "base_uri": "https://localhost:8080/"
    },
    "id": "sZNp63CVBMkI",
    "outputId": "91b842cf-a362-4eaa-ec99-a96c9a82acff"
   },
   "outputs": [
    {
     "name": "stdout",
     "output_type": "stream",
     "text": [
      "(1, 2, 3)\n",
      "<class 'tuple'>\n",
      "length 3\n"
     ]
    }
   ],
   "source": [
    "my_tuple= (1,2,3)\n",
    "print(my_tuple)\n",
    "print(type(my_tuple))\n",
    "print('length',len(my_tuple))"
   ]
  },
  {
   "cell_type": "code",
   "execution_count": 29,
   "metadata": {
    "colab": {
     "base_uri": "https://localhost:8080/"
    },
    "id": "WyMlP9_oBMkI",
    "outputId": "1b9004c4-00fc-4ac3-f517-d744eef0b445"
   },
   "outputs": [
    {
     "name": "stdout",
     "output_type": "stream",
     "text": [
      "[['i', 'want', 'beer'], [1, 2, 3, 4]]\n"
     ]
    }
   ],
   "source": [
    "# recall my_list_3 from earlier\n",
    "print(my_list_3)"
   ]
  },
  {
   "cell_type": "code",
   "execution_count": null,
   "metadata": {
    "id": "qGRsvJZHBMkI"
   },
   "outputs": [],
   "source": [
    "# now let us append this list, i.e., add elements using <obj name>.append(<what to add>) function\n",
    "my_list_3.append('NOW')\n",
    "print(my_list_3)\n",
    "    # now try to append a list at the end to my_list_3!\n"
   ]
  },
  {
   "cell_type": "code",
   "execution_count": 30,
   "metadata": {
    "colab": {
     "base_uri": "https://localhost:8080/"
    },
    "id": "2wQ8yA_vBMkJ",
    "outputId": "66c87610-fca3-43eb-ee3c-4aa206bc06ad"
   },
   "outputs": [
    {
     "data": {
      "text/plain": [
       "(1, 2, 3, 4)"
      ]
     },
     "execution_count": 30,
     "metadata": {},
     "output_type": "execute_result"
    }
   ],
   "source": [
    "# this won't work for tuples\n",
    "#my_tuple.append(4)\n",
    "my_tuple = (1,2,3,4)\n",
    "# remember - read the error message\n",
    "my_tuple"
   ]
  },
  {
   "cell_type": "markdown",
   "metadata": {
    "id": "1NRPQoFDBMkJ"
   },
   "source": [
    "##### 2.3.4. Dictionaries\n",
    "- just like real dictionaries - think of a lookup type function\n",
    "- structure is within { }, separated by ',', and each element has a 2 values in this format: 'key' : 'return'\n",
    "- if you enter the value for  <dictionary.name>[key], you will get the (return) value as output\n",
    "- like sets, only stores unique key values"
   ]
  },
  {
   "cell_type": "code",
   "execution_count": 31,
   "metadata": {
    "id": "sQCt_EuLBMkJ"
   },
   "outputs": [],
   "source": [
    "# use indentation for multi line command\n",
    "my_dictionary = {\n",
    "    'apple': 'keeps doctors away',\n",
    "    'bear': 'fluffy but scary animal',\n",
    "    'beer': 'good',\n",
    "    2:'Min. # of beers',\n",
    "    42: 'the answer to life the universe and everything '\n",
    "}\n",
    "# notice you can use different data types in a dictionary"
   ]
  },
  {
   "cell_type": "code",
   "execution_count": 32,
   "metadata": {
    "colab": {
     "base_uri": "https://localhost:8080/",
     "height": 70
    },
    "id": "m3YqKvQOBMkJ",
    "outputId": "cf882016-b2b2-4285-ec8d-fbdfaa3c158b"
   },
   "outputs": [
    {
     "name": "stdout",
     "output_type": "stream",
     "text": [
      "<class 'dict'>\n",
      "length 5\n"
     ]
    },
    {
     "data": {
      "application/vnd.google.colaboratory.intrinsic+json": {
       "type": "string"
      },
      "text/plain": [
       "'Min. # of beers'"
      ]
     },
     "execution_count": 32,
     "metadata": {},
     "output_type": "execute_result"
    }
   ],
   "source": [
    "print(type(my_dictionary))\n",
    "print('length',len(my_dictionary))\n",
    "# to lookup a value\n",
    "my_dictionary[2] # beer in ' '  since it is a string"
   ]
  },
  {
   "cell_type": "code",
   "execution_count": 33,
   "metadata": {
    "colab": {
     "base_uri": "https://localhost:8080/",
     "height": 35
    },
    "id": "AICX07RDBMkJ",
    "outputId": "ac8adf91-3cab-486e-8efc-0a0396c8e880"
   },
   "outputs": [
    {
     "data": {
      "application/vnd.google.colaboratory.intrinsic+json": {
       "type": "string"
      },
      "text/plain": [
       "'Min. # of beers'"
      ]
     },
     "execution_count": 33,
     "metadata": {},
     "output_type": "execute_result"
    }
   ],
   "source": [
    "my_dictionary[2] # here you are looking up a number, so no ' '"
   ]
  },
  {
   "cell_type": "code",
   "execution_count": 34,
   "metadata": {
    "colab": {
     "base_uri": "https://localhost:8080/",
     "height": 35
    },
    "id": "TjOsdctTBMkJ",
    "outputId": "d05c4d60-67ba-446a-f5f2-449fe11ac72c"
   },
   "outputs": [
    {
     "data": {
      "application/vnd.google.colaboratory.intrinsic+json": {
       "type": "string"
      },
      "text/plain": [
       "'the answer to life the universe and everything '"
      ]
     },
     "execution_count": 34,
     "metadata": {},
     "output_type": "execute_result"
    }
   ],
   "source": [
    "my_dictionary[42]"
   ]
  },
  {
   "cell_type": "markdown",
   "metadata": {
    "id": "nMyljRQ7BMkK"
   },
   "source": [
    "##### A note on how Python interprets things...\n",
    "\n",
    "Say you have the following lines of a program:\\\n",
    "       \n",
    "       a=2\n",
    "       b=3\n",
    "       c=a+b\n",
    "       \n",
    "Python sees 'a=2', and stores the value '2' in the memory and assigns it to variable name 'a'.\\\n",
    "It essentially points or maps 'a' to the data stored in the memory, '2'!\\\n",
    "\n",
    "Python then sees 'b=3' and does the same\\\n",
    "Python then sees 'c=a+b'\\\n",
    "    \n",
    "    - it first looks up value of 'a', fetches the value '2,\n",
    "    \n",
    "    - then does the same for 'b',\n",
    "    \n",
    "    - then peforms the addition and stores the value to variable 'c'\n",
    "    \n",
    " You don't need to know how Python looks up value or data stored in memory.\n",
    " Bur remember that these are just mapping\n",
    "\n",
    "Now consider a program:\n",
    "\n",
    "    a = [1 2 3 4 5]\n",
    "    b = a\n",
    " 'a' here refers to a list or vector of values \\\n",
    "\n",
    " If you change one value of 'a'  (Say 1 becomes 6), and you run the 2 lines of the cell,\\\n",
    "     Then python doesn't duplicate the value of 'a' to assign to 'b'.\n",
    "         Instead, it simply assigns the data stored in memory for 'a' to 'b'\n",
    "         \n",
    "Let's test this out!\n"
   ]
  },
  {
   "cell_type": "code",
   "execution_count": 35,
   "metadata": {
    "colab": {
     "base_uri": "https://localhost:8080/"
    },
    "id": "O0QqwtsvBMkK",
    "outputId": "6948a603-bd55-4e1a-bbeb-ceb96ac47075"
   },
   "outputs": [
    {
     "name": "stdout",
     "output_type": "stream",
     "text": [
      "a= [1, 2, 3, 4, 5]\n",
      "second value in list a 2\n"
     ]
    }
   ],
   "source": [
    "a = [1,2,3,4,5] # python stores these numbers to variable 'a' as a list or vector\n",
    "# each list or vector has index values (like excel) starting with 0,1,2....\n",
    "# Thus a[0], the first value in list a is 1\n",
    "# a[1], the second value in list a is 2, and so on\n",
    "# let's print a and see! - you dont need to say print, you can simply just use the variable name\n",
    "print('a=',a)\n",
    "# Now let's print the second value in list a\n",
    "print('second value in list a',a[1])"
   ]
  },
  {
   "cell_type": "code",
   "execution_count": 36,
   "metadata": {
    "colab": {
     "base_uri": "https://localhost:8080/"
    },
    "id": "2dXMzpy-BMkK",
    "outputId": "c0bfd7ec-4f57-40d7-cc2f-b013eb6a53d9"
   },
   "outputs": [
    {
     "name": "stdout",
     "output_type": "stream",
     "text": [
      "b= [1, 2, 3, 4, 5]\n"
     ]
    }
   ],
   "source": [
    "# now let's assign variable b and make it equal to a\n",
    "b=a\n",
    "#check value of b - same as a right?\n",
    "print('b=',b)"
   ]
  },
  {
   "cell_type": "code",
   "execution_count": 37,
   "metadata": {
    "id": "c5XVvIkLBMkK"
   },
   "outputs": [],
   "source": [
    "# now let's change the first index value in list a\n",
    "a[0] = 6 # look up index value [0] within a and assign value 6"
   ]
  },
  {
   "cell_type": "code",
   "execution_count": 38,
   "metadata": {
    "colab": {
     "base_uri": "https://localhost:8080/"
    },
    "id": "rfS6SgrqBMkK",
    "outputId": "e5dd7bc2-811d-43de-aaec-6837e6e494e4"
   },
   "outputs": [
    {
     "data": {
      "text/plain": [
       "[6, 2, 3, 4, 5]"
      ]
     },
     "execution_count": 38,
     "metadata": {},
     "output_type": "execute_result"
    }
   ],
   "source": [
    "# now check value of a\n",
    "a\n",
    "# see how the first index value to 6?"
   ]
  },
  {
   "cell_type": "code",
   "execution_count": 39,
   "metadata": {
    "colab": {
     "base_uri": "https://localhost:8080/"
    },
    "id": "wPfBcn6mBMkL",
    "outputId": "6ae1145c-31bb-4250-922a-5c12fad16abe"
   },
   "outputs": [
    {
     "data": {
      "text/plain": [
       "[6, 2, 3, 4, 5]"
      ]
     },
     "execution_count": 39,
     "metadata": {},
     "output_type": "execute_result"
    }
   ],
   "source": [
    "# now let's see value of b\n",
    "b\n",
    "# notice value of b has changed and it remains the same as 'a' even though we only changed value of a\n",
    "# remember when we assigned b=a, we simply pointed variable b to the data stored memory for a"
   ]
  },
  {
   "cell_type": "markdown",
   "metadata": {
    "id": "ELF3ri1_BMkL"
   },
   "source": [
    "#### **Chapter 3: Operators and Logic Operations**\n"
   ]
  },
  {
   "cell_type": "markdown",
   "metadata": {
    "id": "TLIqZb2GBMkL"
   },
   "source": [
    "##### 3.1 Arithmetic Operators\n",
    "- common math or formulaic operators\n",
    "- careful: sqrt(-1) is denoted by j\n",
    "- BODMAS rules apply\n",
    "+, - , *, / ,\n",
    "** for exponents (not ^)"
   ]
  },
  {
   "cell_type": "code",
   "execution_count": 40,
   "metadata": {
    "colab": {
     "base_uri": "https://localhost:8080/"
    },
    "id": "j1k9Wr9ZBMkL",
    "outputId": "079614ee-a2e2-4e90-f8bf-268c04bdcb90"
   },
   "outputs": [
    {
     "data": {
      "text/plain": [
       "2"
      ]
     },
     "execution_count": 40,
     "metadata": {},
     "output_type": "execute_result"
    }
   ],
   "source": [
    "1+1"
   ]
  },
  {
   "cell_type": "code",
   "execution_count": 41,
   "metadata": {
    "colab": {
     "base_uri": "https://localhost:8080/"
    },
    "id": "bu5puqBDBMkL",
    "outputId": "ba24eca9-fc21-4c9d-c942-6c574acfce84"
   },
   "outputs": [
    {
     "data": {
      "text/plain": [
       "25"
      ]
     },
     "execution_count": 41,
     "metadata": {},
     "output_type": "execute_result"
    }
   ],
   "source": [
    "5**2"
   ]
  },
  {
   "cell_type": "code",
   "execution_count": 42,
   "metadata": {
    "colab": {
     "base_uri": "https://localhost:8080/"
    },
    "id": "6ycf8I-fBMkM",
    "outputId": "136bae68-6e13-48ac-b8c0-31e39e8957f8"
   },
   "outputs": [
    {
     "data": {
      "text/plain": [
       "2.23606797749979"
      ]
     },
     "execution_count": 42,
     "metadata": {},
     "output_type": "execute_result"
    }
   ],
   "source": [
    "5**(.5) # sqrt"
   ]
  },
  {
   "cell_type": "code",
   "execution_count": 43,
   "metadata": {
    "colab": {
     "base_uri": "https://localhost:8080/"
    },
    "id": "TsxvCITiBMkM",
    "outputId": "1e70280a-8f28-40f9-896e-e41d4e52cd74"
   },
   "outputs": [
    {
     "data": {
      "text/plain": [
       "200.0"
      ]
     },
     "execution_count": 43,
     "metadata": {},
     "output_type": "execute_result"
    }
   ],
   "source": [
    "3 + 2*(4*5**2) -9/3 # BODMAS Rules"
   ]
  },
  {
   "cell_type": "markdown",
   "metadata": {
    "id": "PpkB2npyBMkM"
   },
   "source": [
    "##### 3.2 Logic operations:\n",
    "typically boolean operations\n",
    "\n",
    "Comparison Operators\n",
    "       1. '==' is a comparison operator (is left hand side (lhs) equal to right hand sinde (rhs))\n",
    "       2. '>' or '>='\n",
    "       3. '<' or '<='\n",
    "       and so on....\n",
    "Logical Operators\n",
    "    1. and - both sides need to be True for True\n",
    "    2. or - at least one side needs to be true\n",
    "    3. not - flip boolean\n",
    "    \n",
    "Membership Operators\n",
    "    1. in\n",
    "    2. not in"
   ]
  },
  {
   "cell_type": "code",
   "execution_count": 44,
   "metadata": {
    "colab": {
     "base_uri": "https://localhost:8080/"
    },
    "id": "ULO0F6AjBMkM",
    "outputId": "b9d9980b-114f-4a64-bcbd-c729101c60fc"
   },
   "outputs": [
    {
     "name": "stdout",
     "output_type": "stream",
     "text": [
      "True\n",
      "True\n",
      "False\n",
      "True\n"
     ]
    }
   ],
   "source": [
    "# Comparison Operators\n",
    "x1 = 5\n",
    "x2 = 6\n",
    "print(x1==5)\n",
    "print(x1+1==x2)\n",
    "print(x2<=x1)\n",
    "print(x2>=x1)\n",
    "# please play around to build intuition\n",
    "# you can do this with lists, sets, tuples...."
   ]
  },
  {
   "cell_type": "code",
   "execution_count": 45,
   "metadata": {
    "colab": {
     "base_uri": "https://localhost:8080/"
    },
    "id": "sZgP4y5UBMkM",
    "outputId": "9d5cbfe7-e80c-4542-ed22-45948393359d"
   },
   "outputs": [
    {
     "name": "stdout",
     "output_type": "stream",
     "text": [
      "True\n",
      "False\n",
      "False\n",
      "True\n",
      "True\n"
     ]
    }
   ],
   "source": [
    "# Logical Operators\n",
    "print(True and True)\n",
    "print(True and False)\n",
    "print(False or False)\n",
    "print(False or True)\n",
    "print(not False)"
   ]
  },
  {
   "cell_type": "code",
   "execution_count": 46,
   "metadata": {
    "colab": {
     "base_uri": "https://localhost:8080/"
    },
    "id": "WrvtBISmBMkM",
    "outputId": "8041a5b4-99a8-4107-937c-a62439cbc66e"
   },
   "outputs": [
    {
     "name": "stdout",
     "output_type": "stream",
     "text": [
      "True\n",
      "True\n",
      "False\n",
      "True\n"
     ]
    }
   ],
   "source": [
    "# membership - useful to check if something belongs in an object\n",
    "x= [1,2,3,4]\n",
    "print(1 in x)\n",
    "print(10 not in x)\n",
    "print('cat' not in 'my pet cat')\n",
    "print(2 in my_dictionary)"
   ]
  },
  {
   "cell_type": "markdown",
   "metadata": {
    "id": "fEgEwNijBMkN"
   },
   "source": [
    "#### **Chapter 4: Control Flow (if-else, loops)**"
   ]
  },
  {
   "cell_type": "markdown",
   "metadata": {
    "id": "trkg8mT-BMkN"
   },
   "source": [
    "##### 4.1 If-else statements\n",
    "\n",
    "   1. If [check]:\n",
    "           (then) [return/do this]\n",
    "   2. If [check]:\n",
    "           (then) [return/do this]\n",
    "       else:\n",
    "           [return/do this]\n",
    "           \n",
    "Remember - Indentation matters!"
   ]
  },
  {
   "cell_type": "code",
   "execution_count": 47,
   "metadata": {
    "colab": {
     "base_uri": "https://localhost:8080/"
    },
    "id": "polltBogBMkN",
    "outputId": "543646ac-26e6-4247-aa63-522122f94778"
   },
   "outputs": [
    {
     "name": "stdout",
     "output_type": "stream",
     "text": [
      "it is true!\n"
     ]
    }
   ],
   "source": [
    "a=True\n",
    "# simple if statement\n",
    "if a:\n",
    "    print('it is true!')"
   ]
  },
  {
   "cell_type": "code",
   "execution_count": 48,
   "metadata": {
    "colab": {
     "base_uri": "https://localhost:8080/"
    },
    "id": "eg5C_9a8BMkN",
    "outputId": "18e532b7-9549-49d8-e0ca-33bfe1c83e00"
   },
   "outputs": [
    {
     "name": "stdout",
     "output_type": "stream",
     "text": [
      "it is true!\n",
      "also print this\n"
     ]
    }
   ],
   "source": [
    "# if statement with multiple operations\n",
    "x=1\n",
    "y=1\n",
    "\n",
    "if x==y: # this is a check\n",
    "    print('it is true!') #operation 1\n",
    "    print('also print this') # operation 2\n",
    "    c = 42\n",
    "\n",
    "# now change y to 2 and see what happens?\n",
    "# it doesn't run coz the check failed!"
   ]
  },
  {
   "cell_type": "code",
   "execution_count": 49,
   "metadata": {
    "colab": {
     "base_uri": "https://localhost:8080/"
    },
    "id": "NkGQUr3WBMkN",
    "outputId": "2856e382-ba92-4ad7-ec35-aa00a261aa05"
   },
   "outputs": [
    {
     "name": "stdout",
     "output_type": "stream",
     "text": [
      "it is true!\n",
      "also print this\n"
     ]
    }
   ],
   "source": [
    "# if else statement\n",
    "# note the indentation!\n",
    "\n",
    "x=1\n",
    "y=1\n",
    "\n",
    "if x==y:\n",
    "    print('it is true!')\n",
    "    print('also print this')\n",
    "else:\n",
    "    print(' It is false')\n",
    "\n",
    "# now change y to 2"
   ]
  },
  {
   "cell_type": "code",
   "execution_count": 50,
   "metadata": {
    "colab": {
     "base_uri": "https://localhost:8080/"
    },
    "id": "xz0SOLDaBMkN",
    "outputId": "2eaf1b14-089b-49f2-b9ce-a7f757d9c48c"
   },
   "outputs": [
    {
     "name": "stdout",
     "output_type": "stream",
     "text": [
      "it is true!\n",
      "also print this\n",
      "What if i get beer after class? good\n",
      "Min. # of beers 2\n"
     ]
    }
   ],
   "source": [
    "# complex if else - a second if-else within the first\n",
    "\n",
    "x=1\n",
    "y=1\n",
    "z = 'beer'\n",
    "\n",
    "if x==y:\n",
    "    print('it is true!')\n",
    "    print('also print this')\n",
    "    if (z in my_dictionary):\n",
    "        print('What if i get beer after class?',my_dictionary['beer'])\n",
    "        print(my_dictionary[2],'2')\n",
    "else:\n",
    "    print(' It is false')\n",
    "\n",
    "# now change y to 2\n",
    "# now change z to 'coffee'"
   ]
  },
  {
   "cell_type": "markdown",
   "metadata": {
    "id": "RcCJ0twwBMkN"
   },
   "source": [
    "##### 4.2 For and While Loops\n",
    "\n",
    "Used to avoid complex if else statements\n",
    "\n",
    "Remember, indentation matters\n",
    "\n",
    "Also be careful: avoid infinite loops\n",
    "\n",
    "\n",
    "for [condition]:\n",
    "    do [this]\n",
    "    \n",
    "while [condition]:\n",
    "    do [this]\n",
    "   "
   ]
  },
  {
   "cell_type": "code",
   "execution_count": 51,
   "metadata": {
    "colab": {
     "base_uri": "https://localhost:8080/"
    },
    "id": "OzkhUKZqBMkO",
    "outputId": "fa4baf29-1c78-4436-e8bb-6d930d7668b3"
   },
   "outputs": [
    {
     "name": "stdout",
     "output_type": "stream",
     "text": [
      "1\n",
      "4\n",
      "9\n",
      "16\n",
      "25\n"
     ]
    }
   ],
   "source": [
    "# for loops\n",
    "a = [1,2,3,4,5]\n",
    "\n",
    "for number in a:\n",
    "    print(number**2)\n",
    "# for each number in a (condition):\n",
    "    # print square of the number (return)\n",
    "\n",
    "#the condition in here is pointing within object a, and Not doing a check"
   ]
  },
  {
   "cell_type": "code",
   "execution_count": 52,
   "metadata": {
    "colab": {
     "base_uri": "https://localhost:8080/"
    },
    "id": "fWCBVWi2BMkO",
    "outputId": "04c5f82e-3383-4fcb-c14f-31ff9c21bf2d"
   },
   "outputs": [
    {
     "name": "stdout",
     "output_type": "stream",
     "text": [
      "0\n",
      "1\n",
      "2\n",
      "3\n",
      "4\n"
     ]
    }
   ],
   "source": [
    "# while loops\n",
    "\n",
    "a=0\n",
    "while a < 5:\n",
    "    print(a)\n",
    "    a=a+1\n",
    "\n",
    "# what happens if you forget the last line? (a=a+1)\n",
    "    # you get an infinite loop!\n",
    "    # DONT DO THAT!"
   ]
  },
  {
   "cell_type": "markdown",
   "metadata": {
    "id": "JKeoR17pBMkO"
   },
   "source": [
    "#### **Chapter 5: Functions**"
   ]
  },
  {
   "cell_type": "markdown",
   "metadata": {
    "id": "Hr8Dk9xbBMkO"
   },
   "source": [
    "Functions are essentially automated operations\n",
    "Think of the print() function, etc....\n",
    "\n",
    "General Structure:\n",
    "\n",
    "    def <function.name>(input):\\\n",
    "        do [this]\\\n",
    "        return [this]  # if needed\n",
    "\n",
    "sometimes functions don't need to return anything (e.g., a function to append a value into a list)"
   ]
  },
  {
   "cell_type": "code",
   "execution_count": 53,
   "metadata": {
    "id": "5BkZvhXbBMkO"
   },
   "outputs": [],
   "source": [
    "# simple function with 1 input\n",
    "def fn_1(val):\n",
    "    return val ** 3\n",
    "\n",
    "# define function called fn_1 with input (val):\n",
    "    # return val to the power 3\n"
   ]
  },
  {
   "cell_type": "code",
   "execution_count": 54,
   "metadata": {
    "colab": {
     "base_uri": "https://localhost:8080/"
    },
    "id": "yCq7ejj5BMkO",
    "outputId": "7e3ac2bd-e690-473f-faf4-055ad85ddbc3"
   },
   "outputs": [
    {
     "data": {
      "text/plain": [
       "0.008000000000000002"
      ]
     },
     "execution_count": 54,
     "metadata": {},
     "output_type": "execute_result"
    }
   ],
   "source": [
    "fn_1(.2)"
   ]
  },
  {
   "cell_type": "code",
   "execution_count": 55,
   "metadata": {
    "id": "VzNP7t3PBMkP"
   },
   "outputs": [],
   "source": [
    "# function with 2 inputs\n",
    "def fn_2(val1,val2):\n",
    "    return (val1 ** 2) + (val2 ** 2)"
   ]
  },
  {
   "cell_type": "code",
   "execution_count": 56,
   "metadata": {
    "colab": {
     "base_uri": "https://localhost:8080/"
    },
    "id": "jozvTQkJBMkP",
    "outputId": "6eaa4233-7daf-4282-9d5c-1ee61f2521c0"
   },
   "outputs": [
    {
     "data": {
      "text/plain": [
       "5"
      ]
     },
     "execution_count": 56,
     "metadata": {},
     "output_type": "execute_result"
    }
   ],
   "source": [
    "fn_2(1,2)\n",
    "# you can use this function on any 2 inputs"
   ]
  },
  {
   "cell_type": "code",
   "execution_count": 57,
   "metadata": {
    "id": "0INhN6y-BMkP"
   },
   "outputs": [],
   "source": [
    "# function with no return\n",
    "def fn_3(num,list):\n",
    "    list.append(num)\n",
    "\n",
    "# define function fn_3 with 2 inputs, a num, and a list:\n",
    "    #append the num to the list"
   ]
  },
  {
   "cell_type": "code",
   "execution_count": 58,
   "metadata": {
    "colab": {
     "base_uri": "https://localhost:8080/"
    },
    "id": "0Xt6c6zDBMkP",
    "outputId": "7918b654-87c1-4de9-ff22-2d891b7ce751"
   },
   "outputs": [
    {
     "name": "stdout",
     "output_type": "stream",
     "text": [
      "[1, 2, 3, 4, 5]\n"
     ]
    }
   ],
   "source": [
    "a=[1,2,3,4] # example list\n",
    "b=5 # example num\n",
    "\n",
    "fn_3(b,a) # function to append b into a\n",
    "print(a) # magic!"
   ]
  },
  {
   "cell_type": "markdown",
   "metadata": {
    "id": "509l1QhFBMkP"
   },
   "source": [
    "A package is essentially a collection of functions\n",
    "\n",
    "When we import pandas for example, we are simply calling all functions that are part of pandas package\n",
    "pandas deal with managing data\n",
    "for plotting, we use other packages, like seaborn\n",
    "\n",
    "packages are why Python becomes to useful"
   ]
  },
  {
   "cell_type": "markdown",
   "metadata": {
    "id": "NScRqobtBMkQ"
   },
   "source": [
    "### END OF CODE\n",
    "\n",
    "There's a lot more to python programming, but this introduction is a good starting point for class.\n",
    "I'll provide a curated list of learning resources if you want to get deeper into it\n"
   ]
  }
 ],
 "metadata": {
  "celltoolbar": "Slideshow",
  "colab": {
   "provenance": []
  },
  "kernelspec": {
   "display_name": "Python 3 (ipykernel)",
   "language": "python",
   "name": "python3"
  },
  "language_info": {
   "codemirror_mode": {
    "name": "ipython",
    "version": 3
   },
   "file_extension": ".py",
   "mimetype": "text/x-python",
   "name": "python",
   "nbconvert_exporter": "python",
   "pygments_lexer": "ipython3",
   "version": "3.10.9"
  }
 },
 "nbformat": 4,
 "nbformat_minor": 1
}
