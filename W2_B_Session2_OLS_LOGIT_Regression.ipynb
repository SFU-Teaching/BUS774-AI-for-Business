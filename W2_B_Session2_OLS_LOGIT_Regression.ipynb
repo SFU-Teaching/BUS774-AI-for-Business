{
  "cells": [
    {
      "cell_type": "markdown",
      "metadata": {
        "id": "n0C2tUi3bGwr"
      },
      "source": [
        "# **Session 2: Linear Regressions: OLS & LOGIT**\n",
        "**In this tutorial we show how Python and its  statsmodels library can be used to run Linear Regressions for both OLS and LOGIT**\n",
        "\n",
        "### C Kaligotla | BUS 774\n",
        "### 20 Feb 2025"
      ]
    },
    {
      "cell_type": "markdown",
      "metadata": {
        "id": "63NI0az3nZ0U"
      },
      "source": [
        "## **Part A: Steps to Run Linear Regressions**"
      ]
    },
    {
      "cell_type": "markdown",
      "metadata": {
        "id": "Pr3JeloZcZyX"
      },
      "source": [
        "###**Step 1. Load libraries**"
      ]
    },
    {
      "cell_type": "code",
      "execution_count": 3,
      "metadata": {
        "id": "hbVa0fkrUvxj",
        "colab": {
          "base_uri": "https://localhost:8080/"
        },
        "outputId": "66f05fd4-57f8-412d-b21a-c72a2104c62a"
      },
      "outputs": [
        {
          "output_type": "stream",
          "name": "stdout",
          "text": [
            "Collecting statsmodels\n",
            "  Downloading statsmodels-0.14.4-cp311-cp311-manylinux_2_17_x86_64.manylinux2014_x86_64.whl.metadata (9.2 kB)\n",
            "Requirement already satisfied: numpy<3,>=1.22.3 in /usr/local/lib/python3.11/dist-packages (from statsmodels) (1.26.4)\n",
            "Requirement already satisfied: scipy!=1.9.2,>=1.8 in /usr/local/lib/python3.11/dist-packages (from statsmodels) (1.13.1)\n",
            "Requirement already satisfied: pandas!=2.1.0,>=1.4 in /usr/local/lib/python3.11/dist-packages (from statsmodels) (2.2.2)\n",
            "Collecting patsy>=0.5.6 (from statsmodels)\n",
            "  Downloading patsy-1.0.1-py2.py3-none-any.whl.metadata (3.3 kB)\n",
            "Requirement already satisfied: packaging>=21.3 in /usr/local/lib/python3.11/dist-packages (from statsmodels) (24.2)\n",
            "Requirement already satisfied: python-dateutil>=2.8.2 in /usr/local/lib/python3.11/dist-packages (from pandas!=2.1.0,>=1.4->statsmodels) (2.9.0.post0)\n",
            "Requirement already satisfied: pytz>=2020.1 in /usr/local/lib/python3.11/dist-packages (from pandas!=2.1.0,>=1.4->statsmodels) (2025.1)\n",
            "Requirement already satisfied: tzdata>=2022.7 in /usr/local/lib/python3.11/dist-packages (from pandas!=2.1.0,>=1.4->statsmodels) (2025.1)\n",
            "Requirement already satisfied: six>=1.5 in /usr/local/lib/python3.11/dist-packages (from python-dateutil>=2.8.2->pandas!=2.1.0,>=1.4->statsmodels) (1.17.0)\n",
            "Downloading statsmodels-0.14.4-cp311-cp311-manylinux_2_17_x86_64.manylinux2014_x86_64.whl (10.8 MB)\n",
            "\u001b[2K   \u001b[90m━━━━━━━━━━━━━━━━━━━━━━━━━━━━━━━━━━━━━━━━\u001b[0m \u001b[32m10.8/10.8 MB\u001b[0m \u001b[31m81.5 MB/s\u001b[0m eta \u001b[36m0:00:00\u001b[0m\n",
            "\u001b[?25hDownloading patsy-1.0.1-py2.py3-none-any.whl (232 kB)\n",
            "\u001b[2K   \u001b[90m━━━━━━━━━━━━━━━━━━━━━━━━━━━━━━━━━━━━━━━━\u001b[0m \u001b[32m232.9/232.9 kB\u001b[0m \u001b[31m20.0 MB/s\u001b[0m eta \u001b[36m0:00:00\u001b[0m\n",
            "\u001b[?25hInstalling collected packages: patsy, statsmodels\n",
            "Successfully installed patsy-1.0.1 statsmodels-0.14.4\n"
          ]
        }
      ],
      "source": [
        "# If you have not previously installed non-default libraries, use this command to do so:\n",
        "# NOTE: You only have to do this once\n",
        "!pip install statsmodels"
      ]
    },
    {
      "cell_type": "code",
      "execution_count": 4,
      "metadata": {
        "id": "4B8X0ylHbH1m"
      },
      "outputs": [],
      "source": [
        "import pandas as pd # for data operations\n",
        "import numpy as np #most of the mathematical functions we'll need\n",
        "import seaborn as sns #to plot\n",
        "import matplotlib.pyplot as plt #to plot\n",
        "import statsmodels.api as sm #for statistical analysis"
      ]
    },
    {
      "cell_type": "markdown",
      "metadata": {
        "id": "vM1DdjAin9o3"
      },
      "source": [
        "###**Step 2. Load Data**"
      ]
    },
    {
      "cell_type": "markdown",
      "metadata": {
        "id": "sz7pel0on5sd"
      },
      "source": [
        "\n",
        "Note: I'm providing cleaned data for class. In other cases with external data, you will have to clean your data.\n"
      ]
    },
    {
      "cell_type": "code",
      "execution_count": 5,
      "metadata": {
        "id": "7ojthsZBcKi_"
      },
      "outputs": [],
      "source": [
        "url = \"https://www.dropbox.com/s/oewvalvdxx7bjez/taxi_data.csv?dl=1\" # url=\"/*insert url to your own data here*/\""
      ]
    },
    {
      "cell_type": "code",
      "execution_count": 6,
      "metadata": {
        "id": "nlv9FQ7kdBE9",
        "colab": {
          "base_uri": "https://localhost:8080/"
        },
        "outputId": "1465f887-8e84-4e9d-ea72-6cf72a541bbb"
      },
      "outputs": [
        {
          "output_type": "execute_result",
          "data": {
            "text/plain": [
              "(490347, 19)"
            ]
          },
          "metadata": {},
          "execution_count": 6
        }
      ],
      "source": [
        "df = pd.read_csv(url,low_memory=False) # this code is what reads the csv and turns it into a dataframe. df for short\n",
        "\n",
        "df.shape # output the shape of the file\n"
      ]
    },
    {
      "cell_type": "code",
      "execution_count": 7,
      "metadata": {
        "id": "ERN8xKDodD5a",
        "colab": {
          "base_uri": "https://localhost:8080/",
          "height": 423
        },
        "outputId": "1bc30833-d891-4feb-f222-9e05544fb8c0"
      },
      "outputs": [
        {
          "output_type": "execute_result",
          "data": {
            "text/plain": [
              "        Sl No. vendor_id pickup_datetime dropoff_datetime  passenger_count  \\\n",
              "0            0       VTS  14-05-13 18:31   14-05-13 19:18                1   \n",
              "1            1       VTS  14-05-13 19:24   14-05-13 19:34                2   \n",
              "2            2       VTS  14-05-13 19:57   14-05-13 20:01                2   \n",
              "3            3       VTS  14-05-13 05:46   14-05-13 05:56                1   \n",
              "4            4       VTS  14-05-13 05:50   14-05-13 05:57                1   \n",
              "...        ...       ...             ...              ...              ...   \n",
              "490342  490342       CMT  14-05-13 20:32   14-05-13 20:38                1   \n",
              "490343  490343       CMT  14-05-13 20:43   14-05-13 20:43                1   \n",
              "490344  490344       CMT  14-05-13 20:35   14-05-13 20:37                1   \n",
              "490345  490345       CMT  14-05-13 20:35   14-05-13 20:35                1   \n",
              "490346  490346       CMT  14-05-13 20:39   14-05-13 20:39                1   \n",
              "\n",
              "        trip_distance  pickup_longitude  pickup_latitude  rate_code  \\\n",
              "0               17.47        -74.004052        40.742767          2   \n",
              "1                1.60          0.000000        73.971158          1   \n",
              "2                1.10          0.000000         0.000000          1   \n",
              "3                4.71        -73.975142        40.745937          1   \n",
              "4                1.41          0.000000         0.000000          1   \n",
              "...               ...               ...              ...        ...   \n",
              "490342           1.50        -73.991023        40.745509          1   \n",
              "490343           1.50        -74.007035        40.705442          1   \n",
              "490344           1.00        -74.007057        40.729581          1   \n",
              "490345           0.80        -73.987804        40.737485          1   \n",
              "490346           4.60        -73.998985        40.744500          1   \n",
              "\n",
              "       store_and_fwd_flag  dropoff_longitude  dropoff_latitude payment_type  \\\n",
              "0                     NaN         -73.782580         40.644107          CSH   \n",
              "1                     NaN         -73.979937         40.780360          CSH   \n",
              "2                     NaN           0.000000          0.000000          CRD   \n",
              "3                     NaN         -74.003527         40.710815          CSH   \n",
              "4                     NaN           0.000000          0.000000          CRD   \n",
              "...                   ...                ...               ...          ...   \n",
              "490342                  N         -73.973146         40.752741          CSH   \n",
              "490343                  N         -73.992735         40.723427          CSH   \n",
              "490344                  N         -74.010143         40.719790          CSH   \n",
              "490345                  N         -74.001923         40.743530          CSH   \n",
              "490346                  N         -73.947880         40.776088          CSH   \n",
              "\n",
              "        fare_amount  surcharge  mta_tax  tip_amount  tolls_amount  \\\n",
              "0              52.0        0.0      0.5        0.00           0.0   \n",
              "1               8.5        1.0      0.5        0.00           0.0   \n",
              "2               5.5        1.0      0.5        1.25           0.0   \n",
              "3              15.5        0.5      0.5        0.00           0.0   \n",
              "4               7.0        0.5      0.5        1.00           0.0   \n",
              "...             ...        ...      ...         ...           ...   \n",
              "490342          7.0        0.5      0.5        0.00           0.0   \n",
              "490343          9.0        0.5      0.5        0.00           0.0   \n",
              "490344          5.5        0.5      0.5        0.00           0.0   \n",
              "490345          5.0        0.5      0.5        0.00           0.0   \n",
              "490346         14.5        0.5      0.5        0.00           0.0   \n",
              "\n",
              "        total_amount  \n",
              "0              52.50  \n",
              "1              10.00  \n",
              "2               8.25  \n",
              "3              16.50  \n",
              "4               9.00  \n",
              "...              ...  \n",
              "490342          8.00  \n",
              "490343         10.00  \n",
              "490344          6.50  \n",
              "490345          6.00  \n",
              "490346         15.50  \n",
              "\n",
              "[490347 rows x 19 columns]"
            ],
            "text/html": [
              "\n",
              "  <div id=\"df-81c52c51-0274-48b7-b9f3-453615647a99\" class=\"colab-df-container\">\n",
              "    <div>\n",
              "<style scoped>\n",
              "    .dataframe tbody tr th:only-of-type {\n",
              "        vertical-align: middle;\n",
              "    }\n",
              "\n",
              "    .dataframe tbody tr th {\n",
              "        vertical-align: top;\n",
              "    }\n",
              "\n",
              "    .dataframe thead th {\n",
              "        text-align: right;\n",
              "    }\n",
              "</style>\n",
              "<table border=\"1\" class=\"dataframe\">\n",
              "  <thead>\n",
              "    <tr style=\"text-align: right;\">\n",
              "      <th></th>\n",
              "      <th>Sl No.</th>\n",
              "      <th>vendor_id</th>\n",
              "      <th>pickup_datetime</th>\n",
              "      <th>dropoff_datetime</th>\n",
              "      <th>passenger_count</th>\n",
              "      <th>trip_distance</th>\n",
              "      <th>pickup_longitude</th>\n",
              "      <th>pickup_latitude</th>\n",
              "      <th>rate_code</th>\n",
              "      <th>store_and_fwd_flag</th>\n",
              "      <th>dropoff_longitude</th>\n",
              "      <th>dropoff_latitude</th>\n",
              "      <th>payment_type</th>\n",
              "      <th>fare_amount</th>\n",
              "      <th>surcharge</th>\n",
              "      <th>mta_tax</th>\n",
              "      <th>tip_amount</th>\n",
              "      <th>tolls_amount</th>\n",
              "      <th>total_amount</th>\n",
              "    </tr>\n",
              "  </thead>\n",
              "  <tbody>\n",
              "    <tr>\n",
              "      <th>0</th>\n",
              "      <td>0</td>\n",
              "      <td>VTS</td>\n",
              "      <td>14-05-13 18:31</td>\n",
              "      <td>14-05-13 19:18</td>\n",
              "      <td>1</td>\n",
              "      <td>17.47</td>\n",
              "      <td>-74.004052</td>\n",
              "      <td>40.742767</td>\n",
              "      <td>2</td>\n",
              "      <td>NaN</td>\n",
              "      <td>-73.782580</td>\n",
              "      <td>40.644107</td>\n",
              "      <td>CSH</td>\n",
              "      <td>52.0</td>\n",
              "      <td>0.0</td>\n",
              "      <td>0.5</td>\n",
              "      <td>0.00</td>\n",
              "      <td>0.0</td>\n",
              "      <td>52.50</td>\n",
              "    </tr>\n",
              "    <tr>\n",
              "      <th>1</th>\n",
              "      <td>1</td>\n",
              "      <td>VTS</td>\n",
              "      <td>14-05-13 19:24</td>\n",
              "      <td>14-05-13 19:34</td>\n",
              "      <td>2</td>\n",
              "      <td>1.60</td>\n",
              "      <td>0.000000</td>\n",
              "      <td>73.971158</td>\n",
              "      <td>1</td>\n",
              "      <td>NaN</td>\n",
              "      <td>-73.979937</td>\n",
              "      <td>40.780360</td>\n",
              "      <td>CSH</td>\n",
              "      <td>8.5</td>\n",
              "      <td>1.0</td>\n",
              "      <td>0.5</td>\n",
              "      <td>0.00</td>\n",
              "      <td>0.0</td>\n",
              "      <td>10.00</td>\n",
              "    </tr>\n",
              "    <tr>\n",
              "      <th>2</th>\n",
              "      <td>2</td>\n",
              "      <td>VTS</td>\n",
              "      <td>14-05-13 19:57</td>\n",
              "      <td>14-05-13 20:01</td>\n",
              "      <td>2</td>\n",
              "      <td>1.10</td>\n",
              "      <td>0.000000</td>\n",
              "      <td>0.000000</td>\n",
              "      <td>1</td>\n",
              "      <td>NaN</td>\n",
              "      <td>0.000000</td>\n",
              "      <td>0.000000</td>\n",
              "      <td>CRD</td>\n",
              "      <td>5.5</td>\n",
              "      <td>1.0</td>\n",
              "      <td>0.5</td>\n",
              "      <td>1.25</td>\n",
              "      <td>0.0</td>\n",
              "      <td>8.25</td>\n",
              "    </tr>\n",
              "    <tr>\n",
              "      <th>3</th>\n",
              "      <td>3</td>\n",
              "      <td>VTS</td>\n",
              "      <td>14-05-13 05:46</td>\n",
              "      <td>14-05-13 05:56</td>\n",
              "      <td>1</td>\n",
              "      <td>4.71</td>\n",
              "      <td>-73.975142</td>\n",
              "      <td>40.745937</td>\n",
              "      <td>1</td>\n",
              "      <td>NaN</td>\n",
              "      <td>-74.003527</td>\n",
              "      <td>40.710815</td>\n",
              "      <td>CSH</td>\n",
              "      <td>15.5</td>\n",
              "      <td>0.5</td>\n",
              "      <td>0.5</td>\n",
              "      <td>0.00</td>\n",
              "      <td>0.0</td>\n",
              "      <td>16.50</td>\n",
              "    </tr>\n",
              "    <tr>\n",
              "      <th>4</th>\n",
              "      <td>4</td>\n",
              "      <td>VTS</td>\n",
              "      <td>14-05-13 05:50</td>\n",
              "      <td>14-05-13 05:57</td>\n",
              "      <td>1</td>\n",
              "      <td>1.41</td>\n",
              "      <td>0.000000</td>\n",
              "      <td>0.000000</td>\n",
              "      <td>1</td>\n",
              "      <td>NaN</td>\n",
              "      <td>0.000000</td>\n",
              "      <td>0.000000</td>\n",
              "      <td>CRD</td>\n",
              "      <td>7.0</td>\n",
              "      <td>0.5</td>\n",
              "      <td>0.5</td>\n",
              "      <td>1.00</td>\n",
              "      <td>0.0</td>\n",
              "      <td>9.00</td>\n",
              "    </tr>\n",
              "    <tr>\n",
              "      <th>...</th>\n",
              "      <td>...</td>\n",
              "      <td>...</td>\n",
              "      <td>...</td>\n",
              "      <td>...</td>\n",
              "      <td>...</td>\n",
              "      <td>...</td>\n",
              "      <td>...</td>\n",
              "      <td>...</td>\n",
              "      <td>...</td>\n",
              "      <td>...</td>\n",
              "      <td>...</td>\n",
              "      <td>...</td>\n",
              "      <td>...</td>\n",
              "      <td>...</td>\n",
              "      <td>...</td>\n",
              "      <td>...</td>\n",
              "      <td>...</td>\n",
              "      <td>...</td>\n",
              "      <td>...</td>\n",
              "    </tr>\n",
              "    <tr>\n",
              "      <th>490342</th>\n",
              "      <td>490342</td>\n",
              "      <td>CMT</td>\n",
              "      <td>14-05-13 20:32</td>\n",
              "      <td>14-05-13 20:38</td>\n",
              "      <td>1</td>\n",
              "      <td>1.50</td>\n",
              "      <td>-73.991023</td>\n",
              "      <td>40.745509</td>\n",
              "      <td>1</td>\n",
              "      <td>N</td>\n",
              "      <td>-73.973146</td>\n",
              "      <td>40.752741</td>\n",
              "      <td>CSH</td>\n",
              "      <td>7.0</td>\n",
              "      <td>0.5</td>\n",
              "      <td>0.5</td>\n",
              "      <td>0.00</td>\n",
              "      <td>0.0</td>\n",
              "      <td>8.00</td>\n",
              "    </tr>\n",
              "    <tr>\n",
              "      <th>490343</th>\n",
              "      <td>490343</td>\n",
              "      <td>CMT</td>\n",
              "      <td>14-05-13 20:43</td>\n",
              "      <td>14-05-13 20:43</td>\n",
              "      <td>1</td>\n",
              "      <td>1.50</td>\n",
              "      <td>-74.007035</td>\n",
              "      <td>40.705442</td>\n",
              "      <td>1</td>\n",
              "      <td>N</td>\n",
              "      <td>-73.992735</td>\n",
              "      <td>40.723427</td>\n",
              "      <td>CSH</td>\n",
              "      <td>9.0</td>\n",
              "      <td>0.5</td>\n",
              "      <td>0.5</td>\n",
              "      <td>0.00</td>\n",
              "      <td>0.0</td>\n",
              "      <td>10.00</td>\n",
              "    </tr>\n",
              "    <tr>\n",
              "      <th>490344</th>\n",
              "      <td>490344</td>\n",
              "      <td>CMT</td>\n",
              "      <td>14-05-13 20:35</td>\n",
              "      <td>14-05-13 20:37</td>\n",
              "      <td>1</td>\n",
              "      <td>1.00</td>\n",
              "      <td>-74.007057</td>\n",
              "      <td>40.729581</td>\n",
              "      <td>1</td>\n",
              "      <td>N</td>\n",
              "      <td>-74.010143</td>\n",
              "      <td>40.719790</td>\n",
              "      <td>CSH</td>\n",
              "      <td>5.5</td>\n",
              "      <td>0.5</td>\n",
              "      <td>0.5</td>\n",
              "      <td>0.00</td>\n",
              "      <td>0.0</td>\n",
              "      <td>6.50</td>\n",
              "    </tr>\n",
              "    <tr>\n",
              "      <th>490345</th>\n",
              "      <td>490345</td>\n",
              "      <td>CMT</td>\n",
              "      <td>14-05-13 20:35</td>\n",
              "      <td>14-05-13 20:35</td>\n",
              "      <td>1</td>\n",
              "      <td>0.80</td>\n",
              "      <td>-73.987804</td>\n",
              "      <td>40.737485</td>\n",
              "      <td>1</td>\n",
              "      <td>N</td>\n",
              "      <td>-74.001923</td>\n",
              "      <td>40.743530</td>\n",
              "      <td>CSH</td>\n",
              "      <td>5.0</td>\n",
              "      <td>0.5</td>\n",
              "      <td>0.5</td>\n",
              "      <td>0.00</td>\n",
              "      <td>0.0</td>\n",
              "      <td>6.00</td>\n",
              "    </tr>\n",
              "    <tr>\n",
              "      <th>490346</th>\n",
              "      <td>490346</td>\n",
              "      <td>CMT</td>\n",
              "      <td>14-05-13 20:39</td>\n",
              "      <td>14-05-13 20:39</td>\n",
              "      <td>1</td>\n",
              "      <td>4.60</td>\n",
              "      <td>-73.998985</td>\n",
              "      <td>40.744500</td>\n",
              "      <td>1</td>\n",
              "      <td>N</td>\n",
              "      <td>-73.947880</td>\n",
              "      <td>40.776088</td>\n",
              "      <td>CSH</td>\n",
              "      <td>14.5</td>\n",
              "      <td>0.5</td>\n",
              "      <td>0.5</td>\n",
              "      <td>0.00</td>\n",
              "      <td>0.0</td>\n",
              "      <td>15.50</td>\n",
              "    </tr>\n",
              "  </tbody>\n",
              "</table>\n",
              "<p>490347 rows × 19 columns</p>\n",
              "</div>\n",
              "    <div class=\"colab-df-buttons\">\n",
              "\n",
              "  <div class=\"colab-df-container\">\n",
              "    <button class=\"colab-df-convert\" onclick=\"convertToInteractive('df-81c52c51-0274-48b7-b9f3-453615647a99')\"\n",
              "            title=\"Convert this dataframe to an interactive table.\"\n",
              "            style=\"display:none;\">\n",
              "\n",
              "  <svg xmlns=\"http://www.w3.org/2000/svg\" height=\"24px\" viewBox=\"0 -960 960 960\">\n",
              "    <path d=\"M120-120v-720h720v720H120Zm60-500h600v-160H180v160Zm220 220h160v-160H400v160Zm0 220h160v-160H400v160ZM180-400h160v-160H180v160Zm440 0h160v-160H620v160ZM180-180h160v-160H180v160Zm440 0h160v-160H620v160Z\"/>\n",
              "  </svg>\n",
              "    </button>\n",
              "\n",
              "  <style>\n",
              "    .colab-df-container {\n",
              "      display:flex;\n",
              "      gap: 12px;\n",
              "    }\n",
              "\n",
              "    .colab-df-convert {\n",
              "      background-color: #E8F0FE;\n",
              "      border: none;\n",
              "      border-radius: 50%;\n",
              "      cursor: pointer;\n",
              "      display: none;\n",
              "      fill: #1967D2;\n",
              "      height: 32px;\n",
              "      padding: 0 0 0 0;\n",
              "      width: 32px;\n",
              "    }\n",
              "\n",
              "    .colab-df-convert:hover {\n",
              "      background-color: #E2EBFA;\n",
              "      box-shadow: 0px 1px 2px rgba(60, 64, 67, 0.3), 0px 1px 3px 1px rgba(60, 64, 67, 0.15);\n",
              "      fill: #174EA6;\n",
              "    }\n",
              "\n",
              "    .colab-df-buttons div {\n",
              "      margin-bottom: 4px;\n",
              "    }\n",
              "\n",
              "    [theme=dark] .colab-df-convert {\n",
              "      background-color: #3B4455;\n",
              "      fill: #D2E3FC;\n",
              "    }\n",
              "\n",
              "    [theme=dark] .colab-df-convert:hover {\n",
              "      background-color: #434B5C;\n",
              "      box-shadow: 0px 1px 3px 1px rgba(0, 0, 0, 0.15);\n",
              "      filter: drop-shadow(0px 1px 2px rgba(0, 0, 0, 0.3));\n",
              "      fill: #FFFFFF;\n",
              "    }\n",
              "  </style>\n",
              "\n",
              "    <script>\n",
              "      const buttonEl =\n",
              "        document.querySelector('#df-81c52c51-0274-48b7-b9f3-453615647a99 button.colab-df-convert');\n",
              "      buttonEl.style.display =\n",
              "        google.colab.kernel.accessAllowed ? 'block' : 'none';\n",
              "\n",
              "      async function convertToInteractive(key) {\n",
              "        const element = document.querySelector('#df-81c52c51-0274-48b7-b9f3-453615647a99');\n",
              "        const dataTable =\n",
              "          await google.colab.kernel.invokeFunction('convertToInteractive',\n",
              "                                                    [key], {});\n",
              "        if (!dataTable) return;\n",
              "\n",
              "        const docLinkHtml = 'Like what you see? Visit the ' +\n",
              "          '<a target=\"_blank\" href=https://colab.research.google.com/notebooks/data_table.ipynb>data table notebook</a>'\n",
              "          + ' to learn more about interactive tables.';\n",
              "        element.innerHTML = '';\n",
              "        dataTable['output_type'] = 'display_data';\n",
              "        await google.colab.output.renderOutput(dataTable, element);\n",
              "        const docLink = document.createElement('div');\n",
              "        docLink.innerHTML = docLinkHtml;\n",
              "        element.appendChild(docLink);\n",
              "      }\n",
              "    </script>\n",
              "  </div>\n",
              "\n",
              "\n",
              "<div id=\"df-72231a31-3514-4810-9977-884b41b68c36\">\n",
              "  <button class=\"colab-df-quickchart\" onclick=\"quickchart('df-72231a31-3514-4810-9977-884b41b68c36')\"\n",
              "            title=\"Suggest charts\"\n",
              "            style=\"display:none;\">\n",
              "\n",
              "<svg xmlns=\"http://www.w3.org/2000/svg\" height=\"24px\"viewBox=\"0 0 24 24\"\n",
              "     width=\"24px\">\n",
              "    <g>\n",
              "        <path d=\"M19 3H5c-1.1 0-2 .9-2 2v14c0 1.1.9 2 2 2h14c1.1 0 2-.9 2-2V5c0-1.1-.9-2-2-2zM9 17H7v-7h2v7zm4 0h-2V7h2v10zm4 0h-2v-4h2v4z\"/>\n",
              "    </g>\n",
              "</svg>\n",
              "  </button>\n",
              "\n",
              "<style>\n",
              "  .colab-df-quickchart {\n",
              "      --bg-color: #E8F0FE;\n",
              "      --fill-color: #1967D2;\n",
              "      --hover-bg-color: #E2EBFA;\n",
              "      --hover-fill-color: #174EA6;\n",
              "      --disabled-fill-color: #AAA;\n",
              "      --disabled-bg-color: #DDD;\n",
              "  }\n",
              "\n",
              "  [theme=dark] .colab-df-quickchart {\n",
              "      --bg-color: #3B4455;\n",
              "      --fill-color: #D2E3FC;\n",
              "      --hover-bg-color: #434B5C;\n",
              "      --hover-fill-color: #FFFFFF;\n",
              "      --disabled-bg-color: #3B4455;\n",
              "      --disabled-fill-color: #666;\n",
              "  }\n",
              "\n",
              "  .colab-df-quickchart {\n",
              "    background-color: var(--bg-color);\n",
              "    border: none;\n",
              "    border-radius: 50%;\n",
              "    cursor: pointer;\n",
              "    display: none;\n",
              "    fill: var(--fill-color);\n",
              "    height: 32px;\n",
              "    padding: 0;\n",
              "    width: 32px;\n",
              "  }\n",
              "\n",
              "  .colab-df-quickchart:hover {\n",
              "    background-color: var(--hover-bg-color);\n",
              "    box-shadow: 0 1px 2px rgba(60, 64, 67, 0.3), 0 1px 3px 1px rgba(60, 64, 67, 0.15);\n",
              "    fill: var(--button-hover-fill-color);\n",
              "  }\n",
              "\n",
              "  .colab-df-quickchart-complete:disabled,\n",
              "  .colab-df-quickchart-complete:disabled:hover {\n",
              "    background-color: var(--disabled-bg-color);\n",
              "    fill: var(--disabled-fill-color);\n",
              "    box-shadow: none;\n",
              "  }\n",
              "\n",
              "  .colab-df-spinner {\n",
              "    border: 2px solid var(--fill-color);\n",
              "    border-color: transparent;\n",
              "    border-bottom-color: var(--fill-color);\n",
              "    animation:\n",
              "      spin 1s steps(1) infinite;\n",
              "  }\n",
              "\n",
              "  @keyframes spin {\n",
              "    0% {\n",
              "      border-color: transparent;\n",
              "      border-bottom-color: var(--fill-color);\n",
              "      border-left-color: var(--fill-color);\n",
              "    }\n",
              "    20% {\n",
              "      border-color: transparent;\n",
              "      border-left-color: var(--fill-color);\n",
              "      border-top-color: var(--fill-color);\n",
              "    }\n",
              "    30% {\n",
              "      border-color: transparent;\n",
              "      border-left-color: var(--fill-color);\n",
              "      border-top-color: var(--fill-color);\n",
              "      border-right-color: var(--fill-color);\n",
              "    }\n",
              "    40% {\n",
              "      border-color: transparent;\n",
              "      border-right-color: var(--fill-color);\n",
              "      border-top-color: var(--fill-color);\n",
              "    }\n",
              "    60% {\n",
              "      border-color: transparent;\n",
              "      border-right-color: var(--fill-color);\n",
              "    }\n",
              "    80% {\n",
              "      border-color: transparent;\n",
              "      border-right-color: var(--fill-color);\n",
              "      border-bottom-color: var(--fill-color);\n",
              "    }\n",
              "    90% {\n",
              "      border-color: transparent;\n",
              "      border-bottom-color: var(--fill-color);\n",
              "    }\n",
              "  }\n",
              "</style>\n",
              "\n",
              "  <script>\n",
              "    async function quickchart(key) {\n",
              "      const quickchartButtonEl =\n",
              "        document.querySelector('#' + key + ' button');\n",
              "      quickchartButtonEl.disabled = true;  // To prevent multiple clicks.\n",
              "      quickchartButtonEl.classList.add('colab-df-spinner');\n",
              "      try {\n",
              "        const charts = await google.colab.kernel.invokeFunction(\n",
              "            'suggestCharts', [key], {});\n",
              "      } catch (error) {\n",
              "        console.error('Error during call to suggestCharts:', error);\n",
              "      }\n",
              "      quickchartButtonEl.classList.remove('colab-df-spinner');\n",
              "      quickchartButtonEl.classList.add('colab-df-quickchart-complete');\n",
              "    }\n",
              "    (() => {\n",
              "      let quickchartButtonEl =\n",
              "        document.querySelector('#df-72231a31-3514-4810-9977-884b41b68c36 button');\n",
              "      quickchartButtonEl.style.display =\n",
              "        google.colab.kernel.accessAllowed ? 'block' : 'none';\n",
              "    })();\n",
              "  </script>\n",
              "</div>\n",
              "\n",
              "  <div id=\"id_5d4efbe1-e2e4-4f04-8766-666396616579\">\n",
              "    <style>\n",
              "      .colab-df-generate {\n",
              "        background-color: #E8F0FE;\n",
              "        border: none;\n",
              "        border-radius: 50%;\n",
              "        cursor: pointer;\n",
              "        display: none;\n",
              "        fill: #1967D2;\n",
              "        height: 32px;\n",
              "        padding: 0 0 0 0;\n",
              "        width: 32px;\n",
              "      }\n",
              "\n",
              "      .colab-df-generate:hover {\n",
              "        background-color: #E2EBFA;\n",
              "        box-shadow: 0px 1px 2px rgba(60, 64, 67, 0.3), 0px 1px 3px 1px rgba(60, 64, 67, 0.15);\n",
              "        fill: #174EA6;\n",
              "      }\n",
              "\n",
              "      [theme=dark] .colab-df-generate {\n",
              "        background-color: #3B4455;\n",
              "        fill: #D2E3FC;\n",
              "      }\n",
              "\n",
              "      [theme=dark] .colab-df-generate:hover {\n",
              "        background-color: #434B5C;\n",
              "        box-shadow: 0px 1px 3px 1px rgba(0, 0, 0, 0.15);\n",
              "        filter: drop-shadow(0px 1px 2px rgba(0, 0, 0, 0.3));\n",
              "        fill: #FFFFFF;\n",
              "      }\n",
              "    </style>\n",
              "    <button class=\"colab-df-generate\" onclick=\"generateWithVariable('df')\"\n",
              "            title=\"Generate code using this dataframe.\"\n",
              "            style=\"display:none;\">\n",
              "\n",
              "  <svg xmlns=\"http://www.w3.org/2000/svg\" height=\"24px\"viewBox=\"0 0 24 24\"\n",
              "       width=\"24px\">\n",
              "    <path d=\"M7,19H8.4L18.45,9,17,7.55,7,17.6ZM5,21V16.75L18.45,3.32a2,2,0,0,1,2.83,0l1.4,1.43a1.91,1.91,0,0,1,.58,1.4,1.91,1.91,0,0,1-.58,1.4L9.25,21ZM18.45,9,17,7.55Zm-12,3A5.31,5.31,0,0,0,4.9,8.1,5.31,5.31,0,0,0,1,6.5,5.31,5.31,0,0,0,4.9,4.9,5.31,5.31,0,0,0,6.5,1,5.31,5.31,0,0,0,8.1,4.9,5.31,5.31,0,0,0,12,6.5,5.46,5.46,0,0,0,6.5,12Z\"/>\n",
              "  </svg>\n",
              "    </button>\n",
              "    <script>\n",
              "      (() => {\n",
              "      const buttonEl =\n",
              "        document.querySelector('#id_5d4efbe1-e2e4-4f04-8766-666396616579 button.colab-df-generate');\n",
              "      buttonEl.style.display =\n",
              "        google.colab.kernel.accessAllowed ? 'block' : 'none';\n",
              "\n",
              "      buttonEl.onclick = () => {\n",
              "        google.colab.notebook.generateWithVariable('df');\n",
              "      }\n",
              "      })();\n",
              "    </script>\n",
              "  </div>\n",
              "\n",
              "    </div>\n",
              "  </div>\n"
            ],
            "application/vnd.google.colaboratory.intrinsic+json": {
              "type": "dataframe",
              "variable_name": "df"
            }
          },
          "metadata": {},
          "execution_count": 7
        }
      ],
      "source": [
        "# see the head and tail of the data\n",
        "#df.head()\n",
        "#df.tail()\n",
        "df"
      ]
    },
    {
      "cell_type": "code",
      "execution_count": 8,
      "metadata": {
        "id": "hLZ8OOS7o2fG",
        "colab": {
          "base_uri": "https://localhost:8080/"
        },
        "outputId": "d54bb871-7856-4b14-dec7-c41bcee7ce4a"
      },
      "outputs": [
        {
          "output_type": "stream",
          "name": "stdout",
          "text": [
            "<class 'pandas.core.frame.DataFrame'>\n",
            "RangeIndex: 490347 entries, 0 to 490346\n",
            "Data columns (total 19 columns):\n",
            " #   Column              Non-Null Count   Dtype  \n",
            "---  ------              --------------   -----  \n",
            " 0   Sl No.              490347 non-null  int64  \n",
            " 1   vendor_id           490347 non-null  object \n",
            " 2   pickup_datetime     490347 non-null  object \n",
            " 3   dropoff_datetime    490347 non-null  object \n",
            " 4   passenger_count     490347 non-null  int64  \n",
            " 5   trip_distance       490347 non-null  float64\n",
            " 6   pickup_longitude    490347 non-null  float64\n",
            " 7   pickup_latitude     490347 non-null  float64\n",
            " 8   rate_code           490347 non-null  int64  \n",
            " 9   store_and_fwd_flag  246795 non-null  object \n",
            " 10  dropoff_longitude   490347 non-null  float64\n",
            " 11  dropoff_latitude    490347 non-null  float64\n",
            " 12  payment_type        490347 non-null  object \n",
            " 13  fare_amount         490347 non-null  float64\n",
            " 14  surcharge           490347 non-null  float64\n",
            " 15  mta_tax             490347 non-null  float64\n",
            " 16  tip_amount          490347 non-null  float64\n",
            " 17  tolls_amount        490347 non-null  float64\n",
            " 18  total_amount        490347 non-null  float64\n",
            "dtypes: float64(11), int64(3), object(5)\n",
            "memory usage: 71.1+ MB\n"
          ]
        }
      ],
      "source": [
        "df.info()"
      ]
    },
    {
      "cell_type": "code",
      "execution_count": 9,
      "metadata": {
        "id": "NQlja9jTon2C",
        "colab": {
          "base_uri": "https://localhost:8080/"
        },
        "outputId": "a77f92e1-0dcf-46c5-e93f-4864afa22637"
      },
      "outputs": [
        {
          "output_type": "execute_result",
          "data": {
            "text/plain": [
              "['Sl No.',\n",
              " 'vendor_id',\n",
              " 'pickup_datetime',\n",
              " 'dropoff_datetime',\n",
              " 'passenger_count',\n",
              " 'trip_distance',\n",
              " 'pickup_longitude',\n",
              " 'pickup_latitude',\n",
              " 'rate_code',\n",
              " 'store_and_fwd_flag',\n",
              " 'dropoff_longitude',\n",
              " 'dropoff_latitude',\n",
              " 'payment_type',\n",
              " 'fare_amount',\n",
              " 'surcharge',\n",
              " 'mta_tax',\n",
              " 'tip_amount',\n",
              " 'tolls_amount',\n",
              " 'total_amount']"
            ]
          },
          "metadata": {},
          "execution_count": 9
        }
      ],
      "source": [
        "list(df.columns)"
      ]
    },
    {
      "cell_type": "markdown",
      "metadata": {
        "id": "VK1aEe0GoIBb"
      },
      "source": [
        "Note: Additional step here to convert data types if needed (eg. string to categories, etc...)\n",
        "\n",
        "OR\n",
        "\n",
        "We just subselect / sample only numerical data"
      ]
    },
    {
      "cell_type": "code",
      "source": [
        "# option 2: sampling only numerical data\n",
        "numerical_df = df.select_dtypes(include=np.number)"
      ],
      "metadata": {
        "id": "QT61EiJRWJBj"
      },
      "execution_count": 10,
      "outputs": []
    },
    {
      "cell_type": "code",
      "execution_count": 11,
      "metadata": {
        "id": "_aTiRxiSxA7P",
        "colab": {
          "base_uri": "https://localhost:8080/",
          "height": 488
        },
        "outputId": "de0336bf-d3f9-4114-c565-81b1338a2e83"
      },
      "outputs": [
        {
          "output_type": "execute_result",
          "data": {
            "text/plain": [
              "                   Sl No.  passenger_count  trip_distance  pickup_longitude  \\\n",
              "Sl No.               1.00            -0.28          -0.03             -0.04   \n",
              "passenger_count     -0.28             1.00           0.02              0.02   \n",
              "trip_distance       -0.03             0.02           1.00             -0.01   \n",
              "pickup_longitude    -0.04             0.02          -0.01              1.00   \n",
              "pickup_latitude      0.04            -0.03           0.00             -0.81   \n",
              "rate_code           -0.01            -0.00           0.22              0.04   \n",
              "dropoff_longitude   -0.04             0.02          -0.01              0.96   \n",
              "dropoff_latitude     0.04            -0.03           0.01             -0.82   \n",
              "fare_amount         -0.04             0.01           0.85              0.01   \n",
              "surcharge            0.19             0.01          -0.05             -0.01   \n",
              "mta_tax              0.00             0.01          -0.11             -0.04   \n",
              "tip_amount          -0.12            -0.01           0.47              0.01   \n",
              "tolls_amount        -0.03             0.01           0.58             -0.00   \n",
              "total_amount        -0.05             0.01           0.85              0.01   \n",
              "\n",
              "                   pickup_latitude  rate_code  dropoff_longitude  \\\n",
              "Sl No.                        0.04      -0.01              -0.04   \n",
              "passenger_count              -0.03      -0.00               0.02   \n",
              "trip_distance                 0.00       0.22              -0.01   \n",
              "pickup_longitude             -0.81       0.04               0.96   \n",
              "pickup_latitude               1.00      -0.02              -0.79   \n",
              "rate_code                    -0.02       1.00               0.04   \n",
              "dropoff_longitude            -0.79       0.04               1.00   \n",
              "dropoff_latitude              0.74      -0.03              -0.82   \n",
              "fare_amount                  -0.01       0.34               0.02   \n",
              "surcharge                     0.01      -0.06              -0.01   \n",
              "mta_tax                       0.03      -0.44              -0.04   \n",
              "tip_amount                   -0.01       0.18               0.01   \n",
              "tolls_amount                  0.00       0.25              -0.00   \n",
              "total_amount                 -0.01       0.34               0.01   \n",
              "\n",
              "                   dropoff_latitude  fare_amount  surcharge  mta_tax  \\\n",
              "Sl No.                         0.04        -0.04       0.19     0.00   \n",
              "passenger_count               -0.03         0.01       0.01     0.01   \n",
              "trip_distance                  0.01         0.85      -0.05    -0.11   \n",
              "pickup_longitude              -0.82         0.01      -0.01    -0.04   \n",
              "pickup_latitude                0.74        -0.01       0.01     0.03   \n",
              "rate_code                     -0.03         0.34      -0.06    -0.44   \n",
              "dropoff_longitude             -0.82         0.02      -0.01    -0.04   \n",
              "dropoff_latitude               1.00        -0.01       0.01     0.03   \n",
              "fare_amount                   -0.01         1.00      -0.09    -0.28   \n",
              "surcharge                      0.01        -0.09       1.00     0.04   \n",
              "mta_tax                        0.03        -0.28       0.04     1.00   \n",
              "tip_amount                    -0.01         0.54      -0.03    -0.15   \n",
              "tolls_amount                   0.00         0.60      -0.07    -0.25   \n",
              "total_amount                  -0.01         0.98      -0.06    -0.28   \n",
              "\n",
              "                   tip_amount  tolls_amount  total_amount  \n",
              "Sl No.                  -0.12         -0.03         -0.05  \n",
              "passenger_count         -0.01          0.01          0.01  \n",
              "trip_distance            0.47          0.58          0.85  \n",
              "pickup_longitude         0.01         -0.00          0.01  \n",
              "pickup_latitude         -0.01          0.00         -0.01  \n",
              "rate_code                0.18          0.25          0.34  \n",
              "dropoff_longitude        0.01         -0.00          0.01  \n",
              "dropoff_latitude        -0.01          0.00         -0.01  \n",
              "fare_amount              0.54          0.60          0.98  \n",
              "surcharge               -0.03         -0.07         -0.06  \n",
              "mta_tax                 -0.15         -0.25         -0.28  \n",
              "tip_amount               1.00          0.40          0.67  \n",
              "tolls_amount             0.40          1.00          0.67  \n",
              "total_amount             0.67          0.67          1.00  "
            ],
            "text/html": [
              "\n",
              "  <div id=\"df-fafa233a-94da-43d4-954c-0bff86980f08\" class=\"colab-df-container\">\n",
              "    <div>\n",
              "<style scoped>\n",
              "    .dataframe tbody tr th:only-of-type {\n",
              "        vertical-align: middle;\n",
              "    }\n",
              "\n",
              "    .dataframe tbody tr th {\n",
              "        vertical-align: top;\n",
              "    }\n",
              "\n",
              "    .dataframe thead th {\n",
              "        text-align: right;\n",
              "    }\n",
              "</style>\n",
              "<table border=\"1\" class=\"dataframe\">\n",
              "  <thead>\n",
              "    <tr style=\"text-align: right;\">\n",
              "      <th></th>\n",
              "      <th>Sl No.</th>\n",
              "      <th>passenger_count</th>\n",
              "      <th>trip_distance</th>\n",
              "      <th>pickup_longitude</th>\n",
              "      <th>pickup_latitude</th>\n",
              "      <th>rate_code</th>\n",
              "      <th>dropoff_longitude</th>\n",
              "      <th>dropoff_latitude</th>\n",
              "      <th>fare_amount</th>\n",
              "      <th>surcharge</th>\n",
              "      <th>mta_tax</th>\n",
              "      <th>tip_amount</th>\n",
              "      <th>tolls_amount</th>\n",
              "      <th>total_amount</th>\n",
              "    </tr>\n",
              "  </thead>\n",
              "  <tbody>\n",
              "    <tr>\n",
              "      <th>Sl No.</th>\n",
              "      <td>1.00</td>\n",
              "      <td>-0.28</td>\n",
              "      <td>-0.03</td>\n",
              "      <td>-0.04</td>\n",
              "      <td>0.04</td>\n",
              "      <td>-0.01</td>\n",
              "      <td>-0.04</td>\n",
              "      <td>0.04</td>\n",
              "      <td>-0.04</td>\n",
              "      <td>0.19</td>\n",
              "      <td>0.00</td>\n",
              "      <td>-0.12</td>\n",
              "      <td>-0.03</td>\n",
              "      <td>-0.05</td>\n",
              "    </tr>\n",
              "    <tr>\n",
              "      <th>passenger_count</th>\n",
              "      <td>-0.28</td>\n",
              "      <td>1.00</td>\n",
              "      <td>0.02</td>\n",
              "      <td>0.02</td>\n",
              "      <td>-0.03</td>\n",
              "      <td>-0.00</td>\n",
              "      <td>0.02</td>\n",
              "      <td>-0.03</td>\n",
              "      <td>0.01</td>\n",
              "      <td>0.01</td>\n",
              "      <td>0.01</td>\n",
              "      <td>-0.01</td>\n",
              "      <td>0.01</td>\n",
              "      <td>0.01</td>\n",
              "    </tr>\n",
              "    <tr>\n",
              "      <th>trip_distance</th>\n",
              "      <td>-0.03</td>\n",
              "      <td>0.02</td>\n",
              "      <td>1.00</td>\n",
              "      <td>-0.01</td>\n",
              "      <td>0.00</td>\n",
              "      <td>0.22</td>\n",
              "      <td>-0.01</td>\n",
              "      <td>0.01</td>\n",
              "      <td>0.85</td>\n",
              "      <td>-0.05</td>\n",
              "      <td>-0.11</td>\n",
              "      <td>0.47</td>\n",
              "      <td>0.58</td>\n",
              "      <td>0.85</td>\n",
              "    </tr>\n",
              "    <tr>\n",
              "      <th>pickup_longitude</th>\n",
              "      <td>-0.04</td>\n",
              "      <td>0.02</td>\n",
              "      <td>-0.01</td>\n",
              "      <td>1.00</td>\n",
              "      <td>-0.81</td>\n",
              "      <td>0.04</td>\n",
              "      <td>0.96</td>\n",
              "      <td>-0.82</td>\n",
              "      <td>0.01</td>\n",
              "      <td>-0.01</td>\n",
              "      <td>-0.04</td>\n",
              "      <td>0.01</td>\n",
              "      <td>-0.00</td>\n",
              "      <td>0.01</td>\n",
              "    </tr>\n",
              "    <tr>\n",
              "      <th>pickup_latitude</th>\n",
              "      <td>0.04</td>\n",
              "      <td>-0.03</td>\n",
              "      <td>0.00</td>\n",
              "      <td>-0.81</td>\n",
              "      <td>1.00</td>\n",
              "      <td>-0.02</td>\n",
              "      <td>-0.79</td>\n",
              "      <td>0.74</td>\n",
              "      <td>-0.01</td>\n",
              "      <td>0.01</td>\n",
              "      <td>0.03</td>\n",
              "      <td>-0.01</td>\n",
              "      <td>0.00</td>\n",
              "      <td>-0.01</td>\n",
              "    </tr>\n",
              "    <tr>\n",
              "      <th>rate_code</th>\n",
              "      <td>-0.01</td>\n",
              "      <td>-0.00</td>\n",
              "      <td>0.22</td>\n",
              "      <td>0.04</td>\n",
              "      <td>-0.02</td>\n",
              "      <td>1.00</td>\n",
              "      <td>0.04</td>\n",
              "      <td>-0.03</td>\n",
              "      <td>0.34</td>\n",
              "      <td>-0.06</td>\n",
              "      <td>-0.44</td>\n",
              "      <td>0.18</td>\n",
              "      <td>0.25</td>\n",
              "      <td>0.34</td>\n",
              "    </tr>\n",
              "    <tr>\n",
              "      <th>dropoff_longitude</th>\n",
              "      <td>-0.04</td>\n",
              "      <td>0.02</td>\n",
              "      <td>-0.01</td>\n",
              "      <td>0.96</td>\n",
              "      <td>-0.79</td>\n",
              "      <td>0.04</td>\n",
              "      <td>1.00</td>\n",
              "      <td>-0.82</td>\n",
              "      <td>0.02</td>\n",
              "      <td>-0.01</td>\n",
              "      <td>-0.04</td>\n",
              "      <td>0.01</td>\n",
              "      <td>-0.00</td>\n",
              "      <td>0.01</td>\n",
              "    </tr>\n",
              "    <tr>\n",
              "      <th>dropoff_latitude</th>\n",
              "      <td>0.04</td>\n",
              "      <td>-0.03</td>\n",
              "      <td>0.01</td>\n",
              "      <td>-0.82</td>\n",
              "      <td>0.74</td>\n",
              "      <td>-0.03</td>\n",
              "      <td>-0.82</td>\n",
              "      <td>1.00</td>\n",
              "      <td>-0.01</td>\n",
              "      <td>0.01</td>\n",
              "      <td>0.03</td>\n",
              "      <td>-0.01</td>\n",
              "      <td>0.00</td>\n",
              "      <td>-0.01</td>\n",
              "    </tr>\n",
              "    <tr>\n",
              "      <th>fare_amount</th>\n",
              "      <td>-0.04</td>\n",
              "      <td>0.01</td>\n",
              "      <td>0.85</td>\n",
              "      <td>0.01</td>\n",
              "      <td>-0.01</td>\n",
              "      <td>0.34</td>\n",
              "      <td>0.02</td>\n",
              "      <td>-0.01</td>\n",
              "      <td>1.00</td>\n",
              "      <td>-0.09</td>\n",
              "      <td>-0.28</td>\n",
              "      <td>0.54</td>\n",
              "      <td>0.60</td>\n",
              "      <td>0.98</td>\n",
              "    </tr>\n",
              "    <tr>\n",
              "      <th>surcharge</th>\n",
              "      <td>0.19</td>\n",
              "      <td>0.01</td>\n",
              "      <td>-0.05</td>\n",
              "      <td>-0.01</td>\n",
              "      <td>0.01</td>\n",
              "      <td>-0.06</td>\n",
              "      <td>-0.01</td>\n",
              "      <td>0.01</td>\n",
              "      <td>-0.09</td>\n",
              "      <td>1.00</td>\n",
              "      <td>0.04</td>\n",
              "      <td>-0.03</td>\n",
              "      <td>-0.07</td>\n",
              "      <td>-0.06</td>\n",
              "    </tr>\n",
              "    <tr>\n",
              "      <th>mta_tax</th>\n",
              "      <td>0.00</td>\n",
              "      <td>0.01</td>\n",
              "      <td>-0.11</td>\n",
              "      <td>-0.04</td>\n",
              "      <td>0.03</td>\n",
              "      <td>-0.44</td>\n",
              "      <td>-0.04</td>\n",
              "      <td>0.03</td>\n",
              "      <td>-0.28</td>\n",
              "      <td>0.04</td>\n",
              "      <td>1.00</td>\n",
              "      <td>-0.15</td>\n",
              "      <td>-0.25</td>\n",
              "      <td>-0.28</td>\n",
              "    </tr>\n",
              "    <tr>\n",
              "      <th>tip_amount</th>\n",
              "      <td>-0.12</td>\n",
              "      <td>-0.01</td>\n",
              "      <td>0.47</td>\n",
              "      <td>0.01</td>\n",
              "      <td>-0.01</td>\n",
              "      <td>0.18</td>\n",
              "      <td>0.01</td>\n",
              "      <td>-0.01</td>\n",
              "      <td>0.54</td>\n",
              "      <td>-0.03</td>\n",
              "      <td>-0.15</td>\n",
              "      <td>1.00</td>\n",
              "      <td>0.40</td>\n",
              "      <td>0.67</td>\n",
              "    </tr>\n",
              "    <tr>\n",
              "      <th>tolls_amount</th>\n",
              "      <td>-0.03</td>\n",
              "      <td>0.01</td>\n",
              "      <td>0.58</td>\n",
              "      <td>-0.00</td>\n",
              "      <td>0.00</td>\n",
              "      <td>0.25</td>\n",
              "      <td>-0.00</td>\n",
              "      <td>0.00</td>\n",
              "      <td>0.60</td>\n",
              "      <td>-0.07</td>\n",
              "      <td>-0.25</td>\n",
              "      <td>0.40</td>\n",
              "      <td>1.00</td>\n",
              "      <td>0.67</td>\n",
              "    </tr>\n",
              "    <tr>\n",
              "      <th>total_amount</th>\n",
              "      <td>-0.05</td>\n",
              "      <td>0.01</td>\n",
              "      <td>0.85</td>\n",
              "      <td>0.01</td>\n",
              "      <td>-0.01</td>\n",
              "      <td>0.34</td>\n",
              "      <td>0.01</td>\n",
              "      <td>-0.01</td>\n",
              "      <td>0.98</td>\n",
              "      <td>-0.06</td>\n",
              "      <td>-0.28</td>\n",
              "      <td>0.67</td>\n",
              "      <td>0.67</td>\n",
              "      <td>1.00</td>\n",
              "    </tr>\n",
              "  </tbody>\n",
              "</table>\n",
              "</div>\n",
              "    <div class=\"colab-df-buttons\">\n",
              "\n",
              "  <div class=\"colab-df-container\">\n",
              "    <button class=\"colab-df-convert\" onclick=\"convertToInteractive('df-fafa233a-94da-43d4-954c-0bff86980f08')\"\n",
              "            title=\"Convert this dataframe to an interactive table.\"\n",
              "            style=\"display:none;\">\n",
              "\n",
              "  <svg xmlns=\"http://www.w3.org/2000/svg\" height=\"24px\" viewBox=\"0 -960 960 960\">\n",
              "    <path d=\"M120-120v-720h720v720H120Zm60-500h600v-160H180v160Zm220 220h160v-160H400v160Zm0 220h160v-160H400v160ZM180-400h160v-160H180v160Zm440 0h160v-160H620v160ZM180-180h160v-160H180v160Zm440 0h160v-160H620v160Z\"/>\n",
              "  </svg>\n",
              "    </button>\n",
              "\n",
              "  <style>\n",
              "    .colab-df-container {\n",
              "      display:flex;\n",
              "      gap: 12px;\n",
              "    }\n",
              "\n",
              "    .colab-df-convert {\n",
              "      background-color: #E8F0FE;\n",
              "      border: none;\n",
              "      border-radius: 50%;\n",
              "      cursor: pointer;\n",
              "      display: none;\n",
              "      fill: #1967D2;\n",
              "      height: 32px;\n",
              "      padding: 0 0 0 0;\n",
              "      width: 32px;\n",
              "    }\n",
              "\n",
              "    .colab-df-convert:hover {\n",
              "      background-color: #E2EBFA;\n",
              "      box-shadow: 0px 1px 2px rgba(60, 64, 67, 0.3), 0px 1px 3px 1px rgba(60, 64, 67, 0.15);\n",
              "      fill: #174EA6;\n",
              "    }\n",
              "\n",
              "    .colab-df-buttons div {\n",
              "      margin-bottom: 4px;\n",
              "    }\n",
              "\n",
              "    [theme=dark] .colab-df-convert {\n",
              "      background-color: #3B4455;\n",
              "      fill: #D2E3FC;\n",
              "    }\n",
              "\n",
              "    [theme=dark] .colab-df-convert:hover {\n",
              "      background-color: #434B5C;\n",
              "      box-shadow: 0px 1px 3px 1px rgba(0, 0, 0, 0.15);\n",
              "      filter: drop-shadow(0px 1px 2px rgba(0, 0, 0, 0.3));\n",
              "      fill: #FFFFFF;\n",
              "    }\n",
              "  </style>\n",
              "\n",
              "    <script>\n",
              "      const buttonEl =\n",
              "        document.querySelector('#df-fafa233a-94da-43d4-954c-0bff86980f08 button.colab-df-convert');\n",
              "      buttonEl.style.display =\n",
              "        google.colab.kernel.accessAllowed ? 'block' : 'none';\n",
              "\n",
              "      async function convertToInteractive(key) {\n",
              "        const element = document.querySelector('#df-fafa233a-94da-43d4-954c-0bff86980f08');\n",
              "        const dataTable =\n",
              "          await google.colab.kernel.invokeFunction('convertToInteractive',\n",
              "                                                    [key], {});\n",
              "        if (!dataTable) return;\n",
              "\n",
              "        const docLinkHtml = 'Like what you see? Visit the ' +\n",
              "          '<a target=\"_blank\" href=https://colab.research.google.com/notebooks/data_table.ipynb>data table notebook</a>'\n",
              "          + ' to learn more about interactive tables.';\n",
              "        element.innerHTML = '';\n",
              "        dataTable['output_type'] = 'display_data';\n",
              "        await google.colab.output.renderOutput(dataTable, element);\n",
              "        const docLink = document.createElement('div');\n",
              "        docLink.innerHTML = docLinkHtml;\n",
              "        element.appendChild(docLink);\n",
              "      }\n",
              "    </script>\n",
              "  </div>\n",
              "\n",
              "\n",
              "<div id=\"df-6ded704f-7521-4ec0-ba03-0d62a88f3dcb\">\n",
              "  <button class=\"colab-df-quickchart\" onclick=\"quickchart('df-6ded704f-7521-4ec0-ba03-0d62a88f3dcb')\"\n",
              "            title=\"Suggest charts\"\n",
              "            style=\"display:none;\">\n",
              "\n",
              "<svg xmlns=\"http://www.w3.org/2000/svg\" height=\"24px\"viewBox=\"0 0 24 24\"\n",
              "     width=\"24px\">\n",
              "    <g>\n",
              "        <path d=\"M19 3H5c-1.1 0-2 .9-2 2v14c0 1.1.9 2 2 2h14c1.1 0 2-.9 2-2V5c0-1.1-.9-2-2-2zM9 17H7v-7h2v7zm4 0h-2V7h2v10zm4 0h-2v-4h2v4z\"/>\n",
              "    </g>\n",
              "</svg>\n",
              "  </button>\n",
              "\n",
              "<style>\n",
              "  .colab-df-quickchart {\n",
              "      --bg-color: #E8F0FE;\n",
              "      --fill-color: #1967D2;\n",
              "      --hover-bg-color: #E2EBFA;\n",
              "      --hover-fill-color: #174EA6;\n",
              "      --disabled-fill-color: #AAA;\n",
              "      --disabled-bg-color: #DDD;\n",
              "  }\n",
              "\n",
              "  [theme=dark] .colab-df-quickchart {\n",
              "      --bg-color: #3B4455;\n",
              "      --fill-color: #D2E3FC;\n",
              "      --hover-bg-color: #434B5C;\n",
              "      --hover-fill-color: #FFFFFF;\n",
              "      --disabled-bg-color: #3B4455;\n",
              "      --disabled-fill-color: #666;\n",
              "  }\n",
              "\n",
              "  .colab-df-quickchart {\n",
              "    background-color: var(--bg-color);\n",
              "    border: none;\n",
              "    border-radius: 50%;\n",
              "    cursor: pointer;\n",
              "    display: none;\n",
              "    fill: var(--fill-color);\n",
              "    height: 32px;\n",
              "    padding: 0;\n",
              "    width: 32px;\n",
              "  }\n",
              "\n",
              "  .colab-df-quickchart:hover {\n",
              "    background-color: var(--hover-bg-color);\n",
              "    box-shadow: 0 1px 2px rgba(60, 64, 67, 0.3), 0 1px 3px 1px rgba(60, 64, 67, 0.15);\n",
              "    fill: var(--button-hover-fill-color);\n",
              "  }\n",
              "\n",
              "  .colab-df-quickchart-complete:disabled,\n",
              "  .colab-df-quickchart-complete:disabled:hover {\n",
              "    background-color: var(--disabled-bg-color);\n",
              "    fill: var(--disabled-fill-color);\n",
              "    box-shadow: none;\n",
              "  }\n",
              "\n",
              "  .colab-df-spinner {\n",
              "    border: 2px solid var(--fill-color);\n",
              "    border-color: transparent;\n",
              "    border-bottom-color: var(--fill-color);\n",
              "    animation:\n",
              "      spin 1s steps(1) infinite;\n",
              "  }\n",
              "\n",
              "  @keyframes spin {\n",
              "    0% {\n",
              "      border-color: transparent;\n",
              "      border-bottom-color: var(--fill-color);\n",
              "      border-left-color: var(--fill-color);\n",
              "    }\n",
              "    20% {\n",
              "      border-color: transparent;\n",
              "      border-left-color: var(--fill-color);\n",
              "      border-top-color: var(--fill-color);\n",
              "    }\n",
              "    30% {\n",
              "      border-color: transparent;\n",
              "      border-left-color: var(--fill-color);\n",
              "      border-top-color: var(--fill-color);\n",
              "      border-right-color: var(--fill-color);\n",
              "    }\n",
              "    40% {\n",
              "      border-color: transparent;\n",
              "      border-right-color: var(--fill-color);\n",
              "      border-top-color: var(--fill-color);\n",
              "    }\n",
              "    60% {\n",
              "      border-color: transparent;\n",
              "      border-right-color: var(--fill-color);\n",
              "    }\n",
              "    80% {\n",
              "      border-color: transparent;\n",
              "      border-right-color: var(--fill-color);\n",
              "      border-bottom-color: var(--fill-color);\n",
              "    }\n",
              "    90% {\n",
              "      border-color: transparent;\n",
              "      border-bottom-color: var(--fill-color);\n",
              "    }\n",
              "  }\n",
              "</style>\n",
              "\n",
              "  <script>\n",
              "    async function quickchart(key) {\n",
              "      const quickchartButtonEl =\n",
              "        document.querySelector('#' + key + ' button');\n",
              "      quickchartButtonEl.disabled = true;  // To prevent multiple clicks.\n",
              "      quickchartButtonEl.classList.add('colab-df-spinner');\n",
              "      try {\n",
              "        const charts = await google.colab.kernel.invokeFunction(\n",
              "            'suggestCharts', [key], {});\n",
              "      } catch (error) {\n",
              "        console.error('Error during call to suggestCharts:', error);\n",
              "      }\n",
              "      quickchartButtonEl.classList.remove('colab-df-spinner');\n",
              "      quickchartButtonEl.classList.add('colab-df-quickchart-complete');\n",
              "    }\n",
              "    (() => {\n",
              "      let quickchartButtonEl =\n",
              "        document.querySelector('#df-6ded704f-7521-4ec0-ba03-0d62a88f3dcb button');\n",
              "      quickchartButtonEl.style.display =\n",
              "        google.colab.kernel.accessAllowed ? 'block' : 'none';\n",
              "    })();\n",
              "  </script>\n",
              "</div>\n",
              "\n",
              "    </div>\n",
              "  </div>\n"
            ],
            "application/vnd.google.colaboratory.intrinsic+json": {
              "type": "dataframe",
              "summary": "{\n  \"name\": \"round(ctable,2)\",\n  \"rows\": 14,\n  \"fields\": [\n    {\n      \"column\": \"Sl No.\",\n      \"properties\": {\n        \"dtype\": \"number\",\n        \"std\": 0.2925944949269184,\n        \"min\": -0.28,\n        \"max\": 1.0,\n        \"num_unique_values\": 10,\n        \"samples\": [\n          -0.12,\n          -0.28,\n          -0.01\n        ],\n        \"semantic_type\": \"\",\n        \"description\": \"\"\n      }\n    },\n    {\n      \"column\": \"passenger_count\",\n      \"properties\": {\n        \"dtype\": \"number\",\n        \"std\": 0.28294370969707544,\n        \"min\": -0.28,\n        \"max\": 1.0,\n        \"num_unique_values\": 7,\n        \"samples\": [\n          -0.28,\n          1.0,\n          0.01\n        ],\n        \"semantic_type\": \"\",\n        \"description\": \"\"\n      }\n    },\n    {\n      \"column\": \"trip_distance\",\n      \"properties\": {\n        \"dtype\": \"number\",\n        \"std\": 0.39622185482600303,\n        \"min\": -0.11,\n        \"max\": 1.0,\n        \"num_unique_values\": 12,\n        \"samples\": [\n          0.47,\n          -0.11,\n          -0.03\n        ],\n        \"semantic_type\": \"\",\n        \"description\": \"\"\n      }\n    },\n    {\n      \"column\": \"pickup_longitude\",\n      \"properties\": {\n        \"dtype\": \"number\",\n        \"std\": 0.499883502911945,\n        \"min\": -0.82,\n        \"max\": 1.0,\n        \"num_unique_values\": 10,\n        \"samples\": [\n          0.01,\n          0.02,\n          0.04\n        ],\n        \"semantic_type\": \"\",\n        \"description\": \"\"\n      }\n    },\n    {\n      \"column\": \"pickup_latitude\",\n      \"properties\": {\n        \"dtype\": \"number\",\n        \"std\": 0.4666245402231451,\n        \"min\": -0.81,\n        \"max\": 1.0,\n        \"num_unique_values\": 11,\n        \"samples\": [\n          -0.02,\n          0.04,\n          0.01\n        ],\n        \"semantic_type\": \"\",\n        \"description\": \"\"\n      }\n    },\n    {\n      \"column\": \"rate_code\",\n      \"properties\": {\n        \"dtype\": \"number\",\n        \"std\": 0.32007639884705824,\n        \"min\": -0.44,\n        \"max\": 1.0,\n        \"num_unique_values\": 12,\n        \"samples\": [\n          0.18,\n          -0.44,\n          -0.01\n        ],\n        \"semantic_type\": \"\",\n        \"description\": \"\"\n      }\n    },\n    {\n      \"column\": \"dropoff_longitude\",\n      \"properties\": {\n        \"dtype\": \"number\",\n        \"std\": 0.4973274729839639,\n        \"min\": -0.82,\n        \"max\": 1.0,\n        \"num_unique_values\": 10,\n        \"samples\": [\n          0.01,\n          0.02,\n          0.04\n        ],\n        \"semantic_type\": \"\",\n        \"description\": \"\"\n      }\n    },\n    {\n      \"column\": \"dropoff_latitude\",\n      \"properties\": {\n        \"dtype\": \"number\",\n        \"std\": 0.4720239330866533,\n        \"min\": -0.82,\n        \"max\": 1.0,\n        \"num_unique_values\": 9,\n        \"samples\": [\n          0.03,\n          -0.03,\n          1.0\n        ],\n        \"semantic_type\": \"\",\n        \"description\": \"\"\n      }\n    },\n    {\n      \"column\": \"fare_amount\",\n      \"properties\": {\n        \"dtype\": \"number\",\n        \"std\": 0.43335897360040904,\n        \"min\": -0.28,\n        \"max\": 1.0,\n        \"num_unique_values\": 12,\n        \"samples\": [\n          0.6,\n          0.54,\n          -0.04\n        ],\n        \"semantic_type\": \"\",\n        \"description\": \"\"\n      }\n    },\n    {\n      \"column\": \"surcharge\",\n      \"properties\": {\n        \"dtype\": \"number\",\n        \"std\": 0.27824805124560714,\n        \"min\": -0.09,\n        \"max\": 1.0,\n        \"num_unique_values\": 10,\n        \"samples\": [\n          -0.03,\n          0.01,\n          -0.09\n        ],\n        \"semantic_type\": \"\",\n        \"description\": \"\"\n      }\n    },\n    {\n      \"column\": \"mta_tax\",\n      \"properties\": {\n        \"dtype\": \"number\",\n        \"std\": 0.3325591742767058,\n        \"min\": -0.44,\n        \"max\": 1.0,\n        \"num_unique_values\": 11,\n        \"samples\": [\n          -0.44,\n          0.0,\n          -0.15\n        ],\n        \"semantic_type\": \"\",\n        \"description\": \"\"\n      }\n    },\n    {\n      \"column\": \"tip_amount\",\n      \"properties\": {\n        \"dtype\": \"number\",\n        \"std\": 0.34757321941879077,\n        \"min\": -0.15,\n        \"max\": 1.0,\n        \"num_unique_values\": 11,\n        \"samples\": [\n          0.54,\n          -0.12,\n          0.4\n        ],\n        \"semantic_type\": \"\",\n        \"description\": \"\"\n      }\n    },\n    {\n      \"column\": \"tolls_amount\",\n      \"properties\": {\n        \"dtype\": \"number\",\n        \"std\": 0.3640522846159133,\n        \"min\": -0.25,\n        \"max\": 1.0,\n        \"num_unique_values\": 11,\n        \"samples\": [\n          0.6,\n          -0.03,\n          1.0\n        ],\n        \"semantic_type\": \"\",\n        \"description\": \"\"\n      }\n    },\n    {\n      \"column\": \"total_amount\",\n      \"properties\": {\n        \"dtype\": \"number\",\n        \"std\": 0.4440157654858665,\n        \"min\": -0.28,\n        \"max\": 1.0,\n        \"num_unique_values\": 10,\n        \"samples\": [\n          0.67,\n          0.01,\n          0.98\n        ],\n        \"semantic_type\": \"\",\n        \"description\": \"\"\n      }\n    }\n  ]\n}"
            }
          },
          "metadata": {},
          "execution_count": 11
        }
      ],
      "source": [
        "# LEt's plot a correlation table\n",
        "ctable = numerical_df.corr(method='pearson', min_periods=1)\n",
        "round(ctable,2)"
      ]
    },
    {
      "cell_type": "code",
      "execution_count": 12,
      "metadata": {
        "id": "7mUCc539xaZu",
        "colab": {
          "base_uri": "https://localhost:8080/",
          "height": 561
        },
        "outputId": "1ca7f624-fd0e-4f6d-c503-1603a2d54b2d"
      },
      "outputs": [
        {
          "output_type": "execute_result",
          "data": {
            "text/plain": [
              "<Axes: >"
            ]
          },
          "metadata": {},
          "execution_count": 12
        },
        {
          "output_type": "display_data",
          "data": {
            "text/plain": [
              "<Figure size 640x480 with 2 Axes>"
            ],
            "image/png": "[encoded data removed]"
          },
          "metadata": {}
        }
      ],
      "source": [
        "sns.heatmap(ctable)"
      ]
    },
    {
      "cell_type": "markdown",
      "metadata": {
        "id": "lEHKKYs2pAKy"
      },
      "source": [
        "ASSUME we are interested in the following simple objective:\n",
        "\n",
        "***What is the relationship between Total Amount (taxi fare), trip distance, and # of passengers?***"
      ]
    },
    {
      "cell_type": "markdown",
      "metadata": {
        "id": "X9dHlHWke9J9"
      },
      "source": [
        "###**Step 3. Sumamry Descriptive Stats and Plots**"
      ]
    },
    {
      "cell_type": "code",
      "execution_count": 13,
      "metadata": {
        "id": "lLA4KqpdoCif",
        "colab": {
          "base_uri": "https://localhost:8080/",
          "height": 300
        },
        "outputId": "4d106da8-3b33-442e-821b-8812a0c36aa1"
      },
      "outputs": [
        {
          "output_type": "execute_result",
          "data": {
            "text/plain": [
              "        total_amount  passenger_count  trip_distance\n",
              "count  490347.000000    490347.000000  490347.000000\n",
              "mean       14.816540         1.674055       2.767391\n",
              "std        11.834598         1.376545       3.263962\n",
              "min         3.000000         0.000000       0.000000\n",
              "25%         8.000000         1.000000       1.000000\n",
              "50%        11.400000         1.000000       1.700000\n",
              "75%        16.500000         2.000000       3.000000\n",
              "max       492.900000         6.000000      70.790000"
            ],
            "text/html": [
              "\n",
              "  <div id=\"df-171111bc-e829-49a6-b2e5-ab8d9ef949b4\" class=\"colab-df-container\">\n",
              "    <div>\n",
              "<style scoped>\n",
              "    .dataframe tbody tr th:only-of-type {\n",
              "        vertical-align: middle;\n",
              "    }\n",
              "\n",
              "    .dataframe tbody tr th {\n",
              "        vertical-align: top;\n",
              "    }\n",
              "\n",
              "    .dataframe thead th {\n",
              "        text-align: right;\n",
              "    }\n",
              "</style>\n",
              "<table border=\"1\" class=\"dataframe\">\n",
              "  <thead>\n",
              "    <tr style=\"text-align: right;\">\n",
              "      <th></th>\n",
              "      <th>total_amount</th>\n",
              "      <th>passenger_count</th>\n",
              "      <th>trip_distance</th>\n",
              "    </tr>\n",
              "  </thead>\n",
              "  <tbody>\n",
              "    <tr>\n",
              "      <th>count</th>\n",
              "      <td>490347.000000</td>\n",
              "      <td>490347.000000</td>\n",
              "      <td>490347.000000</td>\n",
              "    </tr>\n",
              "    <tr>\n",
              "      <th>mean</th>\n",
              "      <td>14.816540</td>\n",
              "      <td>1.674055</td>\n",
              "      <td>2.767391</td>\n",
              "    </tr>\n",
              "    <tr>\n",
              "      <th>std</th>\n",
              "      <td>11.834598</td>\n",
              "      <td>1.376545</td>\n",
              "      <td>3.263962</td>\n",
              "    </tr>\n",
              "    <tr>\n",
              "      <th>min</th>\n",
              "      <td>3.000000</td>\n",
              "      <td>0.000000</td>\n",
              "      <td>0.000000</td>\n",
              "    </tr>\n",
              "    <tr>\n",
              "      <th>25%</th>\n",
              "      <td>8.000000</td>\n",
              "      <td>1.000000</td>\n",
              "      <td>1.000000</td>\n",
              "    </tr>\n",
              "    <tr>\n",
              "      <th>50%</th>\n",
              "      <td>11.400000</td>\n",
              "      <td>1.000000</td>\n",
              "      <td>1.700000</td>\n",
              "    </tr>\n",
              "    <tr>\n",
              "      <th>75%</th>\n",
              "      <td>16.500000</td>\n",
              "      <td>2.000000</td>\n",
              "      <td>3.000000</td>\n",
              "    </tr>\n",
              "    <tr>\n",
              "      <th>max</th>\n",
              "      <td>492.900000</td>\n",
              "      <td>6.000000</td>\n",
              "      <td>70.790000</td>\n",
              "    </tr>\n",
              "  </tbody>\n",
              "</table>\n",
              "</div>\n",
              "    <div class=\"colab-df-buttons\">\n",
              "\n",
              "  <div class=\"colab-df-container\">\n",
              "    <button class=\"colab-df-convert\" onclick=\"convertToInteractive('df-171111bc-e829-49a6-b2e5-ab8d9ef949b4')\"\n",
              "            title=\"Convert this dataframe to an interactive table.\"\n",
              "            style=\"display:none;\">\n",
              "\n",
              "  <svg xmlns=\"http://www.w3.org/2000/svg\" height=\"24px\" viewBox=\"0 -960 960 960\">\n",
              "    <path d=\"M120-120v-720h720v720H120Zm60-500h600v-160H180v160Zm220 220h160v-160H400v160Zm0 220h160v-160H400v160ZM180-400h160v-160H180v160Zm440 0h160v-160H620v160ZM180-180h160v-160H180v160Zm440 0h160v-160H620v160Z\"/>\n",
              "  </svg>\n",
              "    </button>\n",
              "\n",
              "  <style>\n",
              "    .colab-df-container {\n",
              "      display:flex;\n",
              "      gap: 12px;\n",
              "    }\n",
              "\n",
              "    .colab-df-convert {\n",
              "      background-color: #E8F0FE;\n",
              "      border: none;\n",
              "      border-radius: 50%;\n",
              "      cursor: pointer;\n",
              "      display: none;\n",
              "      fill: #1967D2;\n",
              "      height: 32px;\n",
              "      padding: 0 0 0 0;\n",
              "      width: 32px;\n",
              "    }\n",
              "\n",
              "    .colab-df-convert:hover {\n",
              "      background-color: #E2EBFA;\n",
              "      box-shadow: 0px 1px 2px rgba(60, 64, 67, 0.3), 0px 1px 3px 1px rgba(60, 64, 67, 0.15);\n",
              "      fill: #174EA6;\n",
              "    }\n",
              "\n",
              "    .colab-df-buttons div {\n",
              "      margin-bottom: 4px;\n",
              "    }\n",
              "\n",
              "    [theme=dark] .colab-df-convert {\n",
              "      background-color: #3B4455;\n",
              "      fill: #D2E3FC;\n",
              "    }\n",
              "\n",
              "    [theme=dark] .colab-df-convert:hover {\n",
              "      background-color: #434B5C;\n",
              "      box-shadow: 0px 1px 3px 1px rgba(0, 0, 0, 0.15);\n",
              "      filter: drop-shadow(0px 1px 2px rgba(0, 0, 0, 0.3));\n",
              "      fill: #FFFFFF;\n",
              "    }\n",
              "  </style>\n",
              "\n",
              "    <script>\n",
              "      const buttonEl =\n",
              "        document.querySelector('#df-171111bc-e829-49a6-b2e5-ab8d9ef949b4 button.colab-df-convert');\n",
              "      buttonEl.style.display =\n",
              "        google.colab.kernel.accessAllowed ? 'block' : 'none';\n",
              "\n",
              "      async function convertToInteractive(key) {\n",
              "        const element = document.querySelector('#df-171111bc-e829-49a6-b2e5-ab8d9ef949b4');\n",
              "        const dataTable =\n",
              "          await google.colab.kernel.invokeFunction('convertToInteractive',\n",
              "                                                    [key], {});\n",
              "        if (!dataTable) return;\n",
              "\n",
              "        const docLinkHtml = 'Like what you see? Visit the ' +\n",
              "          '<a target=\"_blank\" href=https://colab.research.google.com/notebooks/data_table.ipynb>data table notebook</a>'\n",
              "          + ' to learn more about interactive tables.';\n",
              "        element.innerHTML = '';\n",
              "        dataTable['output_type'] = 'display_data';\n",
              "        await google.colab.output.renderOutput(dataTable, element);\n",
              "        const docLink = document.createElement('div');\n",
              "        docLink.innerHTML = docLinkHtml;\n",
              "        element.appendChild(docLink);\n",
              "      }\n",
              "    </script>\n",
              "  </div>\n",
              "\n",
              "\n",
              "<div id=\"df-2ec7b1b0-0d48-4082-afd7-b07ff7e12356\">\n",
              "  <button class=\"colab-df-quickchart\" onclick=\"quickchart('df-2ec7b1b0-0d48-4082-afd7-b07ff7e12356')\"\n",
              "            title=\"Suggest charts\"\n",
              "            style=\"display:none;\">\n",
              "\n",
              "<svg xmlns=\"http://www.w3.org/2000/svg\" height=\"24px\"viewBox=\"0 0 24 24\"\n",
              "     width=\"24px\">\n",
              "    <g>\n",
              "        <path d=\"M19 3H5c-1.1 0-2 .9-2 2v14c0 1.1.9 2 2 2h14c1.1 0 2-.9 2-2V5c0-1.1-.9-2-2-2zM9 17H7v-7h2v7zm4 0h-2V7h2v10zm4 0h-2v-4h2v4z\"/>\n",
              "    </g>\n",
              "</svg>\n",
              "  </button>\n",
              "\n",
              "<style>\n",
              "  .colab-df-quickchart {\n",
              "      --bg-color: #E8F0FE;\n",
              "      --fill-color: #1967D2;\n",
              "      --hover-bg-color: #E2EBFA;\n",
              "      --hover-fill-color: #174EA6;\n",
              "      --disabled-fill-color: #AAA;\n",
              "      --disabled-bg-color: #DDD;\n",
              "  }\n",
              "\n",
              "  [theme=dark] .colab-df-quickchart {\n",
              "      --bg-color: #3B4455;\n",
              "      --fill-color: #D2E3FC;\n",
              "      --hover-bg-color: #434B5C;\n",
              "      --hover-fill-color: #FFFFFF;\n",
              "      --disabled-bg-color: #3B4455;\n",
              "      --disabled-fill-color: #666;\n",
              "  }\n",
              "\n",
              "  .colab-df-quickchart {\n",
              "    background-color: var(--bg-color);\n",
              "    border: none;\n",
              "    border-radius: 50%;\n",
              "    cursor: pointer;\n",
              "    display: none;\n",
              "    fill: var(--fill-color);\n",
              "    height: 32px;\n",
              "    padding: 0;\n",
              "    width: 32px;\n",
              "  }\n",
              "\n",
              "  .colab-df-quickchart:hover {\n",
              "    background-color: var(--hover-bg-color);\n",
              "    box-shadow: 0 1px 2px rgba(60, 64, 67, 0.3), 0 1px 3px 1px rgba(60, 64, 67, 0.15);\n",
              "    fill: var(--button-hover-fill-color);\n",
              "  }\n",
              "\n",
              "  .colab-df-quickchart-complete:disabled,\n",
              "  .colab-df-quickchart-complete:disabled:hover {\n",
              "    background-color: var(--disabled-bg-color);\n",
              "    fill: var(--disabled-fill-color);\n",
              "    box-shadow: none;\n",
              "  }\n",
              "\n",
              "  .colab-df-spinner {\n",
              "    border: 2px solid var(--fill-color);\n",
              "    border-color: transparent;\n",
              "    border-bottom-color: var(--fill-color);\n",
              "    animation:\n",
              "      spin 1s steps(1) infinite;\n",
              "  }\n",
              "\n",
              "  @keyframes spin {\n",
              "    0% {\n",
              "      border-color: transparent;\n",
              "      border-bottom-color: var(--fill-color);\n",
              "      border-left-color: var(--fill-color);\n",
              "    }\n",
              "    20% {\n",
              "      border-color: transparent;\n",
              "      border-left-color: var(--fill-color);\n",
              "      border-top-color: var(--fill-color);\n",
              "    }\n",
              "    30% {\n",
              "      border-color: transparent;\n",
              "      border-left-color: var(--fill-color);\n",
              "      border-top-color: var(--fill-color);\n",
              "      border-right-color: var(--fill-color);\n",
              "    }\n",
              "    40% {\n",
              "      border-color: transparent;\n",
              "      border-right-color: var(--fill-color);\n",
              "      border-top-color: var(--fill-color);\n",
              "    }\n",
              "    60% {\n",
              "      border-color: transparent;\n",
              "      border-right-color: var(--fill-color);\n",
              "    }\n",
              "    80% {\n",
              "      border-color: transparent;\n",
              "      border-right-color: var(--fill-color);\n",
              "      border-bottom-color: var(--fill-color);\n",
              "    }\n",
              "    90% {\n",
              "      border-color: transparent;\n",
              "      border-bottom-color: var(--fill-color);\n",
              "    }\n",
              "  }\n",
              "</style>\n",
              "\n",
              "  <script>\n",
              "    async function quickchart(key) {\n",
              "      const quickchartButtonEl =\n",
              "        document.querySelector('#' + key + ' button');\n",
              "      quickchartButtonEl.disabled = true;  // To prevent multiple clicks.\n",
              "      quickchartButtonEl.classList.add('colab-df-spinner');\n",
              "      try {\n",
              "        const charts = await google.colab.kernel.invokeFunction(\n",
              "            'suggestCharts', [key], {});\n",
              "      } catch (error) {\n",
              "        console.error('Error during call to suggestCharts:', error);\n",
              "      }\n",
              "      quickchartButtonEl.classList.remove('colab-df-spinner');\n",
              "      quickchartButtonEl.classList.add('colab-df-quickchart-complete');\n",
              "    }\n",
              "    (() => {\n",
              "      let quickchartButtonEl =\n",
              "        document.querySelector('#df-2ec7b1b0-0d48-4082-afd7-b07ff7e12356 button');\n",
              "      quickchartButtonEl.style.display =\n",
              "        google.colab.kernel.accessAllowed ? 'block' : 'none';\n",
              "    })();\n",
              "  </script>\n",
              "</div>\n",
              "\n",
              "    </div>\n",
              "  </div>\n"
            ],
            "application/vnd.google.colaboratory.intrinsic+json": {
              "type": "dataframe",
              "summary": "{\n  \"name\": \"df[['total_amount','passenger_count','trip_distance']]\",\n  \"rows\": 8,\n  \"fields\": [\n    {\n      \"column\": \"total_amount\",\n      \"properties\": {\n        \"dtype\": \"number\",\n        \"std\": 173335.72047561093,\n        \"min\": 3.0,\n        \"max\": 490347.0,\n        \"num_unique_values\": 8,\n        \"samples\": [\n          14.816540164414176,\n          11.4,\n          490347.0\n        ],\n        \"semantic_type\": \"\",\n        \"description\": \"\"\n      }\n    },\n    {\n      \"column\": \"passenger_count\",\n      \"properties\": {\n        \"dtype\": \"number\",\n        \"std\": 173363.18527157605,\n        \"min\": 0.0,\n        \"max\": 490347.0,\n        \"num_unique_values\": 7,\n        \"samples\": [\n          490347.0,\n          1.6740553118505874,\n          2.0\n        ],\n        \"semantic_type\": \"\",\n        \"description\": \"\"\n      }\n    },\n    {\n      \"column\": \"trip_distance\",\n      \"properties\": {\n        \"dtype\": \"number\",\n        \"std\": 173359.67813626298,\n        \"min\": 0.0,\n        \"max\": 490347.0,\n        \"num_unique_values\": 8,\n        \"samples\": [\n          2.7673909904618577,\n          1.7,\n          490347.0\n        ],\n        \"semantic_type\": \"\",\n        \"description\": \"\"\n      }\n    }\n  ]\n}"
            }
          },
          "metadata": {},
          "execution_count": 13
        }
      ],
      "source": [
        "# Summary statistics for our 3 variables of interest\n",
        "df[['total_amount','passenger_count','trip_distance']].describe(include=\"all\")"
      ]
    },
    {
      "cell_type": "code",
      "execution_count": 20,
      "metadata": {
        "id": "bpU_V4pnqI-w",
        "colab": {
          "base_uri": "https://localhost:8080/",
          "height": 466
        },
        "outputId": "9f27121e-201c-45bb-f396-568677008360"
      },
      "outputs": [
        {
          "output_type": "execute_result",
          "data": {
            "text/plain": [
              "<Axes: xlabel='passenger_count', ylabel='Count'>"
            ]
          },
          "metadata": {},
          "execution_count": 20
        },
        {
          "output_type": "display_data",
          "data": {
            "text/plain": [
              "<Figure size 640x480 with 1 Axes>"
            ],
            "image/png": "[encoded data removed]"
          },
          "metadata": {}
        }
      ],
      "source": [
        "sns.histplot(df['passenger_count'])"
      ]
    },
    {
      "cell_type": "code",
      "execution_count": 19,
      "metadata": {
        "id": "5A2gZZ-1qasR",
        "colab": {
          "base_uri": "https://localhost:8080/",
          "height": 467
        },
        "outputId": "ed6ab5af-dbe4-41b1-ddf0-c0d3f6d847e0"
      },
      "outputs": [
        {
          "output_type": "execute_result",
          "data": {
            "text/plain": [
              "<Axes: xlabel='total_amount'>"
            ]
          },
          "metadata": {},
          "execution_count": 19
        },
        {
          "output_type": "display_data",
          "data": {
            "text/plain": [
              "<Figure size 640x480 with 1 Axes>"
            ],
            "image/png": "[encoded data removed]"
          },
          "metadata": {}
        }
      ],
      "source": [
        "#sns.histplot(df['total_amount'])\n",
        "sns.boxplot(x=df[\"total_amount\"])"
      ]
    },
    {
      "cell_type": "markdown",
      "metadata": {
        "id": "7GxJQAKFWFHT"
      },
      "source": [
        "Note here that a) there are a lot of outliers, and b) you could probaby transform this data"
      ]
    },
    {
      "cell_type": "code",
      "execution_count": 18,
      "metadata": {
        "id": "e7L2GTVgqi4O",
        "colab": {
          "base_uri": "https://localhost:8080/",
          "height": 467
        },
        "outputId": "903b6590-c366-4e3e-ad7b-a79e102f5d41"
      },
      "outputs": [
        {
          "output_type": "execute_result",
          "data": {
            "text/plain": [
              "<Axes: xlabel='trip_distance', ylabel='Count'>"
            ]
          },
          "metadata": {},
          "execution_count": 18
        },
        {
          "output_type": "display_data",
          "data": {
            "text/plain": [
              "<Figure size 640x480 with 1 Axes>"
            ],
            "image/png": "[encoded data removed]"
          },
          "metadata": {}
        }
      ],
      "source": [
        "sns.histplot(df['trip_distance'])"
      ]
    },
    {
      "cell_type": "markdown",
      "metadata": {
        "id": "IqQ9y1hrq9ya"
      },
      "source": [
        "We may have to deal with outliers here!\n",
        "\n",
        "Let's manually figure out outliers!"
      ]
    },
    {
      "cell_type": "code",
      "execution_count": 17,
      "metadata": {
        "id": "oIMJT8Quq4yC",
        "colab": {
          "base_uri": "https://localhost:8080/"
        },
        "outputId": "f86a255e-a064-45e6-8b5a-49c3eab7d726"
      },
      "outputs": [
        {
          "output_type": "execute_result",
          "data": {
            "text/plain": [
              "(468562, 19)"
            ]
          },
          "metadata": {},
          "execution_count": 17
        }
      ],
      "source": [
        "df= df[df['trip_distance'] <=10] # drop trip distance above 10 miles\n",
        "df= df[df['passenger_count'] >0] # drop 0 passengers\n",
        "df= df[df['total_amount'] <100] # drop total fare <100\n",
        "df.shape"
      ]
    },
    {
      "cell_type": "markdown",
      "metadata": {
        "id": "xu93NQcUXOUB"
      },
      "source": [
        "Remember to rerun the summary stats and plots to see the effects!\n"
      ]
    },
    {
      "cell_type": "markdown",
      "metadata": {
        "id": "BkYawvtpsgi0"
      },
      "source": [
        "###**Step 4. Define and Run Linear Model** (OLS shown here)"
      ]
    },
    {
      "cell_type": "code",
      "execution_count": 21,
      "metadata": {
        "id": "A9f6HhuwrczU"
      },
      "outputs": [],
      "source": [
        "#Step 4.1: Define Model\n",
        "DV=[\"total_amount\"]\n",
        "IV=[\"passenger_count\",\"trip_distance\"]\n",
        "#IV[\"var1\",\"var2\",\"var3\"]"
      ]
    },
    {
      "cell_type": "code",
      "execution_count": 22,
      "metadata": {
        "id": "sV4wj4mrr9Lk",
        "colab": {
          "base_uri": "https://localhost:8080/"
        },
        "outputId": "b4656c96-01a6-41a6-db0c-6941768c4685"
      },
      "outputs": [
        {
          "output_type": "stream",
          "name": "stdout",
          "text": [
            "                            OLS Regression Results                            \n",
            "==============================================================================\n",
            "Dep. Variable:           total_amount   R-squared:                       0.555\n",
            "Model:                            OLS   Adj. R-squared:                  0.555\n",
            "Method:                 Least Squares   F-statistic:                 2.918e+05\n",
            "Date:                Thu, 20 Feb 2025   Prob (F-statistic):               0.00\n",
            "Time:                        22:55:06   Log-Likelihood:            -1.4358e+06\n",
            "No. Observations:              468562   AIC:                         2.872e+06\n",
            "Df Residuals:                  468559   BIC:                         2.872e+06\n",
            "Df Model:                           2                                         \n",
            "Covariance Type:            nonrobust                                         \n",
            "===================================================================================\n",
            "                      coef    std err          t      P>|t|      [0.025      0.975]\n",
            "-----------------------------------------------------------------------------------\n",
            "const               6.2778      0.015    422.425      0.000       6.249       6.307\n",
            "passenger_count    -0.0686      0.006    -12.463      0.000      -0.079      -0.058\n",
            "trip_distance       3.1177      0.004    763.971      0.000       3.110       3.126\n",
            "==============================================================================\n",
            "Omnibus:                   534803.440   Durbin-Watson:                   1.868\n",
            "Prob(Omnibus):                  0.000   Jarque-Bera (JB):         78200695.467\n",
            "Skew:                           5.862   Prob(JB):                         0.00\n",
            "Kurtosis:                      65.193   Cond. No.                         6.89\n",
            "==============================================================================\n",
            "\n",
            "Notes:\n",
            "[1] Standard Errors assume that the covariance matrix of the errors is correctly specified.\n"
          ]
        }
      ],
      "source": [
        "#Step 4.2: Test Model\n",
        "X = df[IV]\n",
        "y = df[DV]\n",
        "\n",
        "# add constant to the model\n",
        "X_c = sm.add_constant(X)\n",
        "\n",
        "# fit an OLS model\n",
        "model = sm.OLS(y,X_c, missing=\"drop\").fit()\n",
        "modelSummary= model.summary()\n",
        "print(modelSummary)"
      ]
    },
    {
      "cell_type": "markdown",
      "metadata": {
        "id": "WGF6JfHtugxi"
      },
      "source": [
        "1. Look at the adj r-squared\n",
        "2. look at the F statistic\n",
        "3. Look at the Independent variables:\n",
        "  3.1.   Is the coefficient size non zero?\n",
        "  3.2.   Look at the p-value - is it significant?\n",
        "\n"
      ]
    },
    {
      "cell_type": "markdown",
      "metadata": {
        "id": "B84gt-h6tH0I"
      },
      "source": [
        "Interpreting the Overall F-test of Significance\n",
        "\n",
        "Compare the p-value for the F-test to your significance level. If the p-value is less than the significance level, your sample data provide sufficient evidence to conclude that your regression model fits the data better than the model with no independent variables."
      ]
    },
    {
      "cell_type": "markdown",
      "metadata": {
        "id": "MEwbH5fWtI4W"
      },
      "source": [
        "#### Now let's run a model adding rate code"
      ]
    },
    {
      "cell_type": "code",
      "execution_count": 35,
      "metadata": {
        "id": "kGFAHCFQw917"
      },
      "outputs": [],
      "source": [
        "DV=[\"total_amount\"]\n",
        "IV=[\"passenger_count\",\"trip_distance\",\"rate_code\"]\n",
        "#IV[\"var1\",\"var2\",\"var3\"]"
      ]
    },
    {
      "cell_type": "code",
      "execution_count": 24,
      "metadata": {
        "id": "JwwKKNpIx-gT",
        "colab": {
          "base_uri": "https://localhost:8080/"
        },
        "outputId": "7a1208a6-1f9a-4fc0-886c-13bfbf8f6fcc"
      },
      "outputs": [
        {
          "output_type": "stream",
          "name": "stdout",
          "text": [
            "                            OLS Regression Results                            \n",
            "==============================================================================\n",
            "Dep. Variable:           total_amount   R-squared:                       0.647\n",
            "Model:                            OLS   Adj. R-squared:                  0.647\n",
            "Method:                 Least Squares   F-statistic:                 2.865e+05\n",
            "Date:                Thu, 20 Feb 2025   Prob (F-statistic):               0.00\n",
            "Time:                        22:55:13   Log-Likelihood:            -1.3813e+06\n",
            "No. Observations:              468562   AIC:                         2.763e+06\n",
            "Df Residuals:                  468558   BIC:                         2.763e+06\n",
            "Df Model:                           3                                         \n",
            "Covariance Type:            nonrobust                                         \n",
            "===================================================================================\n",
            "                      coef    std err          t      P>|t|      [0.025      0.975]\n",
            "-----------------------------------------------------------------------------------\n",
            "const              -6.5171      0.039   -167.819      0.000      -6.593      -6.441\n",
            "passenger_count    -0.0467      0.005     -9.536      0.000      -0.056      -0.037\n",
            "trip_distance       3.1367      0.004    863.417      0.000       3.130       3.144\n",
            "rate_code          12.5759      0.036    350.434      0.000      12.506      12.646\n",
            "==============================================================================\n",
            "Omnibus:                   369911.890   Durbin-Watson:                   1.833\n",
            "Prob(Omnibus):                  0.000   Jarque-Bera (JB):         32154523.954\n",
            "Skew:                           3.208   Prob(JB):                         0.00\n",
            "Kurtosis:                      43.073   Cond. No.                         27.0\n",
            "==============================================================================\n",
            "\n",
            "Notes:\n",
            "[1] Standard Errors assume that the covariance matrix of the errors is correctly specified.\n"
          ]
        }
      ],
      "source": [
        "X = df[IV]\n",
        "y = df[DV]\n",
        "\n",
        "# add constant to the model\n",
        "X_c = sm.add_constant(X)\n",
        "\n",
        "# fit an OLS model\n",
        "model2 = sm.OLS(y,X_c, missing=\"drop\").fit()\n",
        "model2Summary= model2.summary()\n",
        "print(model2Summary)"
      ]
    },
    {
      "cell_type": "markdown",
      "metadata": {
        "id": "_RxqziHcyJNw"
      },
      "source": [
        "Did the addition of the new variable make a significant contribution?\n",
        "\n",
        "\n",
        "    \n",
        "    \n",
        "\n",
        "\n",
        "1.   Did Adj R-squared improve?\n",
        "2.   Do the newly added variables have a significant effect on the dv? (check coefficient size and p-value)\n",
        "3. Do the newly added variables have a significant effect on the initial variables of interest? (check to see if coefficient size and p-values of the intial variables are different in this regression vs the one in step 4.2\n",
        "\n",
        "\n",
        "You can keep new variables that add value to the model (increase in adj r-sqd or significant impact on dv), and \"throw out\" any of the variables that do not add value. When throwing out variables, do it one by one and make sure that they indeed have zero effect on the model. We \"throw out\" variables that are not relevant (no informational value) because we want to keep our model lean and prevent overfitting.\n"
      ]
    },
    {
      "cell_type": "markdown",
      "metadata": {
        "id": "YxcR546u0LwT"
      },
      "source": [
        "###**Step 5. Model Diagnostics!**\n"
      ]
    },
    {
      "cell_type": "markdown",
      "metadata": {
        "id": "_0FpYTrHWYS7"
      },
      "source": [
        "1. Residuals Plot - check if normally distributed"
      ]
    },
    {
      "cell_type": "code",
      "execution_count": 27,
      "metadata": {
        "id": "Blkm05gb0Pht",
        "colab": {
          "base_uri": "https://localhost:8080/",
          "height": 430
        },
        "outputId": "6bdab444-5bb3-4419-d6bf-c0a30445d361"
      },
      "outputs": [
        {
          "output_type": "display_data",
          "data": {
            "text/plain": [
              "<Figure size 640x480 with 1 Axes>"
            ],
            "image/png": "[encoded data removed]"
          },
          "metadata": {}
        }
      ],
      "source": [
        "from scipy import stats\n",
        "sns.histplot(model2.resid);\n",
        "#sns.boxplot(model2.resid, showmeans=True);"
      ]
    },
    {
      "cell_type": "markdown",
      "metadata": {
        "id": "LKV68s-JXn65"
      },
      "source": [
        "Residuals look Normally distributed, so looking good"
      ]
    },
    {
      "cell_type": "markdown",
      "metadata": {
        "id": "uMYnvNGfX24t"
      },
      "source": [
        "2. Q-Q plot for Residuals"
      ]
    },
    {
      "cell_type": "code",
      "execution_count": 28,
      "metadata": {
        "id": "4k9ac44IXtCW",
        "colab": {
          "base_uri": "https://localhost:8080/",
          "height": 455
        },
        "outputId": "e68f7b4a-a0c4-4524-83d7-1b8fa1290b6c"
      },
      "outputs": [
        {
          "output_type": "display_data",
          "data": {
            "text/plain": [
              "<Figure size 640x480 with 1 Axes>"
            ],
            "image/png": "[encoded data removed]"
          },
          "metadata": {}
        }
      ],
      "source": [
        "#sm.qqplot(model.resid, line='s');\n",
        "sm.qqplot(model2.resid, line='s');"
      ]
    },
    {
      "cell_type": "markdown",
      "metadata": {
        "id": "u8YFx2PbYOjU"
      },
      "source": [
        "Outliers >2 and <-2 could be problematic"
      ]
    },
    {
      "cell_type": "markdown",
      "metadata": {
        "id": "rwWj9bESYaLz"
      },
      "source": [
        "3. Residuals vs. Fitted"
      ]
    },
    {
      "cell_type": "code",
      "execution_count": null,
      "metadata": {
        "id": "aIs0sJd_Yb5Q"
      },
      "outputs": [],
      "source": [
        "# Takes a while to run\n",
        "#plot = sns.residplot(x=model2.fittedvalues, y='total_amount', data=df, lowess=True,\n",
        "#                     scatter_kws={'alpha': 0.5},\n",
        "#                     line_kws={'color': 'red', 'lw': 1, 'alpha': 0.8})\n",
        "\n",
        "# Titel and labels\n",
        "#plot.set_title('Residuals vs Fitted')\n",
        "#plot.set_xlabel('Fitted values')\n",
        "#plot.set_ylabel('Residuals');"
      ]
    },
    {
      "cell_type": "code",
      "execution_count": 29,
      "metadata": {
        "id": "9EKXwaBYmTNr",
        "colab": {
          "base_uri": "https://localhost:8080/",
          "height": 472
        },
        "outputId": "536936e9-a53a-486b-d9e5-08bf52f96ef8"
      },
      "outputs": [
        {
          "output_type": "display_data",
          "data": {
            "text/plain": [
              "<Figure size 640x480 with 1 Axes>"
            ],
            "image/png": "[encoded data removed]"
          },
          "metadata": {}
        }
      ],
      "source": [
        "sm.graphics.plot_fit(model2,1, vlines=False);"
      ]
    },
    {
      "cell_type": "markdown",
      "metadata": {
        "id": "4nnPz0j2ngm2"
      },
      "source": [
        "## **Part B: LOGIT Regression Example**"
      ]
    },
    {
      "cell_type": "markdown",
      "metadata": {
        "id": "RwpJsE7GnshU"
      },
      "source": [
        "Remember: Logit is just a special case of OLS"
      ]
    },
    {
      "cell_type": "markdown",
      "metadata": {
        "id": "DkX92-94oIJ3"
      },
      "source": [
        "Step 1: Load Libraries"
      ]
    },
    {
      "cell_type": "code",
      "execution_count": 30,
      "metadata": {
        "id": "gHwzohRynm35"
      },
      "outputs": [],
      "source": [
        "import pandas as pd #this package allows us to \"excel-ify\" python\n",
        "import numpy as np #most of the mathematical functions we'll need\n",
        "import statsmodels.api as sm #for statistical analysis\n",
        "\n",
        "import matplotlib.pyplot as plt #to plot\n",
        "import seaborn as sns #to plot"
      ]
    },
    {
      "cell_type": "markdown",
      "metadata": {
        "id": "FdLmbDOZoN-J"
      },
      "source": [
        "Step 2: Load Data\n",
        "\n",
        "In this example, we use simple numpy(np) arrays to manually enter data"
      ]
    },
    {
      "cell_type": "code",
      "execution_count": 31,
      "metadata": {
        "id": "FpNQp27UoQMU"
      },
      "outputs": [],
      "source": [
        "#X represents the size of a tumor in centimeters.\n",
        "X = np.array([3.78, 2.44, 2.09, 0.14, 1.72, 1.65, 4.92, 4.37, 4.96, 4.52, 3.69, 5.88]).reshape(-1,1)\n",
        "\n",
        "#Note: X has to be reshaped into a column from a row for the LogisticRegression() function to work.\n",
        "\n",
        "#y represents whether or not the tumor is cancerous (0 for \"No\", 1 for \"Yes\").\n",
        "y = np.array([0, 0, 0, 0, 0, 0, 1, 1, 1, 1, 1, 1])"
      ]
    },
    {
      "cell_type": "markdown",
      "metadata": {
        "id": "DTv_0adlpVbU"
      },
      "source": [
        "Step 3: Plots\n",
        "\n",
        "We'll skip desc. stats here since it's an example of 2 variables"
      ]
    },
    {
      "cell_type": "code",
      "execution_count": 32,
      "metadata": {
        "id": "Hmv6cTJ7oULL",
        "colab": {
          "base_uri": "https://localhost:8080/",
          "height": 489
        },
        "outputId": "603883d1-91c9-41c8-c96a-78c4c3b8e937"
      },
      "outputs": [
        {
          "output_type": "execute_result",
          "data": {
            "text/plain": [
              "Text(0.5, 1.0, 'Scatter Plot of Tumor Size and Cancer')"
            ]
          },
          "metadata": {},
          "execution_count": 32
        },
        {
          "output_type": "display_data",
          "data": {
            "text/plain": [
              "<Figure size 640x480 with 1 Axes>"
            ],
            "image/png": "[encoded data removed]"
          },
          "metadata": {}
        }
      ],
      "source": [
        "# Scatter Plot\n",
        "plt.scatter(X,y)\n",
        "plt.xlabel('Tumor Size in cm')\n",
        "plt.ylabel('Cancerous - Yes(1) and No(0)')\n",
        "plt.title('Scatter Plot of Tumor Size and Cancer')\n"
      ]
    },
    {
      "cell_type": "markdown",
      "metadata": {
        "id": "R2mVr0TfpqrW"
      },
      "source": [
        "Step 4: Logistics Regression\n"
      ]
    },
    {
      "cell_type": "code",
      "execution_count": 33,
      "metadata": {
        "id": "DZt7RtIzpvp3",
        "colab": {
          "base_uri": "https://localhost:8080/"
        },
        "outputId": "8711a321-a215-4bd4-8e7d-dad2df3fb5b8"
      },
      "outputs": [
        {
          "output_type": "stream",
          "name": "stdout",
          "text": [
            "Optimization terminated successfully.\n",
            "         Current function value: 0.140603\n",
            "         Iterations 11\n",
            "                           Logit Regression Results                           \n",
            "==============================================================================\n",
            "Dep. Variable:                      y   No. Observations:                   12\n",
            "Model:                          Logit   Df Residuals:                       10\n",
            "Method:                           MLE   Df Model:                            1\n",
            "Date:                Thu, 20 Feb 2025   Pseudo R-squ.:                  0.7972\n",
            "Time:                        22:56:16   Log-Likelihood:                -1.6872\n",
            "converged:                       True   LL-Null:                       -8.3178\n",
            "Covariance Type:            nonrobust   LLR p-value:                 0.0002710\n",
            "==============================================================================\n",
            "                 coef    std err          z      P>|z|      [0.025      0.975]\n",
            "------------------------------------------------------------------------------\n",
            "const        -17.9783     19.733     -0.911      0.362     -56.654      20.698\n",
            "x1             4.8465      5.169      0.938      0.348      -5.285      14.978\n",
            "==============================================================================\n",
            "\n",
            "Possibly complete quasi-separation: A fraction 0.33 of observations can be\n",
            "perfectly predicted. This might indicate that there is complete\n",
            "quasi-separation. In this case some parameters will not be identified.\n"
          ]
        }
      ],
      "source": [
        "# This is very similar to the code for OLS regression\n",
        "\n",
        "X_c = sm.add_constant(X)\n",
        "\n",
        "logit = sm.Logit(endog=y, exog=X_c).fit() # this is where we use sm. Logit instead of sm.OLS\n",
        "logitSummary= logit.summary()\n",
        "print (logitSummary)"
      ]
    },
    {
      "cell_type": "markdown",
      "metadata": {
        "id": "W-w4o5rLp1Ck"
      },
      "source": [
        "**Remember the interpretation is change in x1 on log odds of y!**"
      ]
    },
    {
      "cell_type": "markdown",
      "metadata": {
        "id": "HkimA9g6p9WO"
      },
      "source": [
        "Let's Compare OLS to the above Logistic Regression"
      ]
    },
    {
      "cell_type": "code",
      "execution_count": 34,
      "metadata": {
        "id": "laLr5jtup3Ve",
        "colab": {
          "base_uri": "https://localhost:8080/"
        },
        "outputId": "fbd0bf67-6782-4bde-92a4-96a36067d404"
      },
      "outputs": [
        {
          "output_type": "stream",
          "name": "stdout",
          "text": [
            "                            OLS Regression Results                            \n",
            "==============================================================================\n",
            "Dep. Variable:                      y   R-squared:                       0.701\n",
            "Model:                            OLS   Adj. R-squared:                  0.671\n",
            "Method:                 Least Squares   F-statistic:                     23.47\n",
            "Date:                Thu, 20 Feb 2025   Prob (F-statistic):           0.000677\n",
            "Time:                        22:56:18   Log-Likelihood:                -1.4618\n",
            "No. Observations:                  12   AIC:                             6.924\n",
            "Df Residuals:                      10   BIC:                             7.893\n",
            "Df Model:                           1                                         \n",
            "Covariance Type:            nonrobust                                         \n",
            "==============================================================================\n",
            "                 coef    std err          t      P>|t|      [0.025      0.975]\n",
            "------------------------------------------------------------------------------\n",
            "const         -0.3523      0.196     -1.797      0.103      -0.789       0.084\n",
            "x1             0.2547      0.053      4.844      0.001       0.138       0.372\n",
            "==============================================================================\n",
            "Omnibus:                        1.342   Durbin-Watson:                   1.084\n",
            "Prob(Omnibus):                  0.511   Jarque-Bera (JB):                0.587\n",
            "Skew:                          -0.535   Prob(JB):                        0.746\n",
            "Kurtosis:                       2.833   Cond. No.                         8.95\n",
            "==============================================================================\n",
            "\n",
            "Notes:\n",
            "[1] Standard Errors assume that the covariance matrix of the errors is correctly specified.\n"
          ]
        },
        {
          "output_type": "stream",
          "name": "stderr",
          "text": [
            "/usr/local/lib/python3.11/dist-packages/scipy/stats/_axis_nan_policy.py:531: UserWarning: kurtosistest only valid for n>=20 ... continuing anyway, n=12\n",
            "  res = hypotest_fun_out(*samples, **kwds)\n"
          ]
        }
      ],
      "source": [
        "# let's compare to OLS regression\n",
        "ols = sm.OLS(y,X_c).fit() # this is where we use sm. Logit instead of sm.OLS\n",
        "OLSsummary= ols.summary()\n",
        "print (OLSsummary)"
      ]
    },
    {
      "cell_type": "markdown",
      "source": [
        "** END OF CODE **"
      ],
      "metadata": {
        "id": "ZLh9L2tzYIWh"
      }
    }
  ],
  "metadata": {
    "colab": {
      "provenance": [],
      "machine_shape": "hm",
      "gpuType": "V5E1"
    },
    "kernelspec": {
      "display_name": "Python 3",
      "name": "python3"
    },
    "language_info": {
      "codemirror_mode": {
        "name": "ipython",
        "version": 3
      },
      "file_extension": ".py",
      "mimetype": "text/x-python",
      "name": "python",
      "nbconvert_exporter": "python",
      "pygments_lexer": "ipython3",
      "version": "3.8.19"
    },
    "accelerator": "TPU"
  },
  "nbformat": 4,
  "nbformat_minor": 0
}