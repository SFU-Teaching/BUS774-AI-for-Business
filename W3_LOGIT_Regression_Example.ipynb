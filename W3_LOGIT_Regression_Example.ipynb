{
  "cells": [
    {
      "cell_type": "markdown",
      "id": "6d583931",
      "metadata": {
        "id": "6d583931"
      },
      "source": [
        "# LOGIT Example using Gemini Code Assist\n",
        "\n",
        "20th Feb 2025"
      ]
    },
    {
      "cell_type": "markdown",
      "source": [
        "## Step 1. Load Necessary Libraries"
      ],
      "metadata": {
        "id": "5tQeOI0CM0DL"
      },
      "id": "5tQeOI0CM0DL"
    },
    {
      "cell_type": "code",
      "execution_count": 18,
      "id": "cdb9d68a",
      "metadata": {
        "id": "cdb9d68a"
      },
      "outputs": [],
      "source": [
        "import statsmodels.api as sm\n",
        "import math\n",
        "import pandas as pd\n",
        "import numpy as np\n",
        "import matplotlib.pyplot as plt\n",
        "import seaborn as sns"
      ]
    },
    {
      "cell_type": "markdown",
      "source": [
        "## Step 2. Load and Describe Data"
      ],
      "metadata": {
        "id": "17BVWPDSM7-o"
      },
      "id": "17BVWPDSM7-o"
    },
    {
      "cell_type": "markdown",
      "id": "ad8e299d",
      "metadata": {
        "id": "ad8e299d"
      },
      "source": [
        "spector_data from Spector and Mazzeo (1980). https://www.tandfonline.com/doi/abs/10.1080/00220485.1980.10844952\n",
        "\n",
        " Variable name definitions::\n",
        "\n",
        "        Grade - binary variable indicating whether or not a student's grade\n",
        "                improved.  1 indicates an improvement.\n",
        "        TUCE  - Test score on economics test\n",
        "        PSI   - participation in program\n",
        "        GPA   - Student's grade point average"
      ]
    },
    {
      "cell_type": "code",
      "execution_count": 20,
      "id": "98160c47",
      "metadata": {
        "id": "98160c47"
      },
      "outputs": [],
      "source": [
        "spector_data = sm.datasets.spector.load_pandas()\n",
        "df = spector_data.data\n"
      ]
    },
    {
      "cell_type": "markdown",
      "source": [
        "## Step 3: Visualize and Summarize Data"
      ],
      "metadata": {
        "id": "oKfOwGuLNVNt"
      },
      "id": "oKfOwGuLNVNt"
    },
    {
      "cell_type": "code",
      "source": [
        "df.info()\n",
        "df.head()"
      ],
      "metadata": {
        "colab": {
          "base_uri": "https://localhost:8080/",
          "height": 400
        },
        "id": "VCRlKSGaNcEO",
        "outputId": "302c2af4-496b-44ef-c554-6f6ad80a301a"
      },
      "id": "VCRlKSGaNcEO",
      "execution_count": 21,
      "outputs": [
        {
          "output_type": "stream",
          "name": "stdout",
          "text": [
            "<class 'pandas.core.frame.DataFrame'>\n",
            "RangeIndex: 32 entries, 0 to 31\n",
            "Data columns (total 4 columns):\n",
            " #   Column  Non-Null Count  Dtype  \n",
            "---  ------  --------------  -----  \n",
            " 0   GPA     32 non-null     float64\n",
            " 1   TUCE    32 non-null     float64\n",
            " 2   PSI     32 non-null     float64\n",
            " 3   GRADE   32 non-null     float64\n",
            "dtypes: float64(4)\n",
            "memory usage: 1.1 KB\n"
          ]
        },
        {
          "output_type": "execute_result",
          "data": {
            "text/plain": [
              "    GPA  TUCE  PSI  GRADE\n",
              "0  2.66  20.0  0.0    0.0\n",
              "1  2.89  22.0  0.0    0.0\n",
              "2  3.28  24.0  0.0    0.0\n",
              "3  2.92  12.0  0.0    0.0\n",
              "4  4.00  21.0  0.0    1.0"
            ],
            "text/html": [
              "\n",
              "  <div id=\"df-5fb5c645-927b-4015-a2b5-c7bce8da52e6\" class=\"colab-df-container\">\n",
              "    <div>\n",
              "<style scoped>\n",
              "    .dataframe tbody tr th:only-of-type {\n",
              "        vertical-align: middle;\n",
              "    }\n",
              "\n",
              "    .dataframe tbody tr th {\n",
              "        vertical-align: top;\n",
              "    }\n",
              "\n",
              "    .dataframe thead th {\n",
              "        text-align: right;\n",
              "    }\n",
              "</style>\n",
              "<table border=\"1\" class=\"dataframe\">\n",
              "  <thead>\n",
              "    <tr style=\"text-align: right;\">\n",
              "      <th></th>\n",
              "      <th>GPA</th>\n",
              "      <th>TUCE</th>\n",
              "      <th>PSI</th>\n",
              "      <th>GRADE</th>\n",
              "    </tr>\n",
              "  </thead>\n",
              "  <tbody>\n",
              "    <tr>\n",
              "      <th>0</th>\n",
              "      <td>2.66</td>\n",
              "      <td>20.0</td>\n",
              "      <td>0.0</td>\n",
              "      <td>0.0</td>\n",
              "    </tr>\n",
              "    <tr>\n",
              "      <th>1</th>\n",
              "      <td>2.89</td>\n",
              "      <td>22.0</td>\n",
              "      <td>0.0</td>\n",
              "      <td>0.0</td>\n",
              "    </tr>\n",
              "    <tr>\n",
              "      <th>2</th>\n",
              "      <td>3.28</td>\n",
              "      <td>24.0</td>\n",
              "      <td>0.0</td>\n",
              "      <td>0.0</td>\n",
              "    </tr>\n",
              "    <tr>\n",
              "      <th>3</th>\n",
              "      <td>2.92</td>\n",
              "      <td>12.0</td>\n",
              "      <td>0.0</td>\n",
              "      <td>0.0</td>\n",
              "    </tr>\n",
              "    <tr>\n",
              "      <th>4</th>\n",
              "      <td>4.00</td>\n",
              "      <td>21.0</td>\n",
              "      <td>0.0</td>\n",
              "      <td>1.0</td>\n",
              "    </tr>\n",
              "  </tbody>\n",
              "</table>\n",
              "</div>\n",
              "    <div class=\"colab-df-buttons\">\n",
              "\n",
              "  <div class=\"colab-df-container\">\n",
              "    <button class=\"colab-df-convert\" onclick=\"convertToInteractive('df-5fb5c645-927b-4015-a2b5-c7bce8da52e6')\"\n",
              "            title=\"Convert this dataframe to an interactive table.\"\n",
              "            style=\"display:none;\">\n",
              "\n",
              "  <svg xmlns=\"http://www.w3.org/2000/svg\" height=\"24px\" viewBox=\"0 -960 960 960\">\n",
              "    <path d=\"M120-120v-720h720v720H120Zm60-500h600v-160H180v160Zm220 220h160v-160H400v160Zm0 220h160v-160H400v160ZM180-400h160v-160H180v160Zm440 0h160v-160H620v160ZM180-180h160v-160H180v160Zm440 0h160v-160H620v160Z\"/>\n",
              "  </svg>\n",
              "    </button>\n",
              "\n",
              "  <style>\n",
              "    .colab-df-container {\n",
              "      display:flex;\n",
              "      gap: 12px;\n",
              "    }\n",
              "\n",
              "    .colab-df-convert {\n",
              "      background-color: #E8F0FE;\n",
              "      border: none;\n",
              "      border-radius: 50%;\n",
              "      cursor: pointer;\n",
              "      display: none;\n",
              "      fill: #1967D2;\n",
              "      height: 32px;\n",
              "      padding: 0 0 0 0;\n",
              "      width: 32px;\n",
              "    }\n",
              "\n",
              "    .colab-df-convert:hover {\n",
              "      background-color: #E2EBFA;\n",
              "      box-shadow: 0px 1px 2px rgba(60, 64, 67, 0.3), 0px 1px 3px 1px rgba(60, 64, 67, 0.15);\n",
              "      fill: #174EA6;\n",
              "    }\n",
              "\n",
              "    .colab-df-buttons div {\n",
              "      margin-bottom: 4px;\n",
              "    }\n",
              "\n",
              "    [theme=dark] .colab-df-convert {\n",
              "      background-color: #3B4455;\n",
              "      fill: #D2E3FC;\n",
              "    }\n",
              "\n",
              "    [theme=dark] .colab-df-convert:hover {\n",
              "      background-color: #434B5C;\n",
              "      box-shadow: 0px 1px 3px 1px rgba(0, 0, 0, 0.15);\n",
              "      filter: drop-shadow(0px 1px 2px rgba(0, 0, 0, 0.3));\n",
              "      fill: #FFFFFF;\n",
              "    }\n",
              "  </style>\n",
              "\n",
              "    <script>\n",
              "      const buttonEl =\n",
              "        document.querySelector('#df-5fb5c645-927b-4015-a2b5-c7bce8da52e6 button.colab-df-convert');\n",
              "      buttonEl.style.display =\n",
              "        google.colab.kernel.accessAllowed ? 'block' : 'none';\n",
              "\n",
              "      async function convertToInteractive(key) {\n",
              "        const element = document.querySelector('#df-5fb5c645-927b-4015-a2b5-c7bce8da52e6');\n",
              "        const dataTable =\n",
              "          await google.colab.kernel.invokeFunction('convertToInteractive',\n",
              "                                                    [key], {});\n",
              "        if (!dataTable) return;\n",
              "\n",
              "        const docLinkHtml = 'Like what you see? Visit the ' +\n",
              "          '<a target=\"_blank\" href=https://colab.research.google.com/notebooks/data_table.ipynb>data table notebook</a>'\n",
              "          + ' to learn more about interactive tables.';\n",
              "        element.innerHTML = '';\n",
              "        dataTable['output_type'] = 'display_data';\n",
              "        await google.colab.output.renderOutput(dataTable, element);\n",
              "        const docLink = document.createElement('div');\n",
              "        docLink.innerHTML = docLinkHtml;\n",
              "        element.appendChild(docLink);\n",
              "      }\n",
              "    </script>\n",
              "  </div>\n",
              "\n",
              "\n",
              "<div id=\"df-4a77853e-f660-4421-aa39-40b27bf6fce7\">\n",
              "  <button class=\"colab-df-quickchart\" onclick=\"quickchart('df-4a77853e-f660-4421-aa39-40b27bf6fce7')\"\n",
              "            title=\"Suggest charts\"\n",
              "            style=\"display:none;\">\n",
              "\n",
              "<svg xmlns=\"http://www.w3.org/2000/svg\" height=\"24px\"viewBox=\"0 0 24 24\"\n",
              "     width=\"24px\">\n",
              "    <g>\n",
              "        <path d=\"M19 3H5c-1.1 0-2 .9-2 2v14c0 1.1.9 2 2 2h14c1.1 0 2-.9 2-2V5c0-1.1-.9-2-2-2zM9 17H7v-7h2v7zm4 0h-2V7h2v10zm4 0h-2v-4h2v4z\"/>\n",
              "    </g>\n",
              "</svg>\n",
              "  </button>\n",
              "\n",
              "<style>\n",
              "  .colab-df-quickchart {\n",
              "      --bg-color: #E8F0FE;\n",
              "      --fill-color: #1967D2;\n",
              "      --hover-bg-color: #E2EBFA;\n",
              "      --hover-fill-color: #174EA6;\n",
              "      --disabled-fill-color: #AAA;\n",
              "      --disabled-bg-color: #DDD;\n",
              "  }\n",
              "\n",
              "  [theme=dark] .colab-df-quickchart {\n",
              "      --bg-color: #3B4455;\n",
              "      --fill-color: #D2E3FC;\n",
              "      --hover-bg-color: #434B5C;\n",
              "      --hover-fill-color: #FFFFFF;\n",
              "      --disabled-bg-color: #3B4455;\n",
              "      --disabled-fill-color: #666;\n",
              "  }\n",
              "\n",
              "  .colab-df-quickchart {\n",
              "    background-color: var(--bg-color);\n",
              "    border: none;\n",
              "    border-radius: 50%;\n",
              "    cursor: pointer;\n",
              "    display: none;\n",
              "    fill: var(--fill-color);\n",
              "    height: 32px;\n",
              "    padding: 0;\n",
              "    width: 32px;\n",
              "  }\n",
              "\n",
              "  .colab-df-quickchart:hover {\n",
              "    background-color: var(--hover-bg-color);\n",
              "    box-shadow: 0 1px 2px rgba(60, 64, 67, 0.3), 0 1px 3px 1px rgba(60, 64, 67, 0.15);\n",
              "    fill: var(--button-hover-fill-color);\n",
              "  }\n",
              "\n",
              "  .colab-df-quickchart-complete:disabled,\n",
              "  .colab-df-quickchart-complete:disabled:hover {\n",
              "    background-color: var(--disabled-bg-color);\n",
              "    fill: var(--disabled-fill-color);\n",
              "    box-shadow: none;\n",
              "  }\n",
              "\n",
              "  .colab-df-spinner {\n",
              "    border: 2px solid var(--fill-color);\n",
              "    border-color: transparent;\n",
              "    border-bottom-color: var(--fill-color);\n",
              "    animation:\n",
              "      spin 1s steps(1) infinite;\n",
              "  }\n",
              "\n",
              "  @keyframes spin {\n",
              "    0% {\n",
              "      border-color: transparent;\n",
              "      border-bottom-color: var(--fill-color);\n",
              "      border-left-color: var(--fill-color);\n",
              "    }\n",
              "    20% {\n",
              "      border-color: transparent;\n",
              "      border-left-color: var(--fill-color);\n",
              "      border-top-color: var(--fill-color);\n",
              "    }\n",
              "    30% {\n",
              "      border-color: transparent;\n",
              "      border-left-color: var(--fill-color);\n",
              "      border-top-color: var(--fill-color);\n",
              "      border-right-color: var(--fill-color);\n",
              "    }\n",
              "    40% {\n",
              "      border-color: transparent;\n",
              "      border-right-color: var(--fill-color);\n",
              "      border-top-color: var(--fill-color);\n",
              "    }\n",
              "    60% {\n",
              "      border-color: transparent;\n",
              "      border-right-color: var(--fill-color);\n",
              "    }\n",
              "    80% {\n",
              "      border-color: transparent;\n",
              "      border-right-color: var(--fill-color);\n",
              "      border-bottom-color: var(--fill-color);\n",
              "    }\n",
              "    90% {\n",
              "      border-color: transparent;\n",
              "      border-bottom-color: var(--fill-color);\n",
              "    }\n",
              "  }\n",
              "</style>\n",
              "\n",
              "  <script>\n",
              "    async function quickchart(key) {\n",
              "      const quickchartButtonEl =\n",
              "        document.querySelector('#' + key + ' button');\n",
              "      quickchartButtonEl.disabled = true;  // To prevent multiple clicks.\n",
              "      quickchartButtonEl.classList.add('colab-df-spinner');\n",
              "      try {\n",
              "        const charts = await google.colab.kernel.invokeFunction(\n",
              "            'suggestCharts', [key], {});\n",
              "      } catch (error) {\n",
              "        console.error('Error during call to suggestCharts:', error);\n",
              "      }\n",
              "      quickchartButtonEl.classList.remove('colab-df-spinner');\n",
              "      quickchartButtonEl.classList.add('colab-df-quickchart-complete');\n",
              "    }\n",
              "    (() => {\n",
              "      let quickchartButtonEl =\n",
              "        document.querySelector('#df-4a77853e-f660-4421-aa39-40b27bf6fce7 button');\n",
              "      quickchartButtonEl.style.display =\n",
              "        google.colab.kernel.accessAllowed ? 'block' : 'none';\n",
              "    })();\n",
              "  </script>\n",
              "</div>\n",
              "\n",
              "    </div>\n",
              "  </div>\n"
            ],
            "application/vnd.google.colaboratory.intrinsic+json": {
              "type": "dataframe",
              "variable_name": "df",
              "summary": "{\n  \"name\": \"df\",\n  \"rows\": 32,\n  \"fields\": [\n    {\n      \"column\": \"GPA\",\n      \"properties\": {\n        \"dtype\": \"number\",\n        \"std\": 0.46671283133794794,\n        \"min\": 2.06,\n        \"max\": 4.0,\n        \"num_unique_values\": 29,\n        \"samples\": [\n          3.1,\n          2.75,\n          3.57\n        ],\n        \"semantic_type\": \"\",\n        \"description\": \"\"\n      }\n    },\n    {\n      \"column\": \"TUCE\",\n      \"properties\": {\n        \"dtype\": \"number\",\n        \"std\": 3.901509219974802,\n        \"min\": 12.0,\n        \"max\": 29.0,\n        \"num_unique_values\": 14,\n        \"samples\": [\n          26.0,\n          28.0,\n          20.0\n        ],\n        \"semantic_type\": \"\",\n        \"description\": \"\"\n      }\n    },\n    {\n      \"column\": \"PSI\",\n      \"properties\": {\n        \"dtype\": \"number\",\n        \"std\": 0.5040161287741853,\n        \"min\": 0.0,\n        \"max\": 1.0,\n        \"num_unique_values\": 2,\n        \"samples\": [\n          1.0,\n          0.0\n        ],\n        \"semantic_type\": \"\",\n        \"description\": \"\"\n      }\n    },\n    {\n      \"column\": \"GRADE\",\n      \"properties\": {\n        \"dtype\": \"number\",\n        \"std\": 0.48255870443481425,\n        \"min\": 0.0,\n        \"max\": 1.0,\n        \"num_unique_values\": 2,\n        \"samples\": [\n          1.0,\n          0.0\n        ],\n        \"semantic_type\": \"\",\n        \"description\": \"\"\n      }\n    }\n  ]\n}"
            }
          },
          "metadata": {},
          "execution_count": 21
        }
      ]
    },
    {
      "cell_type": "markdown",
      "source": [
        "***Use Code Assist: Look at the prompt!***"
      ],
      "metadata": {
        "id": "lC_1Q6jzNuh5"
      },
      "id": "lC_1Q6jzNuh5"
    },
    {
      "source": [
        "# prompt: Summary Statistics, Correlation Table and Distributions\n",
        "\n",
        "# Summary Statistics\n",
        "print(df.describe())\n",
        "\n",
        "# Correlation Table\n",
        "print(df.corr())\n",
        "\n",
        "# Distributions\n",
        "for col in df.columns:\n",
        "  plt.figure()\n",
        "  sns.histplot(df[col], kde=True)\n",
        "  plt.title(f'Distribution of {col}')\n",
        "  plt.show()\n"
      ],
      "cell_type": "code",
      "execution_count": 24,
      "outputs": [
        {
          "output_type": "stream",
          "name": "stdout",
          "text": [
            "             GPA       TUCE        PSI      GRADE\n",
            "count  32.000000  32.000000  32.000000  32.000000\n",
            "mean    3.117188  21.937500   0.437500   0.343750\n",
            "std     0.466713   3.901509   0.504016   0.482559\n",
            "min     2.060000  12.000000   0.000000   0.000000\n",
            "25%     2.812500  19.750000   0.000000   0.000000\n",
            "50%     3.065000  22.500000   0.000000   0.000000\n",
            "75%     3.515000  25.000000   1.000000   1.000000\n",
            "max     4.000000  29.000000   1.000000   1.000000\n",
            "            GPA      TUCE       PSI     GRADE\n",
            "GPA    1.000000  0.386986  0.039683  0.497147\n",
            "TUCE   0.386986  1.000000  0.112780  0.303055\n",
            "PSI    0.039683  0.112780  1.000000  0.422760\n",
            "GRADE  0.497147  0.303055  0.422760  1.000000\n"
          ]
        },
        {
          "output_type": "display_data",
          "data": {
            "text/plain": [
              "<Figure size 640x480 with 1 Axes>"
            ],
            "image/png": "[encoded data removed]"
          },
          "metadata": {}
        },
        {
          "output_type": "display_data",
          "data": {
            "text/plain": [
              "<Figure size 640x480 with 1 Axes>"
            ],
            "image/png": "[encoded data removed]"
          },
          "metadata": {}
        },
        {
          "output_type": "display_data",
          "data": {
            "text/plain": [
              "<Figure size 640x480 with 1 Axes>"
            ],
            "image/png": "[encoded data removed]"
          },
          "metadata": {}
        },
        {
          "output_type": "display_data",
          "data": {
            "text/plain": [
              "<Figure size 640x480 with 1 Axes>"
            ],
            "image/png": "[encoded data removed]"
          },
          "metadata": {}
        }
      ],
      "metadata": {
        "cellView": "form",
        "colab": {
          "base_uri": "https://localhost:8080/",
          "height": 1000
        },
        "collapsed": true,
        "id": "mFjf4kc3NeyT",
        "outputId": "ca9555a7-8fa8-4742-ac47-b5a9d9c2ceff"
      },
      "id": "mFjf4kc3NeyT"
    },
    {
      "cell_type": "markdown",
      "source": [
        "## Step 4: Run a Logistic or Logit Regression\n",
        "\n",
        "***Use Code Assist: Look at the prompt!***"
      ],
      "metadata": {
        "id": "sK7KfFTzNLyb"
      },
      "id": "sK7KfFTzNLyb"
    },
    {
      "cell_type": "code",
      "source": [
        "# prompt: Run a logit regression mode to predict Grade\n",
        "\n",
        "# Dependent variable\n",
        "dependent_var = df[\"GRADE\"]\n",
        "\n",
        "# Independent variables\n",
        "independent_vars = df[[\"TUCE\", \"PSI\", \"GPA\"]]\n",
        "\n",
        "# Add a constant to the independent variables\n",
        "independent_vars = sm.add_constant(independent_vars)\n",
        "\n",
        "# Fit the logit model\n",
        "logit_model = sm.Logit(dependent_var, independent_vars)\n",
        "logit_results = logit_model.fit()\n",
        "\n",
        "# Print the model summary\n",
        "print(logit_results.summary())\n"
      ],
      "metadata": {
        "colab": {
          "base_uri": "https://localhost:8080/"
        },
        "id": "fzLuGNuMMMaY",
        "outputId": "8a85dd8d-61e7-4b1b-c269-22f823efaea0"
      },
      "id": "fzLuGNuMMMaY",
      "execution_count": 25,
      "outputs": [
        {
          "output_type": "stream",
          "name": "stdout",
          "text": [
            "Optimization terminated successfully.\n",
            "         Current function value: 0.402801\n",
            "         Iterations 7\n",
            "                           Logit Regression Results                           \n",
            "==============================================================================\n",
            "Dep. Variable:                  GRADE   No. Observations:                   32\n",
            "Model:                          Logit   Df Residuals:                       28\n",
            "Method:                           MLE   Df Model:                            3\n",
            "Date:                Thu, 20 Feb 2025   Pseudo R-squ.:                  0.3740\n",
            "Time:                        21:16:52   Log-Likelihood:                -12.890\n",
            "converged:                       True   LL-Null:                       -20.592\n",
            "Covariance Type:            nonrobust   LLR p-value:                  0.001502\n",
            "==============================================================================\n",
            "                 coef    std err          z      P>|z|      [0.025      0.975]\n",
            "------------------------------------------------------------------------------\n",
            "const        -13.0213      4.931     -2.641      0.008     -22.687      -3.356\n",
            "TUCE           0.0952      0.142      0.672      0.501      -0.182       0.373\n",
            "PSI            2.3787      1.065      2.234      0.025       0.292       4.465\n",
            "GPA            2.8261      1.263      2.238      0.025       0.351       5.301\n",
            "==============================================================================\n"
          ]
        }
      ]
    },
    {
      "cell_type": "markdown",
      "source": [
        "## Step 5: Interpret Results\n",
        "\n",
        "***Use Code Assist: Look at the prompt!***"
      ],
      "metadata": {
        "id": "rlhlrfMqOKS1"
      },
      "id": "rlhlrfMqOKS1"
    },
    {
      "cell_type": "code",
      "source": [
        "# prompt: Interpret effect of change in GPA by 1 point in terms of logodds, odds, and probability\n",
        "\n",
        "# Extract the coefficient for GPA\n",
        "gpa_coef = logit_results.params[\"GPA\"]\n",
        "\n",
        "# Calculate the change in log-odds for a 1-point increase in GPA\n",
        "logodds_change = gpa_coef * 1\n",
        "\n",
        "# Calculate the odds ratio\n",
        "odds_ratio = math.exp(logodds_change)\n",
        "\n",
        "# Example:  Assume the baseline probability is derived from the average GPA in the dataset.\n",
        "#  We can use the predicted probability at the mean GPA in the sample.\n",
        "mean_gpa = df[\"GPA\"].mean()\n",
        "baseline_logodds = logit_results.params[\"const\"] + logit_results.params[\"TUCE\"] * df[\"TUCE\"].mean() + logit_results.params[\"PSI\"]* df[\"PSI\"].mean() + logit_results.params[\"GPA\"] * mean_gpa\n",
        "baseline_odds = math.exp(baseline_logodds)\n",
        "baseline_probability = baseline_odds / (1 + baseline_odds)\n",
        "\n",
        "# Calculate the new log-odds and probability after a 1-point increase in GPA.\n",
        "new_logodds = baseline_logodds + logodds_change\n",
        "new_odds = math.exp(new_logodds)\n",
        "new_probability = new_odds / (1 + new_odds)\n",
        "\n",
        "\n",
        "print(f\"Change in Log-odds for a 1-point increase in GPA: {logodds_change:.4f}\")\n",
        "print(f\"Odds Ratio: {odds_ratio:.4f}\")\n",
        "print(f\"Baseline Probability (at mean GPA): {baseline_probability:.4f}\")\n",
        "print(f\"New Probability (after a 1-point increase in GPA): {new_probability:.4f}\")\n",
        "\n",
        "print(f\"Probability Increase: {new_probability - baseline_probability:.4f}\")\n"
      ],
      "metadata": {
        "colab": {
          "base_uri": "https://localhost:8080/"
        },
        "id": "4gwlgBVPMZa2",
        "outputId": "35b1e07d-1878-4dbf-87d4-61779ca8b2f1"
      },
      "id": "4gwlgBVPMZa2",
      "execution_count": 26,
      "outputs": [
        {
          "output_type": "stream",
          "name": "stdout",
          "text": [
            "Change in Log-odds for a 1-point increase in GPA: 2.8261\n",
            "Odds Ratio: 16.8797\n",
            "Baseline Probability (at mean GPA): 0.2528\n",
            "New Probability (after a 1-point increase in GPA): 0.8510\n",
            "Probability Increase: 0.5982\n"
          ]
        }
      ]
    },
    {
      "cell_type": "markdown",
      "source": [
        "***Now explain the effect of variable  PSI   - participation in program ***\n",
        "\n",
        "Welcome to use code assist!\n"
      ],
      "metadata": {
        "id": "IygEHHqGRngW"
      },
      "id": "IygEHHqGRngW"
    },
    {
      "cell_type": "code",
      "source": [],
      "metadata": {
        "id": "mm8jUW0zRzp-"
      },
      "id": "mm8jUW0zRzp-",
      "execution_count": null,
      "outputs": []
    },
    {
      "cell_type": "markdown",
      "source": [
        "# **Example with Manual Coding for Reference:**\n",
        "\n",
        "Note -- there are multiple ways of doing the same thing"
      ],
      "metadata": {
        "id": "j71NkhvuOezV"
      },
      "id": "j71NkhvuOezV"
    },
    {
      "cell_type": "code",
      "execution_count": 46,
      "id": "ab653f27",
      "metadata": {
        "id": "ab653f27",
        "colab": {
          "base_uri": "https://localhost:8080/"
        },
        "outputId": "93be4199-f955-4f4b-cdc3-5db0be63d667"
      },
      "outputs": [
        {
          "output_type": "stream",
          "name": "stdout",
          "text": [
            "******************************************\n",
            "Complete Data \n",
            "    GPA  TUCE  PSI  GRADE\n",
            "0  2.66  20.0  0.0    0.0\n",
            "1  2.89  22.0  0.0    0.0\n",
            "2  3.28  24.0  0.0    0.0\n",
            "3  2.92  12.0  0.0    0.0\n",
            "4  4.00  21.0  0.0    1.0\n",
            "******************************************\n",
            "Exogenous or InDependent Variables to predict/explain: adding constant \n",
            "   const   GPA  TUCE  PSI\n",
            "0    1.0  2.66  20.0  0.0\n",
            "1    1.0  2.89  22.0  0.0\n",
            "2    1.0  3.28  24.0  0.0\n",
            "3    1.0  2.92  12.0  0.0\n",
            "4    1.0  4.00  21.0  0.0\n",
            "******************************************\n",
            "Engodenous or Dependent Variable to predict/explain: Grade\n",
            "0    0.0\n",
            "1    0.0\n",
            "2    0.0\n",
            "3    0.0\n",
            "4    1.0\n",
            "Name: GRADE, dtype: float64\n"
          ]
        }
      ],
      "source": [
        "# Load Data\n",
        "spector_data = sm.datasets.spector.load_pandas()\n",
        "\n",
        "#look at data\n",
        "print(\"******************************************\")\n",
        "print(\"Complete Data \")\n",
        "print(spector_data.data.head())\n",
        "\n",
        "# Define InDependent Vars or Exogenous Variables\n",
        "spector_data.exog = sm.add_constant(spector_data.exog)\n",
        "print(\"******************************************\")\n",
        "print(\"Exogenous or InDependent Variables to predict/explain: adding constant \")\n",
        "print(spector_data.exog.head()) # Notice our independent variable or prediction var is not here. We also added a constant\n",
        "\n",
        "# Check Engdogenous Var data\n",
        "print(\"******************************************\")\n",
        "print(\"Engodenous or Dependent Variable to predict/explain: Grade\")\n",
        "print(spector_data.endog.head())"
      ]
    },
    {
      "cell_type": "code",
      "execution_count": 49,
      "id": "74f5a033",
      "metadata": {
        "colab": {
          "base_uri": "https://localhost:8080/"
        },
        "id": "74f5a033",
        "outputId": "0916d81d-8513-4e75-97b4-6c3bc6e230d3"
      },
      "outputs": [
        {
          "output_type": "stream",
          "name": "stdout",
          "text": [
            "Optimization terminated successfully.\n",
            "         Current function value: 0.402801\n",
            "         Iterations 7\n",
            "                           Logit Regression Results                           \n",
            "==============================================================================\n",
            "Dep. Variable:                  GRADE   No. Observations:                   32\n",
            "Model:                          Logit   Df Residuals:                       28\n",
            "Method:                           MLE   Df Model:                            3\n",
            "Date:                Thu, 20 Feb 2025   Pseudo R-squ.:                  0.3740\n",
            "Time:                        21:28:17   Log-Likelihood:                -12.890\n",
            "converged:                       True   LL-Null:                       -20.592\n",
            "Covariance Type:            nonrobust   LLR p-value:                  0.001502\n",
            "==============================================================================\n",
            "                 coef    std err          z      P>|z|      [0.025      0.975]\n",
            "------------------------------------------------------------------------------\n",
            "const        -13.0213      4.931     -2.641      0.008     -22.687      -3.356\n",
            "GPA            2.8261      1.263      2.238      0.025       0.351       5.301\n",
            "TUCE           0.0952      0.142      0.672      0.501      -0.182       0.373\n",
            "PSI            2.3787      1.065      2.234      0.025       0.292       4.465\n",
            "==============================================================================\n"
          ]
        }
      ],
      "source": [
        "# Building a Logit Model\n",
        "logit_mod = sm.Logit(spector_data.endog, spector_data.exog)\n",
        "# Fit the logit_mod Model\n",
        "logit_res = logit_mod.fit()\n",
        "# Print Model Results\n",
        "print(logit_res.summary())"
      ]
    },
    {
      "cell_type": "markdown",
      "id": "05f876ce",
      "metadata": {
        "id": "05f876ce"
      },
      "source": [
        "***Interpreting effects of GPA***"
      ]
    },
    {
      "cell_type": "code",
      "source": [
        "print(\"\\n Interpretation of effect of GPA on Grade Improvement\")\n",
        "#Interpret Model  -- see effect of GPA from coefficient value\n",
        "print (\"Interpretation of Model: A change in gpa by 1 changes log odds of Grade Improvement by 2.8261\")\n",
        "# Let's convert  log odds to odds:\n",
        "print( \"Interpretation of Model: A change in gpa by 1 changes odds of Grade Improvement by:\", math.exp(2.8261))\n",
        "# Let's convert  odds to probability:\n",
        "print( \"Interpretation of Model: A change in gpa by 1 changes probability of Grade Improvement by:\", math.exp(2.8261)/(1+math.exp(2.8261)))"
      ],
      "metadata": {
        "colab": {
          "base_uri": "https://localhost:8080/"
        },
        "id": "-LVnnh7FL7ZU",
        "outputId": "785376b6-43c2-4785-e3ae-7872875638d5"
      },
      "id": "-LVnnh7FL7ZU",
      "execution_count": 63,
      "outputs": [
        {
          "output_type": "stream",
          "name": "stdout",
          "text": [
            "\n",
            " Interpretation of effect of GPA on Grade Improvement\n",
            "Interpretation of Model: A change in gpa by 1 changes log odds of Grade Improvement by 2.8261\n",
            "Interpretation of Model: A change in gpa by 1 changes odds of Grade Improvement by: 16.87950223018679\n",
            "Interpretation of Model: A change in gpa by 1 changes probability of Grade Improvement by: 0.9440700313059245\n"
          ]
        }
      ]
    },
    {
      "cell_type": "markdown",
      "source": [
        "***Interpreting effects of    TUCE and PSI ***"
      ],
      "metadata": {
        "id": "qdCKRM_VSCd-"
      },
      "id": "qdCKRM_VSCd-"
    },
    {
      "cell_type": "code",
      "source": [
        "print(\"\\n Interpretation of effect of TUCE on Grade Improvement\")\n",
        "#Interpret Model  -- see effect of TUCE from coefficient value\n",
        "print (\"Interpretation of Model: Change in TUCE by 1 changes log odds of Grade Improvement by:\",logit_res.params[\"TUCE\"])\n",
        "# Let's convert  log odds to odds:\n",
        "print( \"Interpretation of Model: A change in TUCE by 1 changes odds of Grade Improvement by:\", math.exp(logit_res.params[\"TUCE\"]))\n",
        "# Let's convert  odds to probability:\n",
        "print( \"Interpretation of Model: A change in TUCE by 1 changes probability of Grade Improvement by:\", math.exp(logit_res.params[\"TUCE\"])/(1+math.exp(logit_res.params[\"TUCE\"])))\n",
        "\n",
        "print(\"\\n Interpretation of effect of PSI on Grade Improvement\")\n",
        "#Interpret Model  -- see effect of PSI from coefficient value\n",
        "print (\"Interpretation of Model: Change in PSI by 1 changes log odds of Grade Improvement by:\",logit_res.params[\"PSI\"])\n",
        "# Let's convert  log odds to odds:\n",
        "print( \"Interpretation of Model: A change in PSI by 1 changes odds of Grade Improvement by:\", math.exp(logit_res.params[\"PSI\"]))\n",
        "# Let's convert  odds to probability:\n",
        "print( \"Interpretation of Model: A change in TUCE by 1 changes probability of Grade Improvement by:\", math.exp(logit_res.params[\"PSI\"])/(1+math.exp(logit_res.params[\"PSI\"])))"
      ],
      "metadata": {
        "colab": {
          "base_uri": "https://localhost:8080/"
        },
        "id": "41Se80X8SKeT",
        "outputId": "f405544a-91d0-4076-cfff-2a8ad52d3bc3"
      },
      "id": "41Se80X8SKeT",
      "execution_count": 62,
      "outputs": [
        {
          "output_type": "stream",
          "name": "stdout",
          "text": [
            "\n",
            " Interpretation of effect of TUCE on Grade Improvement\n",
            "Interpretation of Model: Change in TUCE by 1 changes log odds of Grade Improvement by: 0.09515766131790943\n",
            "Interpretation of Model: A change in TUCE by 1 changes odds of Grade Improvement by: 1.0998322424583313\n",
            "Interpretation of Model: A change in TUCE by 1 changes probability of Grade Improvement by: 0.5237714805115705\n",
            "\n",
            " Interpretation of effect of PSI on Grade Improvement\n",
            "Interpretation of Model: Change in PSI by 1 changes log odds of Grade Improvement by: 2.378687655093354\n",
            "Interpretation of Model: A change in PSI by 1 changes odds of Grade Improvement by: 10.790732404989537\n",
            "Interpretation of Model: A change in TUCE by 1 changes probability of Grade Improvement by: 0.9151876265483877\n"
          ]
        }
      ]
    },
    {
      "cell_type": "markdown",
      "source": [
        "\n",
        " **Recall: Interpretation for Logit Models**\n",
        "\n",
        "\n",
        "Remember Logistic regression returns information in log odds. Look up class slides on odds, log-odds and probability\n",
        "\n",
        "As X changes by some value delta, Y changes by Log-odds the Coeffecient of X times delta, i.e., if X changes by 1 unit, Y changes by Log-Odds times the coefficient of X\n",
        "\n",
        "As you interpret how a change in variable X affects Y, you must at minimum convert log odds to odds (and if you want probability, then odds to probability\n",
        "\n",
        "Here's an online calculator: http://vassarstats.net/tabs_odds.html\n",
        "\n",
        "Recall:\n",
        "\n",
        "Log-Odds = Ln(OddsRatio)\n",
        "\n",
        "OddsRatio (OR) = p / (1-p)\n",
        "\n",
        " This implies p = OR - P(OR)\n",
        "\n",
        "             i.e.,  p(1+OR)=OR\n",
        "\n",
        "             giving p=OR/(1+OR)\n",
        "\n",
        "coeffecient values in logit regressions are essentially log(OR) values\n",
        "\n",
        "Therefore you need np.exp(Coeff)= to convert to Odds Ratio\n",
        "\n",
        "i.e., change in X by 1 unit changes the Odds of Y by the np.exp(Coeff) value\n",
        "\n",
        "To convert to probability, you need p = np.exp(Coeff))/(1+np.exp(Coeff))\n",
        "\n",
        "see: https://stats.oarc.ucla.edu/other/mult-pkg/faq/general/faq-how-do-i-interpret-odds-ratios-in-logistic-regression/\n"
      ],
      "metadata": {
        "id": "D5iwLC3PAOC-"
      },
      "id": "D5iwLC3PAOC-"
    },
    {
      "cell_type": "code",
      "source": [],
      "metadata": {
        "id": "-554wk9RA7y_"
      },
      "id": "-554wk9RA7y_",
      "execution_count": null,
      "outputs": []
    }
  ],
  "metadata": {
    "kernelspec": {
      "display_name": "Python 3",
      "language": "python",
      "name": "python3"
    },
    "language_info": {
      "codemirror_mode": {
        "name": "ipython",
        "version": 3
      },
      "file_extension": ".py",
      "mimetype": "text/x-python",
      "name": "python",
      "nbconvert_exporter": "python",
      "pygments_lexer": "ipython3",
      "version": "3.8.8"
    },
    "colab": {
      "provenance": [],
      "collapsed_sections": [
        "6d583931",
        "j71NkhvuOezV"
      ]
    }
  },
  "nbformat": 4,
  "nbformat_minor": 5
}